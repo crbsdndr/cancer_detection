{
 "cells": [
  {
   "cell_type": "markdown",
   "metadata": {
    "id": "TDO9JTpGQIPN"
   },
   "source": [
    "# **Project**"
   ]
  },
  {
   "cell_type": "markdown",
   "metadata": {
    "id": "PfPnpUJTP3zX"
   },
   "source": [
    "## **Libraries**"
   ]
  },
  {
   "cell_type": "markdown",
   "metadata": {
    "id": "KwfN2uUhZPUI"
   },
   "source": [
    "### **Importing Libraries**"
   ]
  },
  {
   "cell_type": "code",
   "execution_count": 1,
   "metadata": {
    "id": "eJtKQkqJOHxd"
   },
   "outputs": [],
   "source": [
    "from sklearn.metrics import confusion_matrix, recall_score, classification_report\n",
    "from sklearn.preprocessing import LabelEncoder, MinMaxScaler\n",
    "from sklearn.model_selection import train_test_split\n",
    "from tensorflow.keras.layers import GaussianNoise\n",
    "from tensorflow.keras import regularizers\n",
    "import matplotlib.pyplot as plt\n",
    "import tensorflow as tf\n",
    "import seaborn as sns\n",
    "import pandas as pd\n",
    "import numpy as np\n",
    "import joblib\n",
    "import os"
   ]
  },
  {
   "cell_type": "markdown",
   "metadata": {
    "id": "MzUo71aeP_le"
   },
   "source": [
    "## **Collect Data**"
   ]
  },
  {
   "cell_type": "markdown",
   "metadata": {
    "id": "lI9bc5W9GU_R"
   },
   "source": [
    "### **Original**"
   ]
  },
  {
   "cell_type": "code",
   "execution_count": 2,
   "metadata": {
    "colab": {
     "base_uri": "https://localhost:8080/"
    },
    "id": "BUGAl0PUQQl2",
    "outputId": "b5c25282-8476-42df-b6d0-d56c06d1ade6"
   },
   "outputs": [
    {
     "name": "stdout",
     "output_type": "stream",
     "text": [
      "Dataset found locally.\n"
     ]
    }
   ],
   "source": [
    "lung_original = None\n",
    "\n",
    "original_path = os.path.join(os.getcwd(), \"datasets/lung_survey_original.csv\")\n",
    "\n",
    "if os.path.isfile(original_path):\n",
    "    lung_original = pd.read_csv(original_path)\n",
    "    print(\"Dataset found locally.\")\n",
    "\n",
    "else:\n",
    "    print(\"Dataset not found. Trying to access files online...\")\n",
    "    lung_original = pd.read_csv(\"https://raw.githubusercontent.com/crbsdndr/cancer_detection/refs/heads/main/datasets/lung_survey_original.csv\")\n",
    "\n",
    "    os.makedirs(\"datasets\", exist_ok=True)\n",
    "    lung_original.to_csv(original_path, index=False)\n",
    "    print(f\"Dataset successfully saved at: {original_path}\")"
   ]
  },
  {
   "cell_type": "code",
   "execution_count": 3,
   "metadata": {},
   "outputs": [
    {
     "data": {
      "text/plain": [
       "16"
      ]
     },
     "execution_count": 3,
     "metadata": {},
     "output_type": "execute_result"
    }
   ],
   "source": [
    "len(lung_original.columns)"
   ]
  },
  {
   "cell_type": "code",
   "execution_count": 4,
   "metadata": {
    "colab": {
     "base_uri": "https://localhost:8080/",
     "height": 181
    },
    "id": "8LMTXzAEgRcU",
    "outputId": "a87b71de-f014-44aa-e15d-999705c2bef2"
   },
   "outputs": [
    {
     "data": {
      "text/html": [
       "<div>\n",
       "<style scoped>\n",
       "    .dataframe tbody tr th:only-of-type {\n",
       "        vertical-align: middle;\n",
       "    }\n",
       "\n",
       "    .dataframe tbody tr th {\n",
       "        vertical-align: top;\n",
       "    }\n",
       "\n",
       "    .dataframe thead th {\n",
       "        text-align: right;\n",
       "    }\n",
       "</style>\n",
       "<table border=\"1\" class=\"dataframe\">\n",
       "  <thead>\n",
       "    <tr style=\"text-align: right;\">\n",
       "      <th></th>\n",
       "      <th>GENDER</th>\n",
       "      <th>AGE</th>\n",
       "      <th>SMOKING</th>\n",
       "      <th>YELLOW_FINGERS</th>\n",
       "      <th>ANXIETY</th>\n",
       "      <th>PEER_PRESSURE</th>\n",
       "      <th>CHRONIC DISEASE</th>\n",
       "      <th>FATIGUE</th>\n",
       "      <th>ALLERGY</th>\n",
       "      <th>WHEEZING</th>\n",
       "      <th>ALCOHOL CONSUMING</th>\n",
       "      <th>COUGHING</th>\n",
       "      <th>SHORTNESS OF BREATH</th>\n",
       "      <th>SWALLOWING DIFFICULTY</th>\n",
       "      <th>CHEST PAIN</th>\n",
       "      <th>LUNG_CANCER</th>\n",
       "    </tr>\n",
       "  </thead>\n",
       "  <tbody>\n",
       "    <tr>\n",
       "      <th>306</th>\n",
       "      <td>M</td>\n",
       "      <td>58</td>\n",
       "      <td>2</td>\n",
       "      <td>1</td>\n",
       "      <td>1</td>\n",
       "      <td>1</td>\n",
       "      <td>1</td>\n",
       "      <td>1</td>\n",
       "      <td>2</td>\n",
       "      <td>2</td>\n",
       "      <td>2</td>\n",
       "      <td>2</td>\n",
       "      <td>1</td>\n",
       "      <td>1</td>\n",
       "      <td>2</td>\n",
       "      <td>YES</td>\n",
       "    </tr>\n",
       "    <tr>\n",
       "      <th>307</th>\n",
       "      <td>M</td>\n",
       "      <td>67</td>\n",
       "      <td>2</td>\n",
       "      <td>1</td>\n",
       "      <td>2</td>\n",
       "      <td>1</td>\n",
       "      <td>1</td>\n",
       "      <td>2</td>\n",
       "      <td>2</td>\n",
       "      <td>1</td>\n",
       "      <td>2</td>\n",
       "      <td>2</td>\n",
       "      <td>2</td>\n",
       "      <td>1</td>\n",
       "      <td>2</td>\n",
       "      <td>YES</td>\n",
       "    </tr>\n",
       "    <tr>\n",
       "      <th>308</th>\n",
       "      <td>M</td>\n",
       "      <td>62</td>\n",
       "      <td>1</td>\n",
       "      <td>1</td>\n",
       "      <td>1</td>\n",
       "      <td>2</td>\n",
       "      <td>1</td>\n",
       "      <td>2</td>\n",
       "      <td>2</td>\n",
       "      <td>2</td>\n",
       "      <td>2</td>\n",
       "      <td>1</td>\n",
       "      <td>1</td>\n",
       "      <td>2</td>\n",
       "      <td>1</td>\n",
       "      <td>YES</td>\n",
       "    </tr>\n",
       "  </tbody>\n",
       "</table>\n",
       "</div>"
      ],
      "text/plain": [
       "    GENDER  AGE  SMOKING  YELLOW_FINGERS  ANXIETY  PEER_PRESSURE  \\\n",
       "306      M   58        2               1        1              1   \n",
       "307      M   67        2               1        2              1   \n",
       "308      M   62        1               1        1              2   \n",
       "\n",
       "     CHRONIC DISEASE  FATIGUE   ALLERGY   WHEEZING  ALCOHOL CONSUMING  \\\n",
       "306                1         1         2         2                  2   \n",
       "307                1         2         2         1                  2   \n",
       "308                1         2         2         2                  2   \n",
       "\n",
       "     COUGHING  SHORTNESS OF BREATH  SWALLOWING DIFFICULTY  CHEST PAIN  \\\n",
       "306         2                    1                      1           2   \n",
       "307         2                    2                      1           2   \n",
       "308         1                    1                      2           1   \n",
       "\n",
       "    LUNG_CANCER  \n",
       "306         YES  \n",
       "307         YES  \n",
       "308         YES  "
      ]
     },
     "execution_count": 4,
     "metadata": {},
     "output_type": "execute_result"
    }
   ],
   "source": [
    "lung_original.tail(3)"
   ]
  },
  {
   "cell_type": "markdown",
   "metadata": {
    "id": "sGdCb_7BBfLA"
   },
   "source": [
    "#### **Data Information**"
   ]
  },
  {
   "cell_type": "code",
   "execution_count": 5,
   "metadata": {
    "colab": {
     "base_uri": "https://localhost:8080/"
    },
    "id": "s1UregoMBjdM",
    "outputId": "d7ce52ab-3c4d-4656-9db0-0a670a7f3161"
   },
   "outputs": [
    {
     "name": "stdout",
     "output_type": "stream",
     "text": [
      "<class 'pandas.core.frame.DataFrame'>\n",
      "RangeIndex: 309 entries, 0 to 308\n",
      "Data columns (total 16 columns):\n",
      " #   Column                 Non-Null Count  Dtype \n",
      "---  ------                 --------------  ----- \n",
      " 0   GENDER                 309 non-null    object\n",
      " 1   AGE                    309 non-null    int64 \n",
      " 2   SMOKING                309 non-null    int64 \n",
      " 3   YELLOW_FINGERS         309 non-null    int64 \n",
      " 4   ANXIETY                309 non-null    int64 \n",
      " 5   PEER_PRESSURE          309 non-null    int64 \n",
      " 6   CHRONIC DISEASE        309 non-null    int64 \n",
      " 7   FATIGUE                309 non-null    int64 \n",
      " 8   ALLERGY                309 non-null    int64 \n",
      " 9   WHEEZING               309 non-null    int64 \n",
      " 10  ALCOHOL CONSUMING      309 non-null    int64 \n",
      " 11  COUGHING               309 non-null    int64 \n",
      " 12  SHORTNESS OF BREATH    309 non-null    int64 \n",
      " 13  SWALLOWING DIFFICULTY  309 non-null    int64 \n",
      " 14  CHEST PAIN             309 non-null    int64 \n",
      " 15  LUNG_CANCER            309 non-null    object\n",
      "dtypes: int64(14), object(2)\n",
      "memory usage: 38.8+ KB\n"
     ]
    }
   ],
   "source": [
    "lung_original.info()"
   ]
  },
  {
   "cell_type": "code",
   "execution_count": 6,
   "metadata": {
    "colab": {
     "base_uri": "https://localhost:8080/"
    },
    "id": "rEK0sg7rBlXu",
    "outputId": "7ee59034-f079-4770-9506-e393673e774e"
   },
   "outputs": [
    {
     "name": "stdout",
     "output_type": "stream",
     "text": [
      "Total missing values: 0\n",
      "Total duplicates: 33\n"
     ]
    }
   ],
   "source": [
    "print(f\"Total missing values: {lung_original.isna().sum().sum()}\")\n",
    "print(f\"Total duplicates: {lung_original.duplicated().sum()}\")"
   ]
  },
  {
   "cell_type": "code",
   "execution_count": 7,
   "metadata": {
    "colab": {
     "base_uri": "https://localhost:8080/",
     "height": 337
    },
    "id": "OH__iYmWBol6",
    "outputId": "d63885f3-3581-4bed-f607-f006b0bc9dcd"
   },
   "outputs": [
    {
     "data": {
      "text/html": [
       "<div>\n",
       "<style scoped>\n",
       "    .dataframe tbody tr th:only-of-type {\n",
       "        vertical-align: middle;\n",
       "    }\n",
       "\n",
       "    .dataframe tbody tr th {\n",
       "        vertical-align: top;\n",
       "    }\n",
       "\n",
       "    .dataframe thead th {\n",
       "        text-align: right;\n",
       "    }\n",
       "</style>\n",
       "<table border=\"1\" class=\"dataframe\">\n",
       "  <thead>\n",
       "    <tr style=\"text-align: right;\">\n",
       "      <th></th>\n",
       "      <th>AGE</th>\n",
       "      <th>SMOKING</th>\n",
       "      <th>YELLOW_FINGERS</th>\n",
       "      <th>ANXIETY</th>\n",
       "      <th>PEER_PRESSURE</th>\n",
       "      <th>CHRONIC DISEASE</th>\n",
       "      <th>FATIGUE</th>\n",
       "      <th>ALLERGY</th>\n",
       "      <th>WHEEZING</th>\n",
       "      <th>ALCOHOL CONSUMING</th>\n",
       "      <th>COUGHING</th>\n",
       "      <th>SHORTNESS OF BREATH</th>\n",
       "      <th>SWALLOWING DIFFICULTY</th>\n",
       "      <th>CHEST PAIN</th>\n",
       "    </tr>\n",
       "  </thead>\n",
       "  <tbody>\n",
       "    <tr>\n",
       "      <th>count</th>\n",
       "      <td>309.000000</td>\n",
       "      <td>309.000000</td>\n",
       "      <td>309.000000</td>\n",
       "      <td>309.000000</td>\n",
       "      <td>309.000000</td>\n",
       "      <td>309.000000</td>\n",
       "      <td>309.000000</td>\n",
       "      <td>309.000000</td>\n",
       "      <td>309.000000</td>\n",
       "      <td>309.000000</td>\n",
       "      <td>309.000000</td>\n",
       "      <td>309.000000</td>\n",
       "      <td>309.000000</td>\n",
       "      <td>309.000000</td>\n",
       "    </tr>\n",
       "    <tr>\n",
       "      <th>mean</th>\n",
       "      <td>62.673139</td>\n",
       "      <td>1.563107</td>\n",
       "      <td>1.569579</td>\n",
       "      <td>1.498382</td>\n",
       "      <td>1.501618</td>\n",
       "      <td>1.504854</td>\n",
       "      <td>1.673139</td>\n",
       "      <td>1.556634</td>\n",
       "      <td>1.556634</td>\n",
       "      <td>1.556634</td>\n",
       "      <td>1.579288</td>\n",
       "      <td>1.640777</td>\n",
       "      <td>1.469256</td>\n",
       "      <td>1.556634</td>\n",
       "    </tr>\n",
       "    <tr>\n",
       "      <th>std</th>\n",
       "      <td>8.210301</td>\n",
       "      <td>0.496806</td>\n",
       "      <td>0.495938</td>\n",
       "      <td>0.500808</td>\n",
       "      <td>0.500808</td>\n",
       "      <td>0.500787</td>\n",
       "      <td>0.469827</td>\n",
       "      <td>0.497588</td>\n",
       "      <td>0.497588</td>\n",
       "      <td>0.497588</td>\n",
       "      <td>0.494474</td>\n",
       "      <td>0.480551</td>\n",
       "      <td>0.499863</td>\n",
       "      <td>0.497588</td>\n",
       "    </tr>\n",
       "    <tr>\n",
       "      <th>min</th>\n",
       "      <td>21.000000</td>\n",
       "      <td>1.000000</td>\n",
       "      <td>1.000000</td>\n",
       "      <td>1.000000</td>\n",
       "      <td>1.000000</td>\n",
       "      <td>1.000000</td>\n",
       "      <td>1.000000</td>\n",
       "      <td>1.000000</td>\n",
       "      <td>1.000000</td>\n",
       "      <td>1.000000</td>\n",
       "      <td>1.000000</td>\n",
       "      <td>1.000000</td>\n",
       "      <td>1.000000</td>\n",
       "      <td>1.000000</td>\n",
       "    </tr>\n",
       "    <tr>\n",
       "      <th>25%</th>\n",
       "      <td>57.000000</td>\n",
       "      <td>1.000000</td>\n",
       "      <td>1.000000</td>\n",
       "      <td>1.000000</td>\n",
       "      <td>1.000000</td>\n",
       "      <td>1.000000</td>\n",
       "      <td>1.000000</td>\n",
       "      <td>1.000000</td>\n",
       "      <td>1.000000</td>\n",
       "      <td>1.000000</td>\n",
       "      <td>1.000000</td>\n",
       "      <td>1.000000</td>\n",
       "      <td>1.000000</td>\n",
       "      <td>1.000000</td>\n",
       "    </tr>\n",
       "    <tr>\n",
       "      <th>50%</th>\n",
       "      <td>62.000000</td>\n",
       "      <td>2.000000</td>\n",
       "      <td>2.000000</td>\n",
       "      <td>1.000000</td>\n",
       "      <td>2.000000</td>\n",
       "      <td>2.000000</td>\n",
       "      <td>2.000000</td>\n",
       "      <td>2.000000</td>\n",
       "      <td>2.000000</td>\n",
       "      <td>2.000000</td>\n",
       "      <td>2.000000</td>\n",
       "      <td>2.000000</td>\n",
       "      <td>1.000000</td>\n",
       "      <td>2.000000</td>\n",
       "    </tr>\n",
       "    <tr>\n",
       "      <th>75%</th>\n",
       "      <td>69.000000</td>\n",
       "      <td>2.000000</td>\n",
       "      <td>2.000000</td>\n",
       "      <td>2.000000</td>\n",
       "      <td>2.000000</td>\n",
       "      <td>2.000000</td>\n",
       "      <td>2.000000</td>\n",
       "      <td>2.000000</td>\n",
       "      <td>2.000000</td>\n",
       "      <td>2.000000</td>\n",
       "      <td>2.000000</td>\n",
       "      <td>2.000000</td>\n",
       "      <td>2.000000</td>\n",
       "      <td>2.000000</td>\n",
       "    </tr>\n",
       "    <tr>\n",
       "      <th>max</th>\n",
       "      <td>87.000000</td>\n",
       "      <td>2.000000</td>\n",
       "      <td>2.000000</td>\n",
       "      <td>2.000000</td>\n",
       "      <td>2.000000</td>\n",
       "      <td>2.000000</td>\n",
       "      <td>2.000000</td>\n",
       "      <td>2.000000</td>\n",
       "      <td>2.000000</td>\n",
       "      <td>2.000000</td>\n",
       "      <td>2.000000</td>\n",
       "      <td>2.000000</td>\n",
       "      <td>2.000000</td>\n",
       "      <td>2.000000</td>\n",
       "    </tr>\n",
       "  </tbody>\n",
       "</table>\n",
       "</div>"
      ],
      "text/plain": [
       "              AGE     SMOKING  YELLOW_FINGERS     ANXIETY  PEER_PRESSURE  \\\n",
       "count  309.000000  309.000000      309.000000  309.000000     309.000000   \n",
       "mean    62.673139    1.563107        1.569579    1.498382       1.501618   \n",
       "std      8.210301    0.496806        0.495938    0.500808       0.500808   \n",
       "min     21.000000    1.000000        1.000000    1.000000       1.000000   \n",
       "25%     57.000000    1.000000        1.000000    1.000000       1.000000   \n",
       "50%     62.000000    2.000000        2.000000    1.000000       2.000000   \n",
       "75%     69.000000    2.000000        2.000000    2.000000       2.000000   \n",
       "max     87.000000    2.000000        2.000000    2.000000       2.000000   \n",
       "\n",
       "       CHRONIC DISEASE    FATIGUE     ALLERGY     WHEEZING  ALCOHOL CONSUMING  \\\n",
       "count       309.000000  309.000000  309.000000  309.000000         309.000000   \n",
       "mean          1.504854    1.673139    1.556634    1.556634           1.556634   \n",
       "std           0.500787    0.469827    0.497588    0.497588           0.497588   \n",
       "min           1.000000    1.000000    1.000000    1.000000           1.000000   \n",
       "25%           1.000000    1.000000    1.000000    1.000000           1.000000   \n",
       "50%           2.000000    2.000000    2.000000    2.000000           2.000000   \n",
       "75%           2.000000    2.000000    2.000000    2.000000           2.000000   \n",
       "max           2.000000    2.000000    2.000000    2.000000           2.000000   \n",
       "\n",
       "         COUGHING  SHORTNESS OF BREATH  SWALLOWING DIFFICULTY  CHEST PAIN  \n",
       "count  309.000000           309.000000             309.000000  309.000000  \n",
       "mean     1.579288             1.640777               1.469256    1.556634  \n",
       "std      0.494474             0.480551               0.499863    0.497588  \n",
       "min      1.000000             1.000000               1.000000    1.000000  \n",
       "25%      1.000000             1.000000               1.000000    1.000000  \n",
       "50%      2.000000             2.000000               1.000000    2.000000  \n",
       "75%      2.000000             2.000000               2.000000    2.000000  \n",
       "max      2.000000             2.000000               2.000000    2.000000  "
      ]
     },
     "execution_count": 7,
     "metadata": {},
     "output_type": "execute_result"
    }
   ],
   "source": [
    "lung_original.describe()"
   ]
  },
  {
   "cell_type": "markdown",
   "metadata": {
    "id": "vRpexhbrGssz"
   },
   "source": [
    "### **Synthetics**"
   ]
  },
  {
   "cell_type": "code",
   "execution_count": 8,
   "metadata": {
    "colab": {
     "base_uri": "https://localhost:8080/"
    },
    "id": "QMIBWvEXG6dj",
    "outputId": "da70523b-6d3b-4ac4-e5d9-5a34477cca6d"
   },
   "outputs": [
    {
     "name": "stdout",
     "output_type": "stream",
     "text": [
      "Dataset found locally.\n"
     ]
    }
   ],
   "source": [
    "lung_synthetics = None\n",
    "\n",
    "synthetics_path = os.path.join(os.getcwd(), \"datasets/lung_survey_synthetics.csv\")\n",
    "\n",
    "if os.path.isfile(synthetics_path):\n",
    "    lung_synthetics = pd.read_csv(synthetics_path)\n",
    "    print(\"Dataset found locally.\")\n",
    "else:\n",
    "    print(\"Dataset not found. Trying to access files online...\")\n",
    "    lung_synthetics = pd.read_csv(\"https://raw.githubusercontent.com/crbsdndr/cancer_detection/refs/heads/main/datasets/lung_survey_synthetics.csv\")\n",
    "\n",
    "    os.makedirs(\"datasets\", exist_ok=True)\n",
    "    lung_synthetics.to_csv(synthetics_path, index=False)\n",
    "    print(f\"Dataset successfully saved at: {synthetics_path}\")"
   ]
  },
  {
   "cell_type": "code",
   "execution_count": 9,
   "metadata": {
    "colab": {
     "base_uri": "https://localhost:8080/",
     "height": 181
    },
    "id": "uZvpUvOUgNiH",
    "outputId": "9a54d92f-3814-4c6b-bd77-559df6610b8b"
   },
   "outputs": [
    {
     "data": {
      "text/html": [
       "<div>\n",
       "<style scoped>\n",
       "    .dataframe tbody tr th:only-of-type {\n",
       "        vertical-align: middle;\n",
       "    }\n",
       "\n",
       "    .dataframe tbody tr th {\n",
       "        vertical-align: top;\n",
       "    }\n",
       "\n",
       "    .dataframe thead th {\n",
       "        text-align: right;\n",
       "    }\n",
       "</style>\n",
       "<table border=\"1\" class=\"dataframe\">\n",
       "  <thead>\n",
       "    <tr style=\"text-align: right;\">\n",
       "      <th></th>\n",
       "      <th>GENDER</th>\n",
       "      <th>AGE</th>\n",
       "      <th>SMOKING</th>\n",
       "      <th>YELLOW_FINGERS</th>\n",
       "      <th>ANXIETY</th>\n",
       "      <th>PEER_PRESSURE</th>\n",
       "      <th>CHRONIC DISEASE</th>\n",
       "      <th>FATIGUE</th>\n",
       "      <th>ALLERGY</th>\n",
       "      <th>WHEEZING</th>\n",
       "      <th>ALCOHOL CONSUMING</th>\n",
       "      <th>COUGHING</th>\n",
       "      <th>SHORTNESS OF BREATH</th>\n",
       "      <th>SWALLOWING DIFFICULTY</th>\n",
       "      <th>CHEST PAIN</th>\n",
       "      <th>LUNG_CANCER</th>\n",
       "    </tr>\n",
       "  </thead>\n",
       "  <tbody>\n",
       "    <tr>\n",
       "      <th>797</th>\n",
       "      <td>F</td>\n",
       "      <td>96</td>\n",
       "      <td>1</td>\n",
       "      <td>1</td>\n",
       "      <td>2</td>\n",
       "      <td>2</td>\n",
       "      <td>2</td>\n",
       "      <td>2</td>\n",
       "      <td>1</td>\n",
       "      <td>1</td>\n",
       "      <td>2</td>\n",
       "      <td>1</td>\n",
       "      <td>1</td>\n",
       "      <td>2</td>\n",
       "      <td>1</td>\n",
       "      <td>YES</td>\n",
       "    </tr>\n",
       "    <tr>\n",
       "      <th>798</th>\n",
       "      <td>M</td>\n",
       "      <td>89</td>\n",
       "      <td>1</td>\n",
       "      <td>2</td>\n",
       "      <td>1</td>\n",
       "      <td>2</td>\n",
       "      <td>2</td>\n",
       "      <td>1</td>\n",
       "      <td>2</td>\n",
       "      <td>1</td>\n",
       "      <td>2</td>\n",
       "      <td>2</td>\n",
       "      <td>1</td>\n",
       "      <td>2</td>\n",
       "      <td>1</td>\n",
       "      <td>YES</td>\n",
       "    </tr>\n",
       "    <tr>\n",
       "      <th>799</th>\n",
       "      <td>F</td>\n",
       "      <td>94</td>\n",
       "      <td>2</td>\n",
       "      <td>1</td>\n",
       "      <td>2</td>\n",
       "      <td>1</td>\n",
       "      <td>1</td>\n",
       "      <td>1</td>\n",
       "      <td>2</td>\n",
       "      <td>1</td>\n",
       "      <td>1</td>\n",
       "      <td>2</td>\n",
       "      <td>2</td>\n",
       "      <td>2</td>\n",
       "      <td>2</td>\n",
       "      <td>YES</td>\n",
       "    </tr>\n",
       "  </tbody>\n",
       "</table>\n",
       "</div>"
      ],
      "text/plain": [
       "    GENDER  AGE  SMOKING  YELLOW_FINGERS  ANXIETY  PEER_PRESSURE  \\\n",
       "797      F   96        1               1        2              2   \n",
       "798      M   89        1               2        1              2   \n",
       "799      F   94        2               1        2              1   \n",
       "\n",
       "     CHRONIC DISEASE  FATIGUE  ALLERGY  WHEEZING  ALCOHOL CONSUMING  COUGHING  \\\n",
       "797                2        2        1         1                  2         1   \n",
       "798                2        1        2         1                  2         2   \n",
       "799                1        1        2         1                  1         2   \n",
       "\n",
       "     SHORTNESS OF BREATH  SWALLOWING DIFFICULTY  CHEST PAIN LUNG_CANCER  \n",
       "797                    1                      2           1         YES  \n",
       "798                    1                      2           1         YES  \n",
       "799                    2                      2           2         YES  "
      ]
     },
     "execution_count": 9,
     "metadata": {},
     "output_type": "execute_result"
    }
   ],
   "source": [
    "lung_synthetics.tail(3)"
   ]
  },
  {
   "cell_type": "markdown",
   "metadata": {
    "id": "tDWMEKKkG-LO"
   },
   "source": [
    "#### **Data Information**"
   ]
  },
  {
   "cell_type": "code",
   "execution_count": 10,
   "metadata": {
    "colab": {
     "base_uri": "https://localhost:8080/"
    },
    "id": "HdXPanpKHAUJ",
    "outputId": "6dac94ca-67a5-4a27-eaa4-c6106afcd722"
   },
   "outputs": [
    {
     "name": "stdout",
     "output_type": "stream",
     "text": [
      "<class 'pandas.core.frame.DataFrame'>\n",
      "RangeIndex: 800 entries, 0 to 799\n",
      "Data columns (total 16 columns):\n",
      " #   Column                 Non-Null Count  Dtype \n",
      "---  ------                 --------------  ----- \n",
      " 0   GENDER                 800 non-null    object\n",
      " 1   AGE                    800 non-null    int64 \n",
      " 2   SMOKING                800 non-null    int64 \n",
      " 3   YELLOW_FINGERS         800 non-null    int64 \n",
      " 4   ANXIETY                800 non-null    int64 \n",
      " 5   PEER_PRESSURE          800 non-null    int64 \n",
      " 6   CHRONIC DISEASE        800 non-null    int64 \n",
      " 7   FATIGUE                800 non-null    int64 \n",
      " 8   ALLERGY                800 non-null    int64 \n",
      " 9   WHEEZING               800 non-null    int64 \n",
      " 10  ALCOHOL CONSUMING      800 non-null    int64 \n",
      " 11  COUGHING               800 non-null    int64 \n",
      " 12  SHORTNESS OF BREATH    800 non-null    int64 \n",
      " 13  SWALLOWING DIFFICULTY  800 non-null    int64 \n",
      " 14  CHEST PAIN             800 non-null    int64 \n",
      " 15  LUNG_CANCER            800 non-null    object\n",
      "dtypes: int64(14), object(2)\n",
      "memory usage: 100.1+ KB\n"
     ]
    }
   ],
   "source": [
    "lung_synthetics.info()"
   ]
  },
  {
   "cell_type": "code",
   "execution_count": 11,
   "metadata": {
    "colab": {
     "base_uri": "https://localhost:8080/"
    },
    "id": "IzqNYnDaHBwq",
    "outputId": "22170031-d71e-4704-9cc8-61fe1bfc0736"
   },
   "outputs": [
    {
     "name": "stdout",
     "output_type": "stream",
     "text": [
      "Total missing values: 0\n",
      "Total duplicates: 8\n"
     ]
    }
   ],
   "source": [
    "print(f\"Total missing values: {lung_synthetics.isna().sum().sum()}\")\n",
    "print(f\"Total duplicates: {lung_synthetics.duplicated().sum()}\")"
   ]
  },
  {
   "cell_type": "code",
   "execution_count": 12,
   "metadata": {
    "colab": {
     "base_uri": "https://localhost:8080/",
     "height": 337
    },
    "id": "zKUhza4UHCoK",
    "outputId": "ebb241e4-d69a-4298-e9a7-6d6301740b2d"
   },
   "outputs": [
    {
     "data": {
      "text/html": [
       "<div>\n",
       "<style scoped>\n",
       "    .dataframe tbody tr th:only-of-type {\n",
       "        vertical-align: middle;\n",
       "    }\n",
       "\n",
       "    .dataframe tbody tr th {\n",
       "        vertical-align: top;\n",
       "    }\n",
       "\n",
       "    .dataframe thead th {\n",
       "        text-align: right;\n",
       "    }\n",
       "</style>\n",
       "<table border=\"1\" class=\"dataframe\">\n",
       "  <thead>\n",
       "    <tr style=\"text-align: right;\">\n",
       "      <th></th>\n",
       "      <th>AGE</th>\n",
       "      <th>SMOKING</th>\n",
       "      <th>YELLOW_FINGERS</th>\n",
       "      <th>ANXIETY</th>\n",
       "      <th>PEER_PRESSURE</th>\n",
       "      <th>CHRONIC DISEASE</th>\n",
       "      <th>FATIGUE</th>\n",
       "      <th>ALLERGY</th>\n",
       "      <th>WHEEZING</th>\n",
       "      <th>ALCOHOL CONSUMING</th>\n",
       "      <th>COUGHING</th>\n",
       "      <th>SHORTNESS OF BREATH</th>\n",
       "      <th>SWALLOWING DIFFICULTY</th>\n",
       "      <th>CHEST PAIN</th>\n",
       "    </tr>\n",
       "  </thead>\n",
       "  <tbody>\n",
       "    <tr>\n",
       "      <th>count</th>\n",
       "      <td>800.000000</td>\n",
       "      <td>800.000000</td>\n",
       "      <td>800.000000</td>\n",
       "      <td>800.000000</td>\n",
       "      <td>800.000000</td>\n",
       "      <td>800.000000</td>\n",
       "      <td>800.000000</td>\n",
       "      <td>800.00000</td>\n",
       "      <td>800.000000</td>\n",
       "      <td>800.000000</td>\n",
       "      <td>800.00000</td>\n",
       "      <td>800.000000</td>\n",
       "      <td>800.000000</td>\n",
       "      <td>800.000000</td>\n",
       "    </tr>\n",
       "    <tr>\n",
       "      <th>mean</th>\n",
       "      <td>49.633750</td>\n",
       "      <td>1.412500</td>\n",
       "      <td>1.397500</td>\n",
       "      <td>1.433750</td>\n",
       "      <td>1.421250</td>\n",
       "      <td>1.396250</td>\n",
       "      <td>1.437500</td>\n",
       "      <td>1.41500</td>\n",
       "      <td>1.410000</td>\n",
       "      <td>1.346250</td>\n",
       "      <td>1.43625</td>\n",
       "      <td>1.448750</td>\n",
       "      <td>1.416250</td>\n",
       "      <td>1.447500</td>\n",
       "    </tr>\n",
       "    <tr>\n",
       "      <th>std</th>\n",
       "      <td>26.724096</td>\n",
       "      <td>0.492592</td>\n",
       "      <td>0.489687</td>\n",
       "      <td>0.495902</td>\n",
       "      <td>0.494068</td>\n",
       "      <td>0.489423</td>\n",
       "      <td>0.496389</td>\n",
       "      <td>0.49303</td>\n",
       "      <td>0.492141</td>\n",
       "      <td>0.476072</td>\n",
       "      <td>0.49623</td>\n",
       "      <td>0.497678</td>\n",
       "      <td>0.493244</td>\n",
       "      <td>0.497547</td>\n",
       "    </tr>\n",
       "    <tr>\n",
       "      <th>min</th>\n",
       "      <td>1.000000</td>\n",
       "      <td>1.000000</td>\n",
       "      <td>1.000000</td>\n",
       "      <td>1.000000</td>\n",
       "      <td>1.000000</td>\n",
       "      <td>1.000000</td>\n",
       "      <td>1.000000</td>\n",
       "      <td>1.00000</td>\n",
       "      <td>1.000000</td>\n",
       "      <td>1.000000</td>\n",
       "      <td>1.00000</td>\n",
       "      <td>1.000000</td>\n",
       "      <td>1.000000</td>\n",
       "      <td>1.000000</td>\n",
       "    </tr>\n",
       "    <tr>\n",
       "      <th>25%</th>\n",
       "      <td>25.750000</td>\n",
       "      <td>1.000000</td>\n",
       "      <td>1.000000</td>\n",
       "      <td>1.000000</td>\n",
       "      <td>1.000000</td>\n",
       "      <td>1.000000</td>\n",
       "      <td>1.000000</td>\n",
       "      <td>1.00000</td>\n",
       "      <td>1.000000</td>\n",
       "      <td>1.000000</td>\n",
       "      <td>1.00000</td>\n",
       "      <td>1.000000</td>\n",
       "      <td>1.000000</td>\n",
       "      <td>1.000000</td>\n",
       "    </tr>\n",
       "    <tr>\n",
       "      <th>50%</th>\n",
       "      <td>52.500000</td>\n",
       "      <td>1.000000</td>\n",
       "      <td>1.000000</td>\n",
       "      <td>1.000000</td>\n",
       "      <td>1.000000</td>\n",
       "      <td>1.000000</td>\n",
       "      <td>1.000000</td>\n",
       "      <td>1.00000</td>\n",
       "      <td>1.000000</td>\n",
       "      <td>1.000000</td>\n",
       "      <td>1.00000</td>\n",
       "      <td>1.000000</td>\n",
       "      <td>1.000000</td>\n",
       "      <td>1.000000</td>\n",
       "    </tr>\n",
       "    <tr>\n",
       "      <th>75%</th>\n",
       "      <td>76.000000</td>\n",
       "      <td>2.000000</td>\n",
       "      <td>2.000000</td>\n",
       "      <td>2.000000</td>\n",
       "      <td>2.000000</td>\n",
       "      <td>2.000000</td>\n",
       "      <td>2.000000</td>\n",
       "      <td>2.00000</td>\n",
       "      <td>2.000000</td>\n",
       "      <td>2.000000</td>\n",
       "      <td>2.00000</td>\n",
       "      <td>2.000000</td>\n",
       "      <td>2.000000</td>\n",
       "      <td>2.000000</td>\n",
       "    </tr>\n",
       "    <tr>\n",
       "      <th>max</th>\n",
       "      <td>99.000000</td>\n",
       "      <td>2.000000</td>\n",
       "      <td>2.000000</td>\n",
       "      <td>2.000000</td>\n",
       "      <td>2.000000</td>\n",
       "      <td>2.000000</td>\n",
       "      <td>2.000000</td>\n",
       "      <td>2.00000</td>\n",
       "      <td>2.000000</td>\n",
       "      <td>2.000000</td>\n",
       "      <td>2.00000</td>\n",
       "      <td>2.000000</td>\n",
       "      <td>2.000000</td>\n",
       "      <td>2.000000</td>\n",
       "    </tr>\n",
       "  </tbody>\n",
       "</table>\n",
       "</div>"
      ],
      "text/plain": [
       "              AGE     SMOKING  YELLOW_FINGERS     ANXIETY  PEER_PRESSURE  \\\n",
       "count  800.000000  800.000000      800.000000  800.000000     800.000000   \n",
       "mean    49.633750    1.412500        1.397500    1.433750       1.421250   \n",
       "std     26.724096    0.492592        0.489687    0.495902       0.494068   \n",
       "min      1.000000    1.000000        1.000000    1.000000       1.000000   \n",
       "25%     25.750000    1.000000        1.000000    1.000000       1.000000   \n",
       "50%     52.500000    1.000000        1.000000    1.000000       1.000000   \n",
       "75%     76.000000    2.000000        2.000000    2.000000       2.000000   \n",
       "max     99.000000    2.000000        2.000000    2.000000       2.000000   \n",
       "\n",
       "       CHRONIC DISEASE     FATIGUE    ALLERGY    WHEEZING  ALCOHOL CONSUMING  \\\n",
       "count       800.000000  800.000000  800.00000  800.000000         800.000000   \n",
       "mean          1.396250    1.437500    1.41500    1.410000           1.346250   \n",
       "std           0.489423    0.496389    0.49303    0.492141           0.476072   \n",
       "min           1.000000    1.000000    1.00000    1.000000           1.000000   \n",
       "25%           1.000000    1.000000    1.00000    1.000000           1.000000   \n",
       "50%           1.000000    1.000000    1.00000    1.000000           1.000000   \n",
       "75%           2.000000    2.000000    2.00000    2.000000           2.000000   \n",
       "max           2.000000    2.000000    2.00000    2.000000           2.000000   \n",
       "\n",
       "        COUGHING  SHORTNESS OF BREATH  SWALLOWING DIFFICULTY  CHEST PAIN  \n",
       "count  800.00000           800.000000             800.000000  800.000000  \n",
       "mean     1.43625             1.448750               1.416250    1.447500  \n",
       "std      0.49623             0.497678               0.493244    0.497547  \n",
       "min      1.00000             1.000000               1.000000    1.000000  \n",
       "25%      1.00000             1.000000               1.000000    1.000000  \n",
       "50%      1.00000             1.000000               1.000000    1.000000  \n",
       "75%      2.00000             2.000000               2.000000    2.000000  \n",
       "max      2.00000             2.000000               2.000000    2.000000  "
      ]
     },
     "execution_count": 12,
     "metadata": {},
     "output_type": "execute_result"
    }
   ],
   "source": [
    "lung_synthetics.describe()"
   ]
  },
  {
   "cell_type": "markdown",
   "metadata": {
    "id": "ly-TVvfrJCjW"
   },
   "source": [
    "### **Combining**"
   ]
  },
  {
   "cell_type": "code",
   "execution_count": 13,
   "metadata": {
    "id": "6am8ws9fJHm7"
   },
   "outputs": [],
   "source": [
    "x_original = lung_original.drop(columns=[\"LUNG_CANCER\"])\n",
    "y_original = lung_original[\"LUNG_CANCER\"]\n",
    "\n",
    "x_validation, x_test, y_validation, y_test = train_test_split(\n",
    "    x_original, y_original,\n",
    "    test_size=0.4,\n",
    "    random_state=42,\n",
    "    stratify=y_original\n",
    ")\n",
    "\n",
    "validation_data = pd.concat([x_validation, y_validation], axis=1)\n",
    "test_data = pd.concat([x_test, y_test], axis=1)\n",
    "\n",
    "test_data.to_csv(\"./datasets/lung_survey_test.csv\", index=False)\n",
    "\n",
    "del x_test, y_test, test_data,"
   ]
  },
  {
   "cell_type": "markdown",
   "metadata": {
    "id": "iPD0Ih5FSdYp"
   },
   "source": [
    "## **Data Preprocessing**\n",
    "\n"
   ]
  },
  {
   "cell_type": "markdown",
   "metadata": {
    "id": "BXpHP6FCqrrX"
   },
   "source": [
    "### **Setting Up**"
   ]
  },
  {
   "cell_type": "code",
   "execution_count": 14,
   "metadata": {
    "id": "eTfxk0hIqu3u"
   },
   "outputs": [],
   "source": [
    "def format_(*, dataset):\n",
    "    dataset_copy = dataset.copy()\n",
    "\n",
    "    dataset_copy.columns = [column.strip().lower().replace(\" \", \"_\") for column in dataset_copy.columns]\n",
    "    print(\"Success\")\n",
    "\n",
    "    return dataset_copy\n",
    "\n",
    "def drop_duplicates_(*, dataset):\n",
    "    dataset_copy = dataset.copy()\n",
    "    dataset_copy.drop_duplicates(inplace=True)\n",
    "    dataset_copy.reset_index(drop=True, inplace=True)\n",
    "    print(\"Success\")\n",
    "\n",
    "    print(f\"Total duplicates: {dataset_copy.duplicated().sum()}\")\n",
    "\n",
    "    return dataset_copy\n",
    "\n",
    "def scale(*, dataset, column_):\n",
    "    dataset_copy = dataset.copy()\n",
    "\n",
    "    scaler = MinMaxScaler()\n",
    "\n",
    "    dataset_copy[column_] = scaler.fit_transform(dataset_copy[[column_]])\n",
    "\n",
    "    print(f\"Column {column_} succesfully scaled in the given dataset.\")\n",
    "\n",
    "    return scaler, dataset_copy\n",
    "\n",
    "def encoding(*, dataset, column_):\n",
    "\n",
    "    label_encoder = LabelEncoder()\n",
    "\n",
    "    encoded_column = dataset[column_].copy()\n",
    "    dataset[column_] = label_encoder.fit_transform(encoded_column)\n",
    "\n",
    "    print(f\"Column {column_} succesfully encoded in the given dataset.\")\n",
    "    return label_encoder, dataset"
   ]
  },
  {
   "cell_type": "markdown",
   "metadata": {},
   "source": [
    "### **Clean Data**"
   ]
  },
  {
   "cell_type": "code",
   "execution_count": 15,
   "metadata": {},
   "outputs": [
    {
     "name": "stdout",
     "output_type": "stream",
     "text": [
      "Success\n",
      "Total duplicates: 0\n",
      "Success\n",
      "Total duplicates: 0\n"
     ]
    }
   ],
   "source": [
    "lung_cleaned_train = lung_synthetics.copy()\n",
    "\n",
    "lung_cleaned_train = drop_duplicates_(dataset=lung_cleaned_train)\n",
    "\n",
    "lung_cleaned_validation = validation_data.copy()\n",
    "\n",
    "lung_cleaned_validation = drop_duplicates_(dataset=lung_cleaned_validation)"
   ]
  },
  {
   "cell_type": "markdown",
   "metadata": {},
   "source": [
    "### **Scaling**"
   ]
  },
  {
   "cell_type": "code",
   "execution_count": 18,
   "metadata": {},
   "outputs": [
    {
     "name": "stdout",
     "output_type": "stream",
     "text": [
      "Column AGE succesfully scaled in the given dataset.\n",
      "Column age succesfully scaled in the given dataset.\n"
     ]
    }
   ],
   "source": [
    "lung_scaled_train = lung_cleaned_train.copy()\n",
    "\n",
    "scaler, lung_scaled_train = scale(dataset=lung_scaled_train, column_=\"AGE\")\n",
    "lung_scaled_train[lung_scaled_train.drop(columns=[\"AGE\", \"LUNG_CANCER\", \"GENDER\"]).columns] = lung_scaled_train[\n",
    "    lung_scaled_train.drop(columns=[\"AGE\", \"LUNG_CANCER\", \"GENDER\"]).columns\n",
    "] - 1\n",
    "\n",
    "lung_scaled_validation = lung_cleaned_validation.copy()\n",
    "\n",
    "lung_scaled_validation[\"AGE\"] = scaler.transform(lung_scaled_validation[[\"AGE\"]])\n",
    "print(\"Column age succesfully scaled in the given dataset.\")\n",
    "lung_scaled_validation[lung_scaled_validation.drop(columns=[\"AGE\", \"LUNG_CANCER\", \"GENDER\"]).columns] = lung_scaled_validation[\n",
    "    lung_scaled_validation.drop(columns=[\"AGE\", \"LUNG_CANCER\", \"GENDER\"]).columns\n",
    "] - 1"
   ]
  },
  {
   "cell_type": "markdown",
   "metadata": {},
   "source": [
    "### **Encoding**"
   ]
  },
  {
   "cell_type": "code",
   "execution_count": 20,
   "metadata": {},
   "outputs": [
    {
     "name": "stdout",
     "output_type": "stream",
     "text": [
      "Column LUNG_CANCER succesfully encoded in the given dataset.\n",
      "Column LUNG_CANCER succesfully encoded in the given dataset.\n"
     ]
    }
   ],
   "source": [
    "lung_encoded_train = lung_scaled_train.copy()\n",
    "\n",
    "label_encoder, lung_encoded_train = encoding(dataset=lung_encoded_train, column_=\"LUNG_CANCER\")\n",
    "\n",
    "lung_encoded_validation = lung_scaled_validation.copy()\n",
    "\n",
    "lung_encoded_validation[\"LUNG_CANCER\"] = label_encoder.transform(lung_encoded_validation[\"LUNG_CANCER\"])\n",
    "print(\"Column LUNG_CANCER succesfully encoded in the given dataset.\")"
   ]
  },
  {
   "cell_type": "markdown",
   "metadata": {
    "id": "9zJfHvGJOXCm"
   },
   "source": [
    "### **Action from Data Exploration**"
   ]
  },
  {
   "cell_type": "code",
   "execution_count": 21,
   "metadata": {
    "id": "nxxgqUnJOalL"
   },
   "outputs": [],
   "source": [
    "lung_explored_train = lung_encoded_train.copy()\n",
    "lung_explored_train.drop(\n",
    "    columns=[\"GENDER\"], inplace=True\n",
    ")\n",
    "\n",
    "lung_explored_validation = lung_encoded_validation.copy()\n",
    "lung_explored_validation.drop(\n",
    "    columns=[\"GENDER\"], inplace=True\n",
    ")"
   ]
  },
  {
   "cell_type": "markdown",
   "metadata": {
    "id": "ejtULK1ZTCq1"
   },
   "source": [
    "### **Format Data**"
   ]
  },
  {
   "cell_type": "code",
   "execution_count": 22,
   "metadata": {
    "colab": {
     "base_uri": "https://localhost:8080/"
    },
    "id": "pCcmSfEMTcsT",
    "outputId": "5b71c7db-cdf2-43f8-beec-70e71cd16498"
   },
   "outputs": [
    {
     "name": "stdout",
     "output_type": "stream",
     "text": [
      "Success\n",
      "Column name in the training data: Index(['age', 'smoking', 'yellow_fingers', 'anxiety', 'peer_pressure',\n",
      "       'chronic_disease', 'fatigue', 'allergy', 'wheezing',\n",
      "       'alcohol_consuming', 'coughing', 'shortness_of_breath',\n",
      "       'swallowing_difficulty', 'chest_pain', 'lung_cancer'],\n",
      "      dtype='object')\n",
      "Success\n",
      "Column name in the validation data: Index(['age', 'smoking', 'yellow_fingers', 'anxiety', 'peer_pressure',\n",
      "       'chronic_disease', 'fatigue', 'allergy', 'wheezing',\n",
      "       'alcohol_consuming', 'coughing', 'shortness_of_breath',\n",
      "       'swallowing_difficulty', 'chest_pain', 'lung_cancer'],\n",
      "      dtype='object')\n"
     ]
    }
   ],
   "source": [
    "lung_formatted_train = lung_explored_train.copy()\n",
    "\n",
    "lung_formatted_train = format_(dataset=lung_formatted_train)\n",
    "print(f\"Column name in the training data: {lung_formatted_train.columns}\")\n",
    "\n",
    "lung_formatted_validation = lung_explored_validation.copy()\n",
    "\n",
    "lung_formatted_validation = format_(dataset=lung_formatted_validation)\n",
    "print(f\"Column name in the validation data: {lung_formatted_validation.columns}\")"
   ]
  },
  {
   "cell_type": "markdown",
   "metadata": {
    "id": "DCykPbLbWobe"
   },
   "source": [
    "## **Data Exploration**"
   ]
  },
  {
   "cell_type": "markdown",
   "metadata": {
    "id": "JAT6pWqIq1_y"
   },
   "source": [
    "### **Setting Up**"
   ]
  },
  {
   "cell_type": "code",
   "execution_count": 23,
   "metadata": {
    "id": "VMCg0hLZq4xq"
   },
   "outputs": [],
   "source": [
    "plt.style.use(\"dark_background\")"
   ]
  },
  {
   "cell_type": "code",
   "execution_count": 24,
   "metadata": {
    "id": "Qnvzn_y5q5hi"
   },
   "outputs": [],
   "source": [
    "def display_distribution(*, dataset, column_):\n",
    "    plt.figure(figsize=(8, 4.8))\n",
    "    sns.countplot(data=dataset, x=column_)\n",
    "    plt.title(f\"Distribution of '{column_}'\")\n",
    "    plt.xticks(rotation=45, ha=\"right\")\n",
    "    plt.tight_layout()\n",
    "    plt.show()\n",
    "\n",
    "def generate_boxplot(*, dataset, column_):\n",
    "    plt.figure(figsize=(8, 5))\n",
    "    sns.boxplot(data=dataset, y=column_)\n",
    "    sns.despine()\n",
    "    plt.grid(linestyle=\"--\", alpha=0.5)\n",
    "    plt.show()\n",
    "\n",
    "def create_scatter_plot(*, dataset, feature_x, feature_y):\n",
    "    sns.scatterplot(data=dataset, x=feature_x, y=feature_y, alpha=0.7)\n",
    "    plt.title(f\"{feature_x} vs {feature_y}\")\n",
    "    plt.grid(True)\n",
    "    plt.show()\n",
    "\n",
    "def show_correlation_matrix(*, dataset):\n",
    "    numeric_df = dataset.select_dtypes(include=np.number)\n",
    "\n",
    "    plt.figure(figsize=(10, 8))\n",
    "    sns.heatmap(\n",
    "        numeric_df.corr(), annot=True, fmt=\".2f\",\n",
    "        cmap=\"coolwarm\", vmin=-1, vmax=1,\n",
    "        cbar_kws={\"label\": \"Correlation\"}\n",
    "    )\n",
    "    plt.xticks(rotation=45, ha=\"right\")\n",
    "    plt.title(\"Correlation Matrix\")\n",
    "    plt.tight_layout()\n",
    "    plt.show()"
   ]
  },
  {
   "cell_type": "code",
   "execution_count": 25,
   "metadata": {
    "colab": {
     "base_uri": "https://localhost:8080/",
     "height": 487
    },
    "id": "GLzSNIV_Wu6Y",
    "outputId": "32d869c8-b4c8-4070-ec6f-827fdff823a0"
   },
   "outputs": [
    {
     "data": {
      "image/png": "[encoded data removed]",
      "text/plain": [
       "<Figure size 800x480 with 1 Axes>"
      ]
     },
     "metadata": {},
     "output_type": "display_data"
    }
   ],
   "source": [
    "display_distribution(dataset=lung_cleaned_train, column_=\"GENDER\")"
   ]
  },
  {
   "cell_type": "code",
   "execution_count": 26,
   "metadata": {
    "colab": {
     "base_uri": "https://localhost:8080/",
     "height": 426
    },
    "id": "afNeyJuNVe7h",
    "outputId": "a86017f4-d987-4f8d-e361-9fce147afa9f"
   },
   "outputs": [
    {
     "data": {
      "image/png": "[encoded data removed]",
      "text/plain": [
       "<Figure size 800x500 with 1 Axes>"
      ]
     },
     "metadata": {},
     "output_type": "display_data"
    }
   ],
   "source": [
    "generate_boxplot(dataset=lung_cleaned_train, column_=\"AGE\")"
   ]
  },
  {
   "cell_type": "code",
   "execution_count": 27,
   "metadata": {
    "colab": {
     "base_uri": "https://localhost:8080/",
     "height": 472
    },
    "id": "xzSJ5OYxWlAE",
    "outputId": "4633cacb-624c-4d69-e3f0-72bab1bd83e6"
   },
   "outputs": [
    {
     "data": {
      "image/png": "[encoded data removed]",
      "text/plain": [
       "<Figure size 640x480 with 1 Axes>"
      ]
     },
     "metadata": {},
     "output_type": "display_data"
    }
   ],
   "source": [
    "create_scatter_plot(dataset=lung_cleaned_train, feature_x=\"AGE\", feature_y=\"LUNG_CANCER\")"
   ]
  },
  {
   "cell_type": "code",
   "execution_count": 28,
   "metadata": {
    "colab": {
     "base_uri": "https://localhost:8080/",
     "height": 807
    },
    "id": "lVOYYlIVWv3Y",
    "outputId": "01c822cc-4509-4c20-fe3d-daa470e72b6e"
   },
   "outputs": [
    {
     "data": {
      "image/png": "[encoded data removed]",
      "text/plain": [
       "<Figure size 1000x800 with 2 Axes>"
      ]
     },
     "metadata": {},
     "output_type": "display_data"
    }
   ],
   "source": [
    "show_correlation_matrix(dataset=lung_explored_train)"
   ]
  },
  {
   "cell_type": "markdown",
   "metadata": {
    "id": "Eja6YlcEsBWw"
   },
   "source": [
    "## **Developing Model**"
   ]
  },
  {
   "cell_type": "markdown",
   "metadata": {
    "id": "XTh_bZOoZ0KC"
   },
   "source": [
    "### **Setting Up**"
   ]
  },
  {
   "cell_type": "code",
   "execution_count": 29,
   "metadata": {
    "id": "BTqJptKz0dCz"
   },
   "outputs": [],
   "source": [
    "def build_model(*,\n",
    "    input_shape, hidden_units, dropout_rates,\n",
    "    l1_reg, l2_reg=0.002, noise_stddev\n",
    "):\n",
    "    model = tf.keras.Sequential(name=\"MLP_Enhanced_v2\")\n",
    "\n",
    "    model.add(tf.keras.layers.Input(shape=input_shape))\n",
    "    model.add(GaussianNoise(noise_stddev, name=\"input_noise\"))\n",
    "\n",
    "    for i, (units, dropout) in enumerate(zip(hidden_units, dropout_rates)):\n",
    "        model.add(tf.keras.layers.Dense(\n",
    "            units,\n",
    "            activation='swish',\n",
    "            kernel_regularizer=regularizers.l1_l2(l1=l1_reg, l2=l2_reg),\n",
    "            name=f\"Dense_L1L2_{i+1}\"\n",
    "        ))\n",
    "        model.add(tf.keras.layers.BatchNormalization())\n",
    "        model.add(tf.keras.layers.Dropout(dropout))\n",
    "        model.add(GaussianNoise(noise_stddev/2, name=f\"hidden_noise_{i+1}\"))\n",
    "\n",
    "    model.add(tf.keras.layers.Dense(\n",
    "        1,\n",
    "        activation='sigmoid',\n",
    "        kernel_regularizer=regularizers.l2(l2_reg)\n",
    "    ))\n",
    "    return model\n",
    "\n",
    "def compile_model(*, model, max_lr, min_lr):\n",
    "    lr_schedule = tf.keras.optimizers.schedules.CosineDecayRestarts(\n",
    "        initial_learning_rate=max_lr,\n",
    "        first_decay_steps=200,\n",
    "        t_mul=1.5,\n",
    "        m_mul=0.85,\n",
    "        alpha=min_lr/max_lr\n",
    "    )\n",
    "\n",
    "    optimizer = tf.keras.optimizers.Nadam(learning_rate=lr_schedule)\n",
    "\n",
    "    model.compile(\n",
    "        optimizer=optimizer,\n",
    "        loss=tf.keras.losses.BinaryCrossentropy(label_smoothing=0.2),\n",
    "        metrics=[\n",
    "            'accuracy',\n",
    "            tf.keras.metrics.AUC(name='auc', curve='PR'),\n",
    "            tf.keras.metrics.PrecisionAtRecall(0.8, name='precision_at_recall80')\n",
    "        ]\n",
    "    )\n",
    "\n",
    "def get_callbacks(model):\n",
    "    return [\n",
    "        tf.keras.callbacks.EarlyStopping(\n",
    "            monitor='val_auc',\n",
    "            patience=15,\n",
    "            mode='max',\n",
    "            baseline=0.94,\n",
    "            restore_best_weights=True\n",
    "        ),\n",
    "        tf.keras.callbacks.TerminateOnNaN(),\n",
    "        tf.keras.callbacks.LambdaCallback(\n",
    "            on_epoch_end=lambda epoch, logs: print(\n",
    "                f\"\\nCurrent LR: {tf.keras.backend.get_value(model.optimizer.learning_rate):.6f}\")\n",
    "        )\n",
    "    ]\n",
    "\n",
    "def train_model(*, model, x_train, y_train, x_val, y_val, epochs, batch_size):\n",
    "    pos_weight = len(y_train[y_train==0]) / len(y_train[y_train==1])\n",
    "    class_weights = {0: 1.0, 1: pos_weight * 1.25}\n",
    "\n",
    "    history = model.fit(\n",
    "        x_train,\n",
    "        y_train,\n",
    "        epochs=epochs,\n",
    "        batch_size=batch_size,\n",
    "        validation_data=(x_val, y_val),\n",
    "        callbacks=get_callbacks(model),\n",
    "        class_weight=class_weights,\n",
    "        verbose=1\n",
    "    )\n",
    "    return history\n",
    "\n",
    "def evaluate_model(*, model, x_test, y_test):\n",
    "    y_prediction_probability = model.predict(x_test, verbose=0)\n",
    "\n",
    "    y_prediction = (y_prediction_probability > 0.5).astype(int)\n",
    "\n",
    "    test_loss, test_accuracy = model.evaluate(x_test, y_test, verbose=1)[:2]\n",
    "\n",
    "    report_dict = classification_report(y_test, y_prediction, output_dict=True, zero_division=0)\n",
    "    recall_score = report_dict[\"weighted avg\"][\"recall\"]\n",
    "\n",
    "    conf_matrix = confusion_matrix(y_test, y_prediction)\n",
    "\n",
    "    results = {\n",
    "        \"probability\": y_prediction_probability,\n",
    "        \"accuracy\": test_accuracy,\n",
    "        \"recall\": recall_score,\n",
    "        \"loss\": test_loss,\n",
    "        \"confusion_matrix\": conf_matrix\n",
    "    }\n",
    "    return results\n",
    "\n",
    "def plot_evaluation_results(results, class_names=None):\n",
    "    conf_matrix = results[\"confusion_matrix\"]\n",
    "    accuracy = results[\"accuracy\"]\n",
    "    recall = results[\"recall\"]\n",
    "    loss = results[\"loss\"]\n",
    "\n",
    "    if class_names is None:\n",
    "        class_names = [str(i) for i in range(conf_matrix.shape[0])]\n",
    "\n",
    "    fig, axes = plt.subplots(1, 2, figsize=(12, 5))\n",
    "\n",
    "    sns.heatmap(\n",
    "        conf_matrix, annot=True, fmt='d', cmap=\"Blues\",\n",
    "        xticklabels=class_names, yticklabels=class_names, ax=axes[0]\n",
    "    )\n",
    "    axes[0].set_xlabel(\"Predicted Labels\")\n",
    "    axes[0].set_ylabel(\"True Labels\")\n",
    "    axes[0].set_title(\"Confusion Matrix\")\n",
    "\n",
    "    metric_names = [\"Accuracy\", \"Recall\", \"Loss\"]\n",
    "    metric_values = [accuracy, recall, loss]\n",
    "    colors = [\"skyblue\", \"lightgreen\", \"lightcoral\"]\n",
    "    axes[1].bar(metric_names, metric_values, color=colors)\n",
    "    axes[1].set_ylim(0, 1)\n",
    "    axes[1].set_title(\"Model Evaluation Metrics\")\n",
    "\n",
    "    plt.tight_layout()\n",
    "    plt.show()"
   ]
  },
  {
   "cell_type": "markdown",
   "metadata": {
    "id": "8Oa9jVB42PDb"
   },
   "source": [
    "### **Data Splitting**"
   ]
  },
  {
   "cell_type": "code",
   "execution_count": 30,
   "metadata": {
    "id": "r9QFbxRe2jQn"
   },
   "outputs": [],
   "source": [
    "x_train = lung_formatted_train.drop(columns=[\"lung_cancer\"])\n",
    "y_train = lung_formatted_train[\"lung_cancer\"]\n",
    "\n",
    "x_validation = lung_formatted_validation.drop(columns=[\"lung_cancer\"])\n",
    "y_validation = lung_formatted_validation[\"lung_cancer\"]"
   ]
  },
  {
   "cell_type": "markdown",
   "metadata": {
    "id": "iZyoZVMkIf0x"
   },
   "source": [
    "### **Training**"
   ]
  },
  {
   "cell_type": "code",
   "execution_count": 31,
   "metadata": {
    "colab": {
     "base_uri": "https://localhost:8080/",
     "height": 481
    },
    "id": "Sr5LLTmXZsuG",
    "outputId": "7de26f53-320b-4836-ca08-f92455ece182"
   },
   "outputs": [
    {
     "data": {
      "text/html": [
       "<pre style=\"white-space:pre;overflow-x:auto;line-height:normal;font-family:Menlo,'DejaVu Sans Mono',consolas,'Courier New',monospace\"><span style=\"font-weight: bold\">Model: \"MLP_Enhanced_v2\"</span>\n",
       "</pre>\n"
      ],
      "text/plain": [
       "\u001b[1mModel: \"MLP_Enhanced_v2\"\u001b[0m\n"
      ]
     },
     "metadata": {},
     "output_type": "display_data"
    },
    {
     "data": {
      "text/html": [
       "<pre style=\"white-space:pre;overflow-x:auto;line-height:normal;font-family:Menlo,'DejaVu Sans Mono',consolas,'Courier New',monospace\">┏━━━━━━━━━━━━━━━━━━━━━━━━━━━━━━━━━┳━━━━━━━━━━━━━━━━━━━━━━━━┳━━━━━━━━━━━━━━━┓\n",
       "┃<span style=\"font-weight: bold\"> Layer (type)                    </span>┃<span style=\"font-weight: bold\"> Output Shape           </span>┃<span style=\"font-weight: bold\">       Param # </span>┃\n",
       "┡━━━━━━━━━━━━━━━━━━━━━━━━━━━━━━━━━╇━━━━━━━━━━━━━━━━━━━━━━━━╇━━━━━━━━━━━━━━━┩\n",
       "│ input_noise (<span style=\"color: #0087ff; text-decoration-color: #0087ff\">GaussianNoise</span>)     │ (<span style=\"color: #00d7ff; text-decoration-color: #00d7ff\">None</span>, <span style=\"color: #00af00; text-decoration-color: #00af00\">14</span>)             │             <span style=\"color: #00af00; text-decoration-color: #00af00\">0</span> │\n",
       "├─────────────────────────────────┼────────────────────────┼───────────────┤\n",
       "│ Dense_L1L2_1 (<span style=\"color: #0087ff; text-decoration-color: #0087ff\">Dense</span>)            │ (<span style=\"color: #00d7ff; text-decoration-color: #00d7ff\">None</span>, <span style=\"color: #00af00; text-decoration-color: #00af00\">96</span>)             │         <span style=\"color: #00af00; text-decoration-color: #00af00\">1,440</span> │\n",
       "├─────────────────────────────────┼────────────────────────┼───────────────┤\n",
       "│ batch_normalization             │ (<span style=\"color: #00d7ff; text-decoration-color: #00d7ff\">None</span>, <span style=\"color: #00af00; text-decoration-color: #00af00\">96</span>)             │           <span style=\"color: #00af00; text-decoration-color: #00af00\">384</span> │\n",
       "│ (<span style=\"color: #0087ff; text-decoration-color: #0087ff\">BatchNormalization</span>)            │                        │               │\n",
       "├─────────────────────────────────┼────────────────────────┼───────────────┤\n",
       "│ dropout (<span style=\"color: #0087ff; text-decoration-color: #0087ff\">Dropout</span>)               │ (<span style=\"color: #00d7ff; text-decoration-color: #00d7ff\">None</span>, <span style=\"color: #00af00; text-decoration-color: #00af00\">96</span>)             │             <span style=\"color: #00af00; text-decoration-color: #00af00\">0</span> │\n",
       "├─────────────────────────────────┼────────────────────────┼───────────────┤\n",
       "│ hidden_noise_1 (<span style=\"color: #0087ff; text-decoration-color: #0087ff\">GaussianNoise</span>)  │ (<span style=\"color: #00d7ff; text-decoration-color: #00d7ff\">None</span>, <span style=\"color: #00af00; text-decoration-color: #00af00\">96</span>)             │             <span style=\"color: #00af00; text-decoration-color: #00af00\">0</span> │\n",
       "├─────────────────────────────────┼────────────────────────┼───────────────┤\n",
       "│ Dense_L1L2_2 (<span style=\"color: #0087ff; text-decoration-color: #0087ff\">Dense</span>)            │ (<span style=\"color: #00d7ff; text-decoration-color: #00d7ff\">None</span>, <span style=\"color: #00af00; text-decoration-color: #00af00\">48</span>)             │         <span style=\"color: #00af00; text-decoration-color: #00af00\">4,656</span> │\n",
       "├─────────────────────────────────┼────────────────────────┼───────────────┤\n",
       "│ batch_normalization_1           │ (<span style=\"color: #00d7ff; text-decoration-color: #00d7ff\">None</span>, <span style=\"color: #00af00; text-decoration-color: #00af00\">48</span>)             │           <span style=\"color: #00af00; text-decoration-color: #00af00\">192</span> │\n",
       "│ (<span style=\"color: #0087ff; text-decoration-color: #0087ff\">BatchNormalization</span>)            │                        │               │\n",
       "├─────────────────────────────────┼────────────────────────┼───────────────┤\n",
       "│ dropout_1 (<span style=\"color: #0087ff; text-decoration-color: #0087ff\">Dropout</span>)             │ (<span style=\"color: #00d7ff; text-decoration-color: #00d7ff\">None</span>, <span style=\"color: #00af00; text-decoration-color: #00af00\">48</span>)             │             <span style=\"color: #00af00; text-decoration-color: #00af00\">0</span> │\n",
       "├─────────────────────────────────┼────────────────────────┼───────────────┤\n",
       "│ hidden_noise_2 (<span style=\"color: #0087ff; text-decoration-color: #0087ff\">GaussianNoise</span>)  │ (<span style=\"color: #00d7ff; text-decoration-color: #00d7ff\">None</span>, <span style=\"color: #00af00; text-decoration-color: #00af00\">48</span>)             │             <span style=\"color: #00af00; text-decoration-color: #00af00\">0</span> │\n",
       "├─────────────────────────────────┼────────────────────────┼───────────────┤\n",
       "│ dense (<span style=\"color: #0087ff; text-decoration-color: #0087ff\">Dense</span>)                   │ (<span style=\"color: #00d7ff; text-decoration-color: #00d7ff\">None</span>, <span style=\"color: #00af00; text-decoration-color: #00af00\">1</span>)              │            <span style=\"color: #00af00; text-decoration-color: #00af00\">49</span> │\n",
       "└─────────────────────────────────┴────────────────────────┴───────────────┘\n",
       "</pre>\n"
      ],
      "text/plain": [
       "┏━━━━━━━━━━━━━━━━━━━━━━━━━━━━━━━━━┳━━━━━━━━━━━━━━━━━━━━━━━━┳━━━━━━━━━━━━━━━┓\n",
       "┃\u001b[1m \u001b[0m\u001b[1mLayer (type)                   \u001b[0m\u001b[1m \u001b[0m┃\u001b[1m \u001b[0m\u001b[1mOutput Shape          \u001b[0m\u001b[1m \u001b[0m┃\u001b[1m \u001b[0m\u001b[1m      Param #\u001b[0m\u001b[1m \u001b[0m┃\n",
       "┡━━━━━━━━━━━━━━━━━━━━━━━━━━━━━━━━━╇━━━━━━━━━━━━━━━━━━━━━━━━╇━━━━━━━━━━━━━━━┩\n",
       "│ input_noise (\u001b[38;5;33mGaussianNoise\u001b[0m)     │ (\u001b[38;5;45mNone\u001b[0m, \u001b[38;5;34m14\u001b[0m)             │             \u001b[38;5;34m0\u001b[0m │\n",
       "├─────────────────────────────────┼────────────────────────┼───────────────┤\n",
       "│ Dense_L1L2_1 (\u001b[38;5;33mDense\u001b[0m)            │ (\u001b[38;5;45mNone\u001b[0m, \u001b[38;5;34m96\u001b[0m)             │         \u001b[38;5;34m1,440\u001b[0m │\n",
       "├─────────────────────────────────┼────────────────────────┼───────────────┤\n",
       "│ batch_normalization             │ (\u001b[38;5;45mNone\u001b[0m, \u001b[38;5;34m96\u001b[0m)             │           \u001b[38;5;34m384\u001b[0m │\n",
       "│ (\u001b[38;5;33mBatchNormalization\u001b[0m)            │                        │               │\n",
       "├─────────────────────────────────┼────────────────────────┼───────────────┤\n",
       "│ dropout (\u001b[38;5;33mDropout\u001b[0m)               │ (\u001b[38;5;45mNone\u001b[0m, \u001b[38;5;34m96\u001b[0m)             │             \u001b[38;5;34m0\u001b[0m │\n",
       "├─────────────────────────────────┼────────────────────────┼───────────────┤\n",
       "│ hidden_noise_1 (\u001b[38;5;33mGaussianNoise\u001b[0m)  │ (\u001b[38;5;45mNone\u001b[0m, \u001b[38;5;34m96\u001b[0m)             │             \u001b[38;5;34m0\u001b[0m │\n",
       "├─────────────────────────────────┼────────────────────────┼───────────────┤\n",
       "│ Dense_L1L2_2 (\u001b[38;5;33mDense\u001b[0m)            │ (\u001b[38;5;45mNone\u001b[0m, \u001b[38;5;34m48\u001b[0m)             │         \u001b[38;5;34m4,656\u001b[0m │\n",
       "├─────────────────────────────────┼────────────────────────┼───────────────┤\n",
       "│ batch_normalization_1           │ (\u001b[38;5;45mNone\u001b[0m, \u001b[38;5;34m48\u001b[0m)             │           \u001b[38;5;34m192\u001b[0m │\n",
       "│ (\u001b[38;5;33mBatchNormalization\u001b[0m)            │                        │               │\n",
       "├─────────────────────────────────┼────────────────────────┼───────────────┤\n",
       "│ dropout_1 (\u001b[38;5;33mDropout\u001b[0m)             │ (\u001b[38;5;45mNone\u001b[0m, \u001b[38;5;34m48\u001b[0m)             │             \u001b[38;5;34m0\u001b[0m │\n",
       "├─────────────────────────────────┼────────────────────────┼───────────────┤\n",
       "│ hidden_noise_2 (\u001b[38;5;33mGaussianNoise\u001b[0m)  │ (\u001b[38;5;45mNone\u001b[0m, \u001b[38;5;34m48\u001b[0m)             │             \u001b[38;5;34m0\u001b[0m │\n",
       "├─────────────────────────────────┼────────────────────────┼───────────────┤\n",
       "│ dense (\u001b[38;5;33mDense\u001b[0m)                   │ (\u001b[38;5;45mNone\u001b[0m, \u001b[38;5;34m1\u001b[0m)              │            \u001b[38;5;34m49\u001b[0m │\n",
       "└─────────────────────────────────┴────────────────────────┴───────────────┘\n"
      ]
     },
     "metadata": {},
     "output_type": "display_data"
    },
    {
     "data": {
      "text/html": [
       "<pre style=\"white-space:pre;overflow-x:auto;line-height:normal;font-family:Menlo,'DejaVu Sans Mono',consolas,'Courier New',monospace\"><span style=\"font-weight: bold\"> Total params: </span><span style=\"color: #00af00; text-decoration-color: #00af00\">6,721</span> (26.25 KB)\n",
       "</pre>\n"
      ],
      "text/plain": [
       "\u001b[1m Total params: \u001b[0m\u001b[38;5;34m6,721\u001b[0m (26.25 KB)\n"
      ]
     },
     "metadata": {},
     "output_type": "display_data"
    },
    {
     "data": {
      "text/html": [
       "<pre style=\"white-space:pre;overflow-x:auto;line-height:normal;font-family:Menlo,'DejaVu Sans Mono',consolas,'Courier New',monospace\"><span style=\"font-weight: bold\"> Trainable params: </span><span style=\"color: #00af00; text-decoration-color: #00af00\">6,433</span> (25.13 KB)\n",
       "</pre>\n"
      ],
      "text/plain": [
       "\u001b[1m Trainable params: \u001b[0m\u001b[38;5;34m6,433\u001b[0m (25.13 KB)\n"
      ]
     },
     "metadata": {},
     "output_type": "display_data"
    },
    {
     "data": {
      "text/html": [
       "<pre style=\"white-space:pre;overflow-x:auto;line-height:normal;font-family:Menlo,'DejaVu Sans Mono',consolas,'Courier New',monospace\"><span style=\"font-weight: bold\"> Non-trainable params: </span><span style=\"color: #00af00; text-decoration-color: #00af00\">288</span> (1.12 KB)\n",
       "</pre>\n"
      ],
      "text/plain": [
       "\u001b[1m Non-trainable params: \u001b[0m\u001b[38;5;34m288\u001b[0m (1.12 KB)\n"
      ]
     },
     "metadata": {},
     "output_type": "display_data"
    }
   ],
   "source": [
    "model = build_model(\n",
    "    input_shape=(x_train.shape[1],),\n",
    "    hidden_units=[96, 48],\n",
    "    dropout_rates=[0.6, 0.4],\n",
    "    l1_reg=0.002,\n",
    "    l2_reg=0.002,\n",
    "    noise_stddev=0.1\n",
    ")\n",
    "\n",
    "model.summary()"
   ]
  },
  {
   "cell_type": "code",
   "execution_count": 32,
   "metadata": {
    "id": "vZOkUVUKZvkM"
   },
   "outputs": [],
   "source": [
    "compile_model(model=model, max_lr=0.01, min_lr=1e-6)"
   ]
  },
  {
   "cell_type": "code",
   "execution_count": 33,
   "metadata": {
    "colab": {
     "base_uri": "https://localhost:8080/"
    },
    "id": "Mfq_RFHCZwuQ",
    "outputId": "5a8e5977-181c-4058-f018-d95bf3a49687"
   },
   "outputs": [
    {
     "name": "stdout",
     "output_type": "stream",
     "text": [
      "Epoch 1/300\n",
      "\u001b[1m33/33\u001b[0m \u001b[32m━━━━━━━━━━━━━━━━━━━━\u001b[0m\u001b[37m\u001b[0m \u001b[1m0s\u001b[0m 2ms/step - accuracy: 0.6793 - auc: 0.7176 - loss: 2.0510 - precision_at_recall80: 0.6629\n",
      "Current LR: 0.009343\n",
      "\u001b[1m33/33\u001b[0m \u001b[32m━━━━━━━━━━━━━━━━━━━━\u001b[0m\u001b[37m\u001b[0m \u001b[1m2s\u001b[0m 14ms/step - accuracy: 0.6815 - auc: 0.7206 - loss: 2.0449 - precision_at_recall80: 0.6653 - val_accuracy: 0.8671 - val_auc: 0.9912 - val_loss: 1.3890 - val_precision_at_recall80: 0.9919\n",
      "Epoch 2/300\n",
      "\u001b[1m 1/33\u001b[0m \u001b[37m━━━━━━━━━━━━━━━━━━━━\u001b[0m \u001b[1m0s\u001b[0m 18ms/step - accuracy: 0.8750 - auc: 0.8731 - loss: 1.5233 - precision_at_recall80: 0.8462\n",
      "Current LR: 0.007545\n",
      "\u001b[1m33/33\u001b[0m \u001b[32m━━━━━━━━━━━━━━━━━━━━\u001b[0m\u001b[37m\u001b[0m \u001b[1m0s\u001b[0m 3ms/step - accuracy: 0.8487 - auc: 0.9052 - loss: 1.4027 - precision_at_recall80: 0.8625 - val_accuracy: 0.8613 - val_auc: 0.9910 - val_loss: 1.1037 - val_precision_at_recall80: 0.9845\n",
      "Epoch 3/300\n",
      "\u001b[1m 1/33\u001b[0m \u001b[37m━━━━━━━━━━━━━━━━━━━━\u001b[0m \u001b[1m0s\u001b[0m 19ms/step - accuracy: 0.8750 - auc: 0.9494 - loss: 1.0797 - precision_at_recall80: 0.8333\n",
      "Current LR: 0.005079\n",
      "\u001b[1m33/33\u001b[0m \u001b[32m━━━━━━━━━━━━━━━━━━━━\u001b[0m\u001b[37m\u001b[0m \u001b[1m0s\u001b[0m 3ms/step - accuracy: 0.8654 - auc: 0.9380 - loss: 1.0623 - precision_at_recall80: 0.8983 - val_accuracy: 0.8613 - val_auc: 0.9896 - val_loss: 0.9284 - val_precision_at_recall80: 0.9840\n",
      "Epoch 4/300\n",
      "\u001b[1m 1/33\u001b[0m \u001b[37m━━━━━━━━━━━━━━━━━━━━\u001b[0m \u001b[1m0s\u001b[0m 21ms/step - accuracy: 0.8333 - auc: 0.9139 - loss: 0.9529 - precision_at_recall80: 0.8667\n",
      "Current LR: 0.002592\n",
      "\u001b[1m33/33\u001b[0m \u001b[32m━━━━━━━━━━━━━━━━━━━━\u001b[0m\u001b[37m\u001b[0m \u001b[1m0s\u001b[0m 3ms/step - accuracy: 0.8908 - auc: 0.9433 - loss: 0.8804 - precision_at_recall80: 0.9040 - val_accuracy: 0.8902 - val_auc: 0.9908 - val_loss: 0.8508 - val_precision_at_recall80: 0.9843\n",
      "Epoch 5/300\n",
      "\u001b[1m 1/33\u001b[0m \u001b[37m━━━━━━━━━━━━━━━━━━━━\u001b[0m \u001b[1m0s\u001b[0m 20ms/step - accuracy: 0.7917 - auc: 0.9651 - loss: 0.8801 - precision_at_recall80: 0.9375\n",
      "Current LR: 0.000738\n",
      "\u001b[1m33/33\u001b[0m \u001b[32m━━━━━━━━━━━━━━━━━━━━\u001b[0m\u001b[37m\u001b[0m \u001b[1m0s\u001b[0m 3ms/step - accuracy: 0.8852 - auc: 0.9422 - loss: 0.8008 - precision_at_recall80: 0.9144 - val_accuracy: 0.9017 - val_auc: 0.9895 - val_loss: 0.8095 - val_precision_at_recall80: 0.9779\n",
      "Epoch 6/300\n",
      "\u001b[1m 1/33\u001b[0m \u001b[37m━━━━━━━━━━━━━━━━━━━━\u001b[0m \u001b[1m0s\u001b[0m 20ms/step - accuracy: 0.8750 - auc: 1.0000 - loss: 0.7774 - precision_at_recall80: 1.0000\n",
      "Current LR: 0.000003\n",
      "\u001b[1m33/33\u001b[0m \u001b[32m━━━━━━━━━━━━━━━━━━━━\u001b[0m\u001b[37m\u001b[0m \u001b[1m0s\u001b[0m 3ms/step - accuracy: 0.8963 - auc: 0.9422 - loss: 0.7560 - precision_at_recall80: 0.9194 - val_accuracy: 0.8960 - val_auc: 0.9896 - val_loss: 0.7883 - val_precision_at_recall80: 0.9779\n",
      "Epoch 7/300\n",
      "\u001b[1m 1/33\u001b[0m \u001b[37m━━━━━━━━━━━━━━━━━━━━\u001b[0m \u001b[1m0s\u001b[0m 19ms/step - accuracy: 0.8750 - auc: 0.9763 - loss: 0.7813 - precision_at_recall80: 0.9333\n",
      "Current LR: 0.008278\n",
      "\u001b[1m33/33\u001b[0m \u001b[32m━━━━━━━━━━━━━━━━━━━━\u001b[0m\u001b[37m\u001b[0m \u001b[1m0s\u001b[0m 3ms/step - accuracy: 0.8621 - auc: 0.9447 - loss: 0.7671 - precision_at_recall80: 0.9154 - val_accuracy: 0.8844 - val_auc: 0.9876 - val_loss: 0.7997 - val_precision_at_recall80: 0.9778\n",
      "Epoch 8/300\n",
      "\u001b[1m28/33\u001b[0m \u001b[32m━━━━━━━━━━━━━━━━\u001b[0m\u001b[37m━━━━\u001b[0m \u001b[1m0s\u001b[0m 2ms/step - accuracy: 0.8890 - auc: 0.9467 - loss: 0.7280 - precision_at_recall80: 0.9139 \n",
      "Current LR: 0.007581\n",
      "\u001b[1m33/33\u001b[0m \u001b[32m━━━━━━━━━━━━━━━━━━━━\u001b[0m\u001b[37m\u001b[0m \u001b[1m0s\u001b[0m 4ms/step - accuracy: 0.8869 - auc: 0.9448 - loss: 0.7273 - precision_at_recall80: 0.9125 - val_accuracy: 0.8960 - val_auc: 0.9913 - val_loss: 0.7609 - val_precision_at_recall80: 1.0000\n",
      "Epoch 9/300\n",
      "\u001b[1m 1/33\u001b[0m \u001b[37m━━━━━━━━━━━━━━━━━━━━\u001b[0m \u001b[1m0s\u001b[0m 21ms/step - accuracy: 1.0000 - auc: 1.0000 - loss: 0.6066 - precision_at_recall80: 1.0000\n",
      "Current LR: 0.006490\n",
      "\u001b[1m33/33\u001b[0m \u001b[32m━━━━━━━━━━━━━━━━━━━━\u001b[0m\u001b[37m\u001b[0m \u001b[1m0s\u001b[0m 4ms/step - accuracy: 0.9044 - auc: 0.9479 - loss: 0.6886 - precision_at_recall80: 0.9242 - val_accuracy: 0.8671 - val_auc: 0.9877 - val_loss: 0.7318 - val_precision_at_recall80: 0.9771\n",
      "Epoch 10/300\n",
      "\u001b[1m 1/33\u001b[0m \u001b[37m━━━━━━━━━━━━━━━━━━━━\u001b[0m \u001b[1m0s\u001b[0m 21ms/step - accuracy: 0.8333 - auc: 0.9781 - loss: 0.6950 - precision_at_recall80: 0.9231\n",
      "Current LR: 0.005134\n",
      "\u001b[1m33/33\u001b[0m \u001b[32m━━━━━━━━━━━━━━━━━━━━\u001b[0m\u001b[37m\u001b[0m \u001b[1m0s\u001b[0m 3ms/step - accuracy: 0.8730 - auc: 0.9369 - loss: 0.6863 - precision_at_recall80: 0.9059 - val_accuracy: 0.8728 - val_auc: 0.9871 - val_loss: 0.7100 - val_precision_at_recall80: 0.9756\n",
      "Epoch 11/300\n",
      "\u001b[1m 1/33\u001b[0m \u001b[37m━━━━━━━━━━━━━━━━━━━━\u001b[0m \u001b[1m0s\u001b[0m 20ms/step - accuracy: 0.9167 - auc: 0.9488 - loss: 0.7181 - precision_at_recall80: 0.9091\n",
      "Current LR: 0.003674\n",
      "\u001b[1m33/33\u001b[0m \u001b[32m━━━━━━━━━━━━━━━━━━━━\u001b[0m\u001b[37m\u001b[0m \u001b[1m0s\u001b[0m 3ms/step - accuracy: 0.9071 - auc: 0.9458 - loss: 0.6736 - precision_at_recall80: 0.9250 - val_accuracy: 0.8555 - val_auc: 0.9877 - val_loss: 0.6917 - val_precision_at_recall80: 0.9773\n",
      "Epoch 12/300\n",
      "\u001b[1m 1/33\u001b[0m \u001b[37m━━━━━━━━━━━━━━━━━━━━\u001b[0m \u001b[1m0s\u001b[0m 20ms/step - accuracy: 0.9167 - auc: 0.9518 - loss: 0.6332 - precision_at_recall80: 0.8889\n",
      "Current LR: 0.002282\n",
      "\u001b[1m33/33\u001b[0m \u001b[32m━━━━━━━━━━━━━━━━━━━━\u001b[0m\u001b[37m\u001b[0m \u001b[1m0s\u001b[0m 3ms/step - accuracy: 0.8909 - auc: 0.9572 - loss: 0.6307 - precision_at_recall80: 0.9275 - val_accuracy: 0.8671 - val_auc: 0.9889 - val_loss: 0.6671 - val_precision_at_recall80: 0.9837\n",
      "Epoch 13/300\n",
      "\u001b[1m 1/33\u001b[0m \u001b[37m━━━━━━━━━━━━━━━━━━━━\u001b[0m \u001b[1m0s\u001b[0m 21ms/step - accuracy: 0.9167 - auc: 0.9635 - loss: 0.6138 - precision_at_recall80: 0.9333\n",
      "Current LR: 0.001122\n",
      "\u001b[1m33/33\u001b[0m \u001b[32m━━━━━━━━━━━━━━━━━━━━\u001b[0m\u001b[37m\u001b[0m \u001b[1m0s\u001b[0m 4ms/step - accuracy: 0.9079 - auc: 0.9617 - loss: 0.6132 - precision_at_recall80: 0.9323 - val_accuracy: 0.8786 - val_auc: 0.9909 - val_loss: 0.6336 - val_precision_at_recall80: 1.0000\n",
      "Epoch 14/300\n",
      "\u001b[1m 1/33\u001b[0m \u001b[37m━━━━━━━━━━━━━━━━━━━━\u001b[0m \u001b[1m0s\u001b[0m 20ms/step - accuracy: 0.8750 - auc: 0.9883 - loss: 0.5835 - precision_at_recall80: 1.0000\n",
      "Current LR: 0.000333\n",
      "\u001b[1m33/33\u001b[0m \u001b[32m━━━━━━━━━━━━━━━━━━━━\u001b[0m\u001b[37m\u001b[0m \u001b[1m0s\u001b[0m 3ms/step - accuracy: 0.8843 - auc: 0.9510 - loss: 0.6041 - precision_at_recall80: 0.9304 - val_accuracy: 0.8786 - val_auc: 0.9902 - val_loss: 0.6089 - val_precision_at_recall80: 0.9839\n",
      "Epoch 15/300\n",
      "\u001b[1m 1/33\u001b[0m \u001b[37m━━━━━━━━━━━━━━━━━━━━\u001b[0m \u001b[1m0s\u001b[0m 19ms/step - accuracy: 0.9583 - auc: 0.9861 - loss: 0.5915 - precision_at_recall80: 1.0000\n",
      "Current LR: 0.000007\n",
      "\u001b[1m33/33\u001b[0m \u001b[32m━━━━━━━━━━━━━━━━━━━━\u001b[0m\u001b[37m\u001b[0m \u001b[1m0s\u001b[0m 3ms/step - accuracy: 0.9106 - auc: 0.9409 - loss: 0.6113 - precision_at_recall80: 0.9268 - val_accuracy: 0.8786 - val_auc: 0.9903 - val_loss: 0.5852 - val_precision_at_recall80: 0.9844\n",
      "Epoch 16/300\n",
      "\u001b[1m 1/33\u001b[0m \u001b[37m━━━━━━━━━━━━━━━━━━━━\u001b[0m \u001b[1m0s\u001b[0m 20ms/step - accuracy: 0.9167 - auc: 0.9663 - loss: 0.6094 - precision_at_recall80: 1.0000\n",
      "Current LR: 0.007156\n",
      "\u001b[1m33/33\u001b[0m \u001b[32m━━━━━━━━━━━━━━━━━━━━\u001b[0m\u001b[37m\u001b[0m \u001b[1m0s\u001b[0m 3ms/step - accuracy: 0.8793 - auc: 0.9428 - loss: 0.6285 - precision_at_recall80: 0.8948 - val_accuracy: 0.8960 - val_auc: 0.9898 - val_loss: 0.6132 - val_precision_at_recall80: 1.0000\n",
      "Epoch 17/300\n",
      "\u001b[1m 1/33\u001b[0m \u001b[37m━━━━━━━━━━━━━━━━━━━━\u001b[0m \u001b[1m0s\u001b[0m 21ms/step - accuracy: 0.8750 - auc: 0.9657 - loss: 0.6753 - precision_at_recall80: 0.8889\n",
      "Current LR: 0.006903\n",
      "\u001b[1m33/33\u001b[0m \u001b[32m━━━━━━━━━━━━━━━━━━━━\u001b[0m\u001b[37m\u001b[0m \u001b[1m0s\u001b[0m 3ms/step - accuracy: 0.8630 - auc: 0.9208 - loss: 0.6908 - precision_at_recall80: 0.8959 - val_accuracy: 0.8960 - val_auc: 0.9907 - val_loss: 0.6409 - val_precision_at_recall80: 1.0000\n",
      "Epoch 18/300\n",
      "\u001b[1m 1/33\u001b[0m \u001b[37m━━━━━━━━━━━━━━━━━━━━\u001b[0m \u001b[1m0s\u001b[0m 21ms/step - accuracy: 0.9167 - auc: 1.0000 - loss: 0.6054 - precision_at_recall80: 1.0000\n",
      "Current LR: 0.006475\n",
      "\u001b[1m33/33\u001b[0m \u001b[32m━━━━━━━━━━━━━━━━━━━━\u001b[0m\u001b[37m\u001b[0m \u001b[1m0s\u001b[0m 4ms/step - accuracy: 0.8897 - auc: 0.9334 - loss: 0.6645 - precision_at_recall80: 0.9340 - val_accuracy: 0.9075 - val_auc: 0.9898 - val_loss: 0.6225 - val_precision_at_recall80: 0.9922\n",
      "Epoch 19/300\n",
      "\u001b[1m 1/33\u001b[0m \u001b[37m━━━━━━━━━━━━━━━━━━━━\u001b[0m \u001b[1m0s\u001b[0m 21ms/step - accuracy: 0.7917 - auc: 0.9773 - loss: 0.6532 - precision_at_recall80: 1.0000\n",
      "Current LR: 0.005896\n",
      "\u001b[1m33/33\u001b[0m \u001b[32m━━━━━━━━━━━━━━━━━━━━\u001b[0m\u001b[37m\u001b[0m \u001b[1m0s\u001b[0m 3ms/step - accuracy: 0.8780 - auc: 0.9348 - loss: 0.6617 - precision_at_recall80: 0.9261 - val_accuracy: 0.9133 - val_auc: 0.9905 - val_loss: 0.5697 - val_precision_at_recall80: 0.9919\n",
      "Epoch 20/300\n",
      "\u001b[1m 1/33\u001b[0m \u001b[37m━━━━━━━━━━━━━━━━━━━━\u001b[0m \u001b[1m0s\u001b[0m 20ms/step - accuracy: 0.8750 - auc: 0.8846 - loss: 0.7092 - precision_at_recall80: 0.9167\n",
      "Current LR: 0.005197\n",
      "\u001b[1m33/33\u001b[0m \u001b[32m━━━━━━━━━━━━━━━━━━━━\u001b[0m\u001b[37m\u001b[0m \u001b[1m0s\u001b[0m 3ms/step - accuracy: 0.8730 - auc: 0.9358 - loss: 0.6605 - precision_at_recall80: 0.9107 - val_accuracy: 0.8844 - val_auc: 0.9904 - val_loss: 0.5794 - val_precision_at_recall80: 0.9921\n",
      "Epoch 21/300\n",
      "\u001b[1m 1/33\u001b[0m \u001b[37m━━━━━━━━━━━━━━━━━━━━\u001b[0m \u001b[1m0s\u001b[0m 21ms/step - accuracy: 0.8333 - auc: 0.9069 - loss: 0.6725 - precision_at_recall80: 0.9000\n",
      "Current LR: 0.004413\n",
      "\u001b[1m33/33\u001b[0m \u001b[32m━━━━━━━━━━━━━━━━━━━━\u001b[0m\u001b[37m\u001b[0m \u001b[1m0s\u001b[0m 3ms/step - accuracy: 0.8686 - auc: 0.9264 - loss: 0.6452 - precision_at_recall80: 0.8932 - val_accuracy: 0.8960 - val_auc: 0.9902 - val_loss: 0.5491 - val_precision_at_recall80: 0.9921\n",
      "Epoch 22/300\n",
      "\u001b[1m 1/33\u001b[0m \u001b[37m━━━━━━━━━━━━━━━━━━━━\u001b[0m \u001b[1m0s\u001b[0m 20ms/step - accuracy: 0.9583 - auc: 0.9933 - loss: 0.6311 - precision_at_recall80: 1.0000\n",
      "Current LR: 0.003588\n",
      "\u001b[1m33/33\u001b[0m \u001b[32m━━━━━━━━━━━━━━━━━━━━\u001b[0m\u001b[37m\u001b[0m \u001b[1m0s\u001b[0m 3ms/step - accuracy: 0.8857 - auc: 0.9515 - loss: 0.6245 - precision_at_recall80: 0.9422 - val_accuracy: 0.8960 - val_auc: 0.9918 - val_loss: 0.5415 - val_precision_at_recall80: 1.0000\n",
      "Epoch 23/300\n",
      "\u001b[1m 1/33\u001b[0m \u001b[37m━━━━━━━━━━━━━━━━━━━━\u001b[0m \u001b[1m0s\u001b[0m 22ms/step - accuracy: 0.8750 - auc: 1.0000 - loss: 0.5573 - precision_at_recall80: 1.0000\n",
      "Current LR: 0.002764\n",
      "\u001b[1m33/33\u001b[0m \u001b[32m━━━━━━━━━━━━━━━━━━━━\u001b[0m\u001b[37m\u001b[0m \u001b[1m0s\u001b[0m 3ms/step - accuracy: 0.9011 - auc: 0.9686 - loss: 0.5951 - precision_at_recall80: 0.9514 - val_accuracy: 0.8786 - val_auc: 0.9902 - val_loss: 0.5493 - val_precision_at_recall80: 0.9919\n",
      "Epoch 24/300\n",
      "\u001b[1m 1/33\u001b[0m \u001b[37m━━━━━━━━━━━━━━━━━━━━\u001b[0m \u001b[1m0s\u001b[0m 19ms/step - accuracy: 0.9167 - auc: 0.8020 - loss: 0.6232 - precision_at_recall80: 0.8750\n",
      "Current LR: 0.001985\n",
      "\u001b[1m33/33\u001b[0m \u001b[32m━━━━━━━━━━━━━━━━━━━━\u001b[0m\u001b[37m\u001b[0m \u001b[1m0s\u001b[0m 3ms/step - accuracy: 0.9124 - auc: 0.9368 - loss: 0.6078 - precision_at_recall80: 0.9268 - val_accuracy: 0.8613 - val_auc: 0.9886 - val_loss: 0.5592 - val_precision_at_recall80: 0.9758\n",
      "Epoch 25/300\n",
      "\u001b[1m 1/33\u001b[0m \u001b[37m━━━━━━━━━━━━━━━━━━━━\u001b[0m \u001b[1m0s\u001b[0m 20ms/step - accuracy: 0.8750 - auc: 0.9876 - loss: 0.5566 - precision_at_recall80: 1.0000\n",
      "Current LR: 0.001291\n",
      "\u001b[1m33/33\u001b[0m \u001b[32m━━━━━━━━━━━━━━━━━━━━\u001b[0m\u001b[37m\u001b[0m \u001b[1m0s\u001b[0m 3ms/step - accuracy: 0.8857 - auc: 0.9537 - loss: 0.5988 - precision_at_recall80: 0.9325 - val_accuracy: 0.8786 - val_auc: 0.9900 - val_loss: 0.5529 - val_precision_at_recall80: 0.9918\n",
      "Epoch 26/300\n",
      "\u001b[1m 1/33\u001b[0m \u001b[37m━━━━━━━━━━━━━━━━━━━━\u001b[0m \u001b[1m0s\u001b[0m 19ms/step - accuracy: 0.8750 - auc: 0.9736 - loss: 0.5821 - precision_at_recall80: 0.9286\n",
      "Current LR: 0.000721\n",
      "\u001b[1m33/33\u001b[0m \u001b[32m━━━━━━━━━━━━━━━━━━━━\u001b[0m\u001b[37m\u001b[0m \u001b[1m0s\u001b[0m 3ms/step - accuracy: 0.9171 - auc: 0.9667 - loss: 0.5781 - precision_at_recall80: 0.9603 - val_accuracy: 0.8786 - val_auc: 0.9902 - val_loss: 0.5396 - val_precision_at_recall80: 0.9918\n",
      "Epoch 27/300\n",
      "\u001b[1m 1/33\u001b[0m \u001b[37m━━━━━━━━━━━━━━━━━━━━\u001b[0m \u001b[1m0s\u001b[0m 20ms/step - accuracy: 0.9583 - auc: 1.0000 - loss: 0.5354 - precision_at_recall80: 1.0000\n",
      "Current LR: 0.000303\n",
      "\u001b[1m33/33\u001b[0m \u001b[32m━━━━━━━━━━━━━━━━━━━━\u001b[0m\u001b[37m\u001b[0m \u001b[1m0s\u001b[0m 3ms/step - accuracy: 0.8939 - auc: 0.9508 - loss: 0.5896 - precision_at_recall80: 0.9405 - val_accuracy: 0.8786 - val_auc: 0.9902 - val_loss: 0.5331 - val_precision_at_recall80: 1.0000\n",
      "Epoch 28/300\n",
      "\u001b[1m 1/33\u001b[0m \u001b[37m━━━━━━━━━━━━━━━━━━━━\u001b[0m \u001b[1m0s\u001b[0m 20ms/step - accuracy: 0.9167 - auc: 0.9549 - loss: 0.5887 - precision_at_recall80: 0.9231\n",
      "Current LR: 0.000060\n",
      "\u001b[1m33/33\u001b[0m \u001b[32m━━━━━━━━━━━━━━━━━━━━\u001b[0m\u001b[37m\u001b[0m \u001b[1m0s\u001b[0m 3ms/step - accuracy: 0.9167 - auc: 0.9690 - loss: 0.5665 - precision_at_recall80: 0.9466 - val_accuracy: 0.8786 - val_auc: 0.9903 - val_loss: 0.5333 - val_precision_at_recall80: 1.0000\n",
      "Epoch 29/300\n",
      "\u001b[1m 1/33\u001b[0m \u001b[37m━━━━━━━━━━━━━━━━━━━━\u001b[0m \u001b[1m0s\u001b[0m 20ms/step - accuracy: 0.8750 - auc: 0.9630 - loss: 0.6063 - precision_at_recall80: 0.9231\n",
      "Current LR: 0.006140\n",
      "\u001b[1m33/33\u001b[0m \u001b[32m━━━━━━━━━━━━━━━━━━━━\u001b[0m\u001b[37m\u001b[0m \u001b[1m0s\u001b[0m 4ms/step - accuracy: 0.8901 - auc: 0.9204 - loss: 0.5948 - precision_at_recall80: 0.9045 - val_accuracy: 0.8786 - val_auc: 0.9899 - val_loss: 0.5652 - val_precision_at_recall80: 0.9840\n",
      "Epoch 30/300\n",
      "\u001b[1m 1/33\u001b[0m \u001b[37m━━━━━━━━━━━━━━━━━━━━\u001b[0m \u001b[1m0s\u001b[0m 22ms/step - accuracy: 0.8333 - auc: 0.9755 - loss: 0.5932 - precision_at_recall80: 1.0000\n",
      "Current LR: 0.006089\n",
      "\u001b[1m33/33\u001b[0m \u001b[32m━━━━━━━━━━━━━━━━━━━━\u001b[0m\u001b[37m\u001b[0m \u001b[1m0s\u001b[0m 3ms/step - accuracy: 0.8866 - auc: 0.9613 - loss: 0.6067 - precision_at_recall80: 0.9384 - val_accuracy: 0.9191 - val_auc: 0.9889 - val_loss: 0.6778 - val_precision_at_recall80: 0.9690\n",
      "Epoch 31/300\n",
      "\u001b[1m 1/33\u001b[0m \u001b[37m━━━━━━━━━━━━━━━━━━━━\u001b[0m \u001b[1m0s\u001b[0m 21ms/step - accuracy: 0.8333 - auc: 0.9384 - loss: 0.6218 - precision_at_recall80: 0.8889\n",
      "Current LR: 0.005966\n",
      "\u001b[1m33/33\u001b[0m \u001b[32m━━━━━━━━━━━━━━━━━━━━\u001b[0m\u001b[37m\u001b[0m \u001b[1m0s\u001b[0m 3ms/step - accuracy: 0.8736 - auc: 0.9383 - loss: 0.6304 - precision_at_recall80: 0.8958 - val_accuracy: 0.9017 - val_auc: 0.9896 - val_loss: 0.7648 - val_precision_at_recall80: 0.9917\n",
      "Epoch 32/300\n",
      "\u001b[1m 1/33\u001b[0m \u001b[37m━━━━━━━━━━━━━━━━━━━━\u001b[0m \u001b[1m0s\u001b[0m 20ms/step - accuracy: 0.7917 - auc: 0.9317 - loss: 0.6609 - precision_at_recall80: 1.0000\n",
      "Current LR: 0.005776\n",
      "\u001b[1m33/33\u001b[0m \u001b[32m━━━━━━━━━━━━━━━━━━━━\u001b[0m\u001b[37m\u001b[0m \u001b[1m0s\u001b[0m 3ms/step - accuracy: 0.8590 - auc: 0.9286 - loss: 0.6494 - precision_at_recall80: 0.9173 - val_accuracy: 0.8960 - val_auc: 0.9890 - val_loss: 0.6977 - val_precision_at_recall80: 0.9760\n",
      "Epoch 33/300\n",
      "\u001b[1m 1/33\u001b[0m \u001b[37m━━━━━━━━━━━━━━━━━━━━\u001b[0m \u001b[1m0s\u001b[0m 19ms/step - accuracy: 0.9167 - auc: 0.9898 - loss: 0.5863 - precision_at_recall80: 1.0000\n",
      "Current LR: 0.005521\n",
      "\u001b[1m33/33\u001b[0m \u001b[32m━━━━━━━━━━━━━━━━━━━━\u001b[0m\u001b[37m\u001b[0m \u001b[1m0s\u001b[0m 3ms/step - accuracy: 0.8923 - auc: 0.9610 - loss: 0.6231 - precision_at_recall80: 0.9478 - val_accuracy: 0.9075 - val_auc: 0.9918 - val_loss: 0.6069 - val_precision_at_recall80: 1.0000\n",
      "Epoch 34/300\n",
      "\u001b[1m 1/33\u001b[0m \u001b[37m━━━━━━━━━━━━━━━━━━━━\u001b[0m \u001b[1m0s\u001b[0m 21ms/step - accuracy: 0.8750 - auc: 0.9432 - loss: 0.6320 - precision_at_recall80: 0.9000\n",
      "Current LR: 0.005209\n",
      "\u001b[1m33/33\u001b[0m \u001b[32m━━━━━━━━━━━━━━━━━━━━\u001b[0m\u001b[37m\u001b[0m \u001b[1m0s\u001b[0m 3ms/step - accuracy: 0.8858 - auc: 0.9493 - loss: 0.6234 - precision_at_recall80: 0.9455 - val_accuracy: 0.9133 - val_auc: 0.9901 - val_loss: 0.5913 - val_precision_at_recall80: 0.9839\n",
      "Epoch 35/300\n",
      "\u001b[1m 1/33\u001b[0m \u001b[37m━━━━━━━━━━━━━━━━━━━━\u001b[0m \u001b[1m0s\u001b[0m 21ms/step - accuracy: 1.0000 - auc: 1.0000 - loss: 0.5454 - precision_at_recall80: 1.0000\n",
      "Current LR: 0.004847\n",
      "\u001b[1m33/33\u001b[0m \u001b[32m━━━━━━━━━━━━━━━━━━━━\u001b[0m\u001b[37m\u001b[0m \u001b[1m0s\u001b[0m 3ms/step - accuracy: 0.8992 - auc: 0.9469 - loss: 0.6186 - precision_at_recall80: 0.9037 - val_accuracy: 0.9133 - val_auc: 0.9912 - val_loss: 0.5901 - val_precision_at_recall80: 1.0000\n",
      "Epoch 36/300\n",
      "\u001b[1m 1/33\u001b[0m \u001b[37m━━━━━━━━━━━━━━━━━━━━\u001b[0m \u001b[1m0s\u001b[0m 19ms/step - accuracy: 1.0000 - auc: 1.0000 - loss: 0.5308 - precision_at_recall80: 1.0000\n",
      "Current LR: 0.004443\n",
      "\u001b[1m33/33\u001b[0m \u001b[32m━━━━━━━━━━━━━━━━━━━━\u001b[0m\u001b[37m\u001b[0m \u001b[1m0s\u001b[0m 3ms/step - accuracy: 0.9200 - auc: 0.9589 - loss: 0.5932 - precision_at_recall80: 0.9371 - val_accuracy: 0.8844 - val_auc: 0.9889 - val_loss: 0.5783 - val_precision_at_recall80: 0.9779\n",
      "Epoch 37/300\n",
      "\u001b[1m 1/33\u001b[0m \u001b[37m━━━━━━━━━━━━━━━━━━━━\u001b[0m \u001b[1m0s\u001b[0m 20ms/step - accuracy: 1.0000 - auc: 1.0000 - loss: 0.5218 - precision_at_recall80: 1.0000\n",
      "Current LR: 0.004006\n",
      "\u001b[1m33/33\u001b[0m \u001b[32m━━━━━━━━━━━━━━━━━━━━\u001b[0m\u001b[37m\u001b[0m \u001b[1m0s\u001b[0m 3ms/step - accuracy: 0.9042 - auc: 0.9680 - loss: 0.5951 - precision_at_recall80: 0.9455 - val_accuracy: 0.8902 - val_auc: 0.9907 - val_loss: 0.5531 - val_precision_at_recall80: 1.0000\n",
      "Epoch 38/300\n",
      "\u001b[1m 1/33\u001b[0m \u001b[37m━━━━━━━━━━━━━━━━━━━━\u001b[0m \u001b[1m0s\u001b[0m 20ms/step - accuracy: 0.8750 - auc: 0.9809 - loss: 0.5984 - precision_at_recall80: 1.0000\n",
      "Current LR: 0.003548\n",
      "\u001b[1m33/33\u001b[0m \u001b[32m━━━━━━━━━━━━━━━━━━━━\u001b[0m\u001b[37m\u001b[0m \u001b[1m0s\u001b[0m 3ms/step - accuracy: 0.8942 - auc: 0.9478 - loss: 0.6025 - precision_at_recall80: 0.9359 - val_accuracy: 0.8902 - val_auc: 0.9901 - val_loss: 0.5614 - val_precision_at_recall80: 0.9840\n",
      "Epoch 39/300\n",
      "\u001b[1m32/33\u001b[0m \u001b[32m━━━━━━━━━━━━━━━━━━━\u001b[0m\u001b[37m━\u001b[0m \u001b[1m0s\u001b[0m 2ms/step - accuracy: 0.8912 - auc: 0.9400 - loss: 0.6128 - precision_at_recall80: 0.9291 \n",
      "Current LR: 0.003078\n",
      "\u001b[1m33/33\u001b[0m \u001b[32m━━━━━━━━━━━━━━━━━━━━\u001b[0m\u001b[37m\u001b[0m \u001b[1m0s\u001b[0m 4ms/step - accuracy: 0.8912 - auc: 0.9401 - loss: 0.6125 - precision_at_recall80: 0.9300 - val_accuracy: 0.8786 - val_auc: 0.9902 - val_loss: 0.5682 - val_precision_at_recall80: 0.9917\n",
      "Epoch 40/300\n",
      "\u001b[1m 1/33\u001b[0m \u001b[37m━━━━━━━━━━━━━━━━━━━━\u001b[0m \u001b[1m0s\u001b[0m 19ms/step - accuracy: 0.7083 - auc: 0.8969 - loss: 0.7337 - precision_at_recall80: 0.7857\n",
      "Current LR: 0.002609\n",
      "\u001b[1m33/33\u001b[0m \u001b[32m━━━━━━━━━━━━━━━━━━━━\u001b[0m\u001b[37m\u001b[0m \u001b[1m0s\u001b[0m 4ms/step - accuracy: 0.8880 - auc: 0.9541 - loss: 0.5973 - precision_at_recall80: 0.9241 - val_accuracy: 0.8786 - val_auc: 0.9904 - val_loss: 0.5620 - val_precision_at_recall80: 1.0000\n",
      "Epoch 41/300\n",
      "\u001b[1m 1/33\u001b[0m \u001b[37m━━━━━━━━━━━━━━━━━━━━\u001b[0m \u001b[1m0s\u001b[0m 19ms/step - accuracy: 0.8750 - auc: 0.9242 - loss: 0.6323 - precision_at_recall80: 0.9231\n",
      "Current LR: 0.002150\n",
      "\u001b[1m33/33\u001b[0m \u001b[32m━━━━━━━━━━━━━━━━━━━━\u001b[0m\u001b[37m\u001b[0m \u001b[1m0s\u001b[0m 4ms/step - accuracy: 0.8967 - auc: 0.9312 - loss: 0.6086 - precision_at_recall80: 0.9317 - val_accuracy: 0.8902 - val_auc: 0.9905 - val_loss: 0.5632 - val_precision_at_recall80: 1.0000\n",
      "Epoch 42/300\n",
      "\u001b[1m 1/33\u001b[0m \u001b[37m━━━━━━━━━━━━━━━━━━━━\u001b[0m \u001b[1m0s\u001b[0m 21ms/step - accuracy: 0.9583 - auc: 0.9570 - loss: 0.5783 - precision_at_recall80: 0.9286\n",
      "Current LR: 0.001713\n",
      "\u001b[1m33/33\u001b[0m \u001b[32m━━━━━━━━━━━━━━━━━━━━\u001b[0m\u001b[37m\u001b[0m \u001b[1m0s\u001b[0m 3ms/step - accuracy: 0.9044 - auc: 0.9639 - loss: 0.5803 - precision_at_recall80: 0.9488 - val_accuracy: 0.8786 - val_auc: 0.9904 - val_loss: 0.5478 - val_precision_at_recall80: 1.0000\n",
      "Epoch 43/300\n",
      "\u001b[1m30/33\u001b[0m \u001b[32m━━━━━━━━━━━━━━━━━━\u001b[0m\u001b[37m━━\u001b[0m \u001b[1m0s\u001b[0m 2ms/step - accuracy: 0.8892 - auc: 0.9208 - loss: 0.6027 - precision_at_recall80: 0.8987 \n",
      "Current LR: 0.001307\n",
      "\u001b[1m33/33\u001b[0m \u001b[32m━━━━━━━━━━━━━━━━━━━━\u001b[0m\u001b[37m\u001b[0m \u001b[1m0s\u001b[0m 4ms/step - accuracy: 0.8895 - auc: 0.9228 - loss: 0.6020 - precision_at_recall80: 0.9008 - val_accuracy: 0.8786 - val_auc: 0.9903 - val_loss: 0.5403 - val_precision_at_recall80: 1.0000\n",
      "Epoch 44/300\n",
      "\u001b[1m 1/33\u001b[0m \u001b[37m━━━━━━━━━━━━━━━━━━━━\u001b[0m \u001b[1m0s\u001b[0m 20ms/step - accuracy: 0.9167 - auc: 0.9804 - loss: 0.5568 - precision_at_recall80: 1.0000\n",
      "Current LR: 0.000944\n",
      "\u001b[1m33/33\u001b[0m \u001b[32m━━━━━━━━━━━━━━━━━━━━\u001b[0m\u001b[37m\u001b[0m \u001b[1m0s\u001b[0m 4ms/step - accuracy: 0.9145 - auc: 0.9738 - loss: 0.5611 - precision_at_recall80: 0.9565 - val_accuracy: 0.8786 - val_auc: 0.9881 - val_loss: 0.5345 - val_precision_at_recall80: 0.9766\n",
      "Epoch 45/300\n",
      "\u001b[1m 1/33\u001b[0m \u001b[37m━━━━━━━━━━━━━━━━━━━━\u001b[0m \u001b[1m0s\u001b[0m 21ms/step - accuracy: 0.9167 - auc: 0.9703 - loss: 0.5874 - precision_at_recall80: 0.8750\n",
      "Current LR: 0.000630\n",
      "\u001b[1m33/33\u001b[0m \u001b[32m━━━━━━━━━━━━━━━━━━━━\u001b[0m\u001b[37m\u001b[0m \u001b[1m0s\u001b[0m 3ms/step - accuracy: 0.9071 - auc: 0.9563 - loss: 0.5707 - precision_at_recall80: 0.9429 - val_accuracy: 0.8786 - val_auc: 0.9908 - val_loss: 0.5211 - val_precision_at_recall80: 1.0000\n",
      "Epoch 46/300\n",
      "\u001b[1m 1/33\u001b[0m \u001b[37m━━━━━━━━━━━━━━━━━━━━\u001b[0m \u001b[1m0s\u001b[0m 19ms/step - accuracy: 0.8333 - auc: 0.7393 - loss: 0.6484 - precision_at_recall80: 0.8889\n",
      "Current LR: 0.000374\n",
      "\u001b[1m33/33\u001b[0m \u001b[32m━━━━━━━━━━━━━━━━━━━━\u001b[0m\u001b[37m\u001b[0m \u001b[1m0s\u001b[0m 3ms/step - accuracy: 0.9028 - auc: 0.9409 - loss: 0.5701 - precision_at_recall80: 0.9498 - val_accuracy: 0.8786 - val_auc: 0.9900 - val_loss: 0.5293 - val_precision_at_recall80: 0.9917\n",
      "Epoch 47/300\n",
      "\u001b[1m 1/33\u001b[0m \u001b[37m━━━━━━━━━━━━━━━━━━━━\u001b[0m \u001b[1m0s\u001b[0m 21ms/step - accuracy: 0.9583 - auc: 0.9881 - loss: 0.5646 - precision_at_recall80: 1.0000\n",
      "Current LR: 0.000181\n",
      "\u001b[1m33/33\u001b[0m \u001b[32m━━━━━━━━━━━━━━━━━━━━\u001b[0m\u001b[37m\u001b[0m \u001b[1m0s\u001b[0m 3ms/step - accuracy: 0.9077 - auc: 0.9478 - loss: 0.5687 - precision_at_recall80: 0.9469 - val_accuracy: 0.8786 - val_auc: 0.9904 - val_loss: 0.5244 - val_precision_at_recall80: 0.9919\n",
      "Epoch 48/300\n",
      "\u001b[1m 1/33\u001b[0m \u001b[37m━━━━━━━━━━━━━━━━━━━━\u001b[0m \u001b[1m0s\u001b[0m 19ms/step - accuracy: 1.0000 - auc: 1.0000 - loss: 0.4799 - precision_at_recall80: 1.0000\n",
      "Current LR: 0.000057\n",
      "\u001b[1m33/33\u001b[0m \u001b[32m━━━━━━━━━━━━━━━━━━━━\u001b[0m\u001b[37m\u001b[0m \u001b[1m0s\u001b[0m 3ms/step - accuracy: 0.9217 - auc: 0.9625 - loss: 0.5485 - precision_at_recall80: 0.9529 - val_accuracy: 0.8786 - val_auc: 0.9902 - val_loss: 0.5272 - val_precision_at_recall80: 0.9919\n"
     ]
    }
   ],
   "source": [
    "history = train_model(\n",
    "    model=model,\n",
    "    x_train=x_train,\n",
    "    y_train=y_train,\n",
    "    x_val=x_validation,\n",
    "    y_val=y_validation,\n",
    "    epochs=300,\n",
    "    batch_size=24\n",
    ")"
   ]
  },
  {
   "cell_type": "code",
   "execution_count": 34,
   "metadata": {
    "colab": {
     "base_uri": "https://localhost:8080/",
     "height": 493
    },
    "id": "DbVqOTDccQky",
    "outputId": "9fe29797-db32-44ee-d73f-3479a149d66d"
   },
   "outputs": [
    {
     "name": "stdout",
     "output_type": "stream",
     "text": [
      "\u001b[1m6/6\u001b[0m \u001b[32m━━━━━━━━━━━━━━━━━━━━\u001b[0m\u001b[37m\u001b[0m \u001b[1m0s\u001b[0m 5ms/step - accuracy: 0.9213 - auc: 0.9931 - loss: 0.5974 - precision_at_recall80: 1.0000 \n"
     ]
    },
    {
     "data": {
      "image/png": "[encoded data removed]",
      "text/plain": [
       "<Figure size 1200x500 with 3 Axes>"
      ]
     },
     "metadata": {},
     "output_type": "display_data"
    }
   ],
   "source": [
    "plot_evaluation_results(\n",
    "    results=evaluate_model(model=model, x_test=x_validation, y_test=y_validation),\n",
    "    class_names=np.unique(label_encoder.inverse_transform(y_train))\n",
    ")"
   ]
  },
  {
   "cell_type": "code",
   "execution_count": 35,
   "metadata": {
    "id": "NxfExHI0Q3Fj"
   },
   "outputs": [],
   "source": [
    "MODEL_PATH = \"models/cancer_detection_model.keras\"\n",
    "\n",
    "os.makedirs(\"models\", exist_ok=True)\n",
    "model.save(MODEL_PATH)"
   ]
  }
 ],
 "metadata": {
  "accelerator": "GPU",
  "colab": {
   "gpuType": "T4",
   "provenance": []
  },
  "kernelspec": {
   "display_name": "Python 3 (ipykernel)",
   "language": "python",
   "name": "python3"
  },
  "language_info": {
   "codemirror_mode": {
    "name": "ipython",
    "version": 3
   },
   "file_extension": ".py",
   "mimetype": "text/x-python",
   "name": "python",
   "nbconvert_exporter": "python",
   "pygments_lexer": "ipython3",
   "version": "3.12.9"
  }
 },
 "nbformat": 4,
 "nbformat_minor": 4
}
