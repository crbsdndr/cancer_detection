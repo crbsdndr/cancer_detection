{
  "cells": [
    {
      "cell_type": "markdown",
      "metadata": {
        "id": "TDO9JTpGQIPN"
      },
      "source": [
        "# **About**"
      ]
    },
    {
      "cell_type": "markdown",
      "metadata": {
        "id": "PfPnpUJTP3zX"
      },
      "source": [
        "## **Libraries**"
      ]
    },
    {
      "cell_type": "markdown",
      "metadata": {
        "id": "BxCTDg_fY_xR"
      },
      "source": [
        "### **Setting Up**"
      ]
    },
    {
      "cell_type": "code",
      "execution_count": 2,
      "metadata": {
        "id": "phXo-4A2ZTlu"
      },
      "outputs": [],
      "source": [
        "def is_in_colab():\n",
        "  try:\n",
        "    from google.colab import files\n",
        "    return True\n",
        "  except ImportError:\n",
        "    return False"
      ]
    },
    {
      "cell_type": "markdown",
      "metadata": {
        "id": "KwfN2uUhZPUI"
      },
      "source": [
        "### **Importing Libraries**"
      ]
    },
    {
      "cell_type": "code",
      "execution_count": 3,
      "metadata": {
        "colab": {
          "base_uri": "https://localhost:8080/"
        },
        "id": "eJtKQkqJOHxd",
        "outputId": "24e5eb25-b49e-4ad1-98b9-f478e98babbf"
      },
      "outputs": [],
      "source": [
        "from sklearn.metrics import confusion_matrix, classification_report\n",
        "from sklearn.preprocessing import LabelEncoder, MinMaxScaler\n",
        "from sklearn.model_selection import train_test_split\n",
        "from tensorflow.keras.layers import GaussianNoise\n",
        "from tensorflow.keras import regularizers\n",
        "import matplotlib.pyplot as plt\n",
        "import tensorflow as tf\n",
        "import seaborn as sns\n",
        "import pandas as pd\n",
        "import numpy as np\n",
        "import os\n",
        "\n",
        "is_colab = is_in_colab()\n",
        "if is_colab:\n",
        "  from google.colab import files\n",
        "  !pip install kaggle"
      ]
    },
    {
      "cell_type": "markdown",
      "metadata": {
        "id": "MzUo71aeP_le"
      },
      "source": [
        "## **Collect Data**"
      ]
    },
    {
      "cell_type": "markdown",
      "metadata": {
        "id": "lI9bc5W9GU_R"
      },
      "source": [
        "### **Original**"
      ]
    },
    {
      "cell_type": "code",
      "execution_count": 5,
      "metadata": {
        "colab": {
          "base_uri": "https://localhost:8080/",
          "height": 142
        },
        "id": "BUGAl0PUQQl2",
        "outputId": "17352a00-cf42-45e5-8882-56bb94cf52d3"
      },
      "outputs": [
        {
          "name": "stdout",
          "output_type": "stream",
          "text": [
            "Dataset found locally.\n"
          ]
        }
      ],
      "source": [
        "lung_original = None\n",
        "\n",
        "original_path = os.path.join(os.getcwd(), \"datasets/lung_survey_original.csv\")\n",
        "\n",
        "if os.path.isfile(original_path):\n",
        "    print(\"Dataset found locally.\")\n",
        "    lung_original = pd.read_csv(original_path)\n",
        "\n",
        "elif is_colab:\n",
        "    print(\"Please upload your kaggle.json API token to access the dataset from Kaggle.\")\n",
        "    files.upload()\n",
        "\n",
        "    !mkdir -p ~/.kaggle\n",
        "    !cp kaggle.json ~/.kaggle/\n",
        "    !chmod 600 ~/.kaggle/kaggle.json\n",
        "\n",
        "    !kaggle datasets download -d mysarahmadbhat/lung-cancer\n",
        "    !unzip -q \"./lung-cancer.zip\" -d \"./datasets\"\n",
        "\n",
        "    !rm \"./lung-cancer.zip\"\n",
        "    !rm \"./kaggle.json\"\n",
        "\n",
        "    os.rename(\"datasets/survey lung cancer.csv\", original_path)\n",
        "\n",
        "    lung_original = pd.read_csv(original_path)\n",
        "    print(f\"Dataset successfully saved at: {original_path}\")\n",
        "\n",
        "else:\n",
        "    raise FileNotFoundError(\"Dataset not found. Please download or upload the dataset first.\")"
      ]
    },
    {
      "cell_type": "code",
      "execution_count": 6,
      "metadata": {
        "colab": {
          "base_uri": "https://localhost:8080/",
          "height": 181
        },
        "id": "8LMTXzAEgRcU",
        "outputId": "9cd9e596-64d4-43ce-cae6-152d55649014"
      },
      "outputs": [
        {
          "data": {
            "text/html": [
              "<div>\n",
              "<style scoped>\n",
              "    .dataframe tbody tr th:only-of-type {\n",
              "        vertical-align: middle;\n",
              "    }\n",
              "\n",
              "    .dataframe tbody tr th {\n",
              "        vertical-align: top;\n",
              "    }\n",
              "\n",
              "    .dataframe thead th {\n",
              "        text-align: right;\n",
              "    }\n",
              "</style>\n",
              "<table border=\"1\" class=\"dataframe\">\n",
              "  <thead>\n",
              "    <tr style=\"text-align: right;\">\n",
              "      <th></th>\n",
              "      <th>GENDER</th>\n",
              "      <th>AGE</th>\n",
              "      <th>SMOKING</th>\n",
              "      <th>YELLOW_FINGERS</th>\n",
              "      <th>ANXIETY</th>\n",
              "      <th>PEER_PRESSURE</th>\n",
              "      <th>CHRONIC DISEASE</th>\n",
              "      <th>FATIGUE</th>\n",
              "      <th>ALLERGY</th>\n",
              "      <th>WHEEZING</th>\n",
              "      <th>ALCOHOL CONSUMING</th>\n",
              "      <th>COUGHING</th>\n",
              "      <th>SHORTNESS OF BREATH</th>\n",
              "      <th>SWALLOWING DIFFICULTY</th>\n",
              "      <th>CHEST PAIN</th>\n",
              "      <th>LUNG_CANCER</th>\n",
              "    </tr>\n",
              "  </thead>\n",
              "  <tbody>\n",
              "    <tr>\n",
              "      <th>306</th>\n",
              "      <td>M</td>\n",
              "      <td>58</td>\n",
              "      <td>2</td>\n",
              "      <td>1</td>\n",
              "      <td>1</td>\n",
              "      <td>1</td>\n",
              "      <td>1</td>\n",
              "      <td>1</td>\n",
              "      <td>2</td>\n",
              "      <td>2</td>\n",
              "      <td>2</td>\n",
              "      <td>2</td>\n",
              "      <td>1</td>\n",
              "      <td>1</td>\n",
              "      <td>2</td>\n",
              "      <td>YES</td>\n",
              "    </tr>\n",
              "    <tr>\n",
              "      <th>307</th>\n",
              "      <td>M</td>\n",
              "      <td>67</td>\n",
              "      <td>2</td>\n",
              "      <td>1</td>\n",
              "      <td>2</td>\n",
              "      <td>1</td>\n",
              "      <td>1</td>\n",
              "      <td>2</td>\n",
              "      <td>2</td>\n",
              "      <td>1</td>\n",
              "      <td>2</td>\n",
              "      <td>2</td>\n",
              "      <td>2</td>\n",
              "      <td>1</td>\n",
              "      <td>2</td>\n",
              "      <td>YES</td>\n",
              "    </tr>\n",
              "    <tr>\n",
              "      <th>308</th>\n",
              "      <td>M</td>\n",
              "      <td>62</td>\n",
              "      <td>1</td>\n",
              "      <td>1</td>\n",
              "      <td>1</td>\n",
              "      <td>2</td>\n",
              "      <td>1</td>\n",
              "      <td>2</td>\n",
              "      <td>2</td>\n",
              "      <td>2</td>\n",
              "      <td>2</td>\n",
              "      <td>1</td>\n",
              "      <td>1</td>\n",
              "      <td>2</td>\n",
              "      <td>1</td>\n",
              "      <td>YES</td>\n",
              "    </tr>\n",
              "  </tbody>\n",
              "</table>\n",
              "</div>"
            ],
            "text/plain": [
              "    GENDER  AGE  SMOKING  YELLOW_FINGERS  ANXIETY  PEER_PRESSURE  \\\n",
              "306      M   58        2               1        1              1   \n",
              "307      M   67        2               1        2              1   \n",
              "308      M   62        1               1        1              2   \n",
              "\n",
              "     CHRONIC DISEASE  FATIGUE   ALLERGY   WHEEZING  ALCOHOL CONSUMING  \\\n",
              "306                1         1         2         2                  2   \n",
              "307                1         2         2         1                  2   \n",
              "308                1         2         2         2                  2   \n",
              "\n",
              "     COUGHING  SHORTNESS OF BREATH  SWALLOWING DIFFICULTY  CHEST PAIN  \\\n",
              "306         2                    1                      1           2   \n",
              "307         2                    2                      1           2   \n",
              "308         1                    1                      2           1   \n",
              "\n",
              "    LUNG_CANCER  \n",
              "306         YES  \n",
              "307         YES  \n",
              "308         YES  "
            ]
          },
          "execution_count": 6,
          "metadata": {},
          "output_type": "execute_result"
        }
      ],
      "source": [
        "lung_original.tail(3)"
      ]
    },
    {
      "cell_type": "markdown",
      "metadata": {
        "id": "sGdCb_7BBfLA"
      },
      "source": [
        "#### **Data Information**"
      ]
    },
    {
      "cell_type": "code",
      "execution_count": 7,
      "metadata": {
        "colab": {
          "base_uri": "https://localhost:8080/"
        },
        "id": "s1UregoMBjdM",
        "outputId": "529e5780-b2b3-4531-925a-f019c5c641ba"
      },
      "outputs": [
        {
          "name": "stdout",
          "output_type": "stream",
          "text": [
            "<class 'pandas.core.frame.DataFrame'>\n",
            "RangeIndex: 309 entries, 0 to 308\n",
            "Data columns (total 16 columns):\n",
            " #   Column                 Non-Null Count  Dtype \n",
            "---  ------                 --------------  ----- \n",
            " 0   GENDER                 309 non-null    object\n",
            " 1   AGE                    309 non-null    int64 \n",
            " 2   SMOKING                309 non-null    int64 \n",
            " 3   YELLOW_FINGERS         309 non-null    int64 \n",
            " 4   ANXIETY                309 non-null    int64 \n",
            " 5   PEER_PRESSURE          309 non-null    int64 \n",
            " 6   CHRONIC DISEASE        309 non-null    int64 \n",
            " 7   FATIGUE                309 non-null    int64 \n",
            " 8   ALLERGY                309 non-null    int64 \n",
            " 9   WHEEZING               309 non-null    int64 \n",
            " 10  ALCOHOL CONSUMING      309 non-null    int64 \n",
            " 11  COUGHING               309 non-null    int64 \n",
            " 12  SHORTNESS OF BREATH    309 non-null    int64 \n",
            " 13  SWALLOWING DIFFICULTY  309 non-null    int64 \n",
            " 14  CHEST PAIN             309 non-null    int64 \n",
            " 15  LUNG_CANCER            309 non-null    object\n",
            "dtypes: int64(14), object(2)\n",
            "memory usage: 38.8+ KB\n"
          ]
        }
      ],
      "source": [
        "lung_original.info()"
      ]
    },
    {
      "cell_type": "code",
      "execution_count": 8,
      "metadata": {
        "colab": {
          "base_uri": "https://localhost:8080/"
        },
        "id": "rEK0sg7rBlXu",
        "outputId": "116e7044-be8e-49df-b149-861df2688f34"
      },
      "outputs": [
        {
          "name": "stdout",
          "output_type": "stream",
          "text": [
            "Total missing values: 0\n",
            "Total duplicates: 33\n"
          ]
        }
      ],
      "source": [
        "print(f\"Total missing values: {lung_original.isna().sum().sum()}\")\n",
        "print(f\"Total duplicates: {lung_original.duplicated().sum()}\")"
      ]
    },
    {
      "cell_type": "code",
      "execution_count": 9,
      "metadata": {
        "colab": {
          "base_uri": "https://localhost:8080/",
          "height": 337
        },
        "id": "OH__iYmWBol6",
        "outputId": "a06a16c1-7c34-4b9e-9b58-dbfe4ef451f3"
      },
      "outputs": [
        {
          "data": {
            "text/html": [
              "<div>\n",
              "<style scoped>\n",
              "    .dataframe tbody tr th:only-of-type {\n",
              "        vertical-align: middle;\n",
              "    }\n",
              "\n",
              "    .dataframe tbody tr th {\n",
              "        vertical-align: top;\n",
              "    }\n",
              "\n",
              "    .dataframe thead th {\n",
              "        text-align: right;\n",
              "    }\n",
              "</style>\n",
              "<table border=\"1\" class=\"dataframe\">\n",
              "  <thead>\n",
              "    <tr style=\"text-align: right;\">\n",
              "      <th></th>\n",
              "      <th>AGE</th>\n",
              "      <th>SMOKING</th>\n",
              "      <th>YELLOW_FINGERS</th>\n",
              "      <th>ANXIETY</th>\n",
              "      <th>PEER_PRESSURE</th>\n",
              "      <th>CHRONIC DISEASE</th>\n",
              "      <th>FATIGUE</th>\n",
              "      <th>ALLERGY</th>\n",
              "      <th>WHEEZING</th>\n",
              "      <th>ALCOHOL CONSUMING</th>\n",
              "      <th>COUGHING</th>\n",
              "      <th>SHORTNESS OF BREATH</th>\n",
              "      <th>SWALLOWING DIFFICULTY</th>\n",
              "      <th>CHEST PAIN</th>\n",
              "    </tr>\n",
              "  </thead>\n",
              "  <tbody>\n",
              "    <tr>\n",
              "      <th>count</th>\n",
              "      <td>309.000000</td>\n",
              "      <td>309.000000</td>\n",
              "      <td>309.000000</td>\n",
              "      <td>309.000000</td>\n",
              "      <td>309.000000</td>\n",
              "      <td>309.000000</td>\n",
              "      <td>309.000000</td>\n",
              "      <td>309.000000</td>\n",
              "      <td>309.000000</td>\n",
              "      <td>309.000000</td>\n",
              "      <td>309.000000</td>\n",
              "      <td>309.000000</td>\n",
              "      <td>309.000000</td>\n",
              "      <td>309.000000</td>\n",
              "    </tr>\n",
              "    <tr>\n",
              "      <th>mean</th>\n",
              "      <td>62.673139</td>\n",
              "      <td>1.563107</td>\n",
              "      <td>1.569579</td>\n",
              "      <td>1.498382</td>\n",
              "      <td>1.501618</td>\n",
              "      <td>1.504854</td>\n",
              "      <td>1.673139</td>\n",
              "      <td>1.556634</td>\n",
              "      <td>1.556634</td>\n",
              "      <td>1.556634</td>\n",
              "      <td>1.579288</td>\n",
              "      <td>1.640777</td>\n",
              "      <td>1.469256</td>\n",
              "      <td>1.556634</td>\n",
              "    </tr>\n",
              "    <tr>\n",
              "      <th>std</th>\n",
              "      <td>8.210301</td>\n",
              "      <td>0.496806</td>\n",
              "      <td>0.495938</td>\n",
              "      <td>0.500808</td>\n",
              "      <td>0.500808</td>\n",
              "      <td>0.500787</td>\n",
              "      <td>0.469827</td>\n",
              "      <td>0.497588</td>\n",
              "      <td>0.497588</td>\n",
              "      <td>0.497588</td>\n",
              "      <td>0.494474</td>\n",
              "      <td>0.480551</td>\n",
              "      <td>0.499863</td>\n",
              "      <td>0.497588</td>\n",
              "    </tr>\n",
              "    <tr>\n",
              "      <th>min</th>\n",
              "      <td>21.000000</td>\n",
              "      <td>1.000000</td>\n",
              "      <td>1.000000</td>\n",
              "      <td>1.000000</td>\n",
              "      <td>1.000000</td>\n",
              "      <td>1.000000</td>\n",
              "      <td>1.000000</td>\n",
              "      <td>1.000000</td>\n",
              "      <td>1.000000</td>\n",
              "      <td>1.000000</td>\n",
              "      <td>1.000000</td>\n",
              "      <td>1.000000</td>\n",
              "      <td>1.000000</td>\n",
              "      <td>1.000000</td>\n",
              "    </tr>\n",
              "    <tr>\n",
              "      <th>25%</th>\n",
              "      <td>57.000000</td>\n",
              "      <td>1.000000</td>\n",
              "      <td>1.000000</td>\n",
              "      <td>1.000000</td>\n",
              "      <td>1.000000</td>\n",
              "      <td>1.000000</td>\n",
              "      <td>1.000000</td>\n",
              "      <td>1.000000</td>\n",
              "      <td>1.000000</td>\n",
              "      <td>1.000000</td>\n",
              "      <td>1.000000</td>\n",
              "      <td>1.000000</td>\n",
              "      <td>1.000000</td>\n",
              "      <td>1.000000</td>\n",
              "    </tr>\n",
              "    <tr>\n",
              "      <th>50%</th>\n",
              "      <td>62.000000</td>\n",
              "      <td>2.000000</td>\n",
              "      <td>2.000000</td>\n",
              "      <td>1.000000</td>\n",
              "      <td>2.000000</td>\n",
              "      <td>2.000000</td>\n",
              "      <td>2.000000</td>\n",
              "      <td>2.000000</td>\n",
              "      <td>2.000000</td>\n",
              "      <td>2.000000</td>\n",
              "      <td>2.000000</td>\n",
              "      <td>2.000000</td>\n",
              "      <td>1.000000</td>\n",
              "      <td>2.000000</td>\n",
              "    </tr>\n",
              "    <tr>\n",
              "      <th>75%</th>\n",
              "      <td>69.000000</td>\n",
              "      <td>2.000000</td>\n",
              "      <td>2.000000</td>\n",
              "      <td>2.000000</td>\n",
              "      <td>2.000000</td>\n",
              "      <td>2.000000</td>\n",
              "      <td>2.000000</td>\n",
              "      <td>2.000000</td>\n",
              "      <td>2.000000</td>\n",
              "      <td>2.000000</td>\n",
              "      <td>2.000000</td>\n",
              "      <td>2.000000</td>\n",
              "      <td>2.000000</td>\n",
              "      <td>2.000000</td>\n",
              "    </tr>\n",
              "    <tr>\n",
              "      <th>max</th>\n",
              "      <td>87.000000</td>\n",
              "      <td>2.000000</td>\n",
              "      <td>2.000000</td>\n",
              "      <td>2.000000</td>\n",
              "      <td>2.000000</td>\n",
              "      <td>2.000000</td>\n",
              "      <td>2.000000</td>\n",
              "      <td>2.000000</td>\n",
              "      <td>2.000000</td>\n",
              "      <td>2.000000</td>\n",
              "      <td>2.000000</td>\n",
              "      <td>2.000000</td>\n",
              "      <td>2.000000</td>\n",
              "      <td>2.000000</td>\n",
              "    </tr>\n",
              "  </tbody>\n",
              "</table>\n",
              "</div>"
            ],
            "text/plain": [
              "              AGE     SMOKING  YELLOW_FINGERS     ANXIETY  PEER_PRESSURE  \\\n",
              "count  309.000000  309.000000      309.000000  309.000000     309.000000   \n",
              "mean    62.673139    1.563107        1.569579    1.498382       1.501618   \n",
              "std      8.210301    0.496806        0.495938    0.500808       0.500808   \n",
              "min     21.000000    1.000000        1.000000    1.000000       1.000000   \n",
              "25%     57.000000    1.000000        1.000000    1.000000       1.000000   \n",
              "50%     62.000000    2.000000        2.000000    1.000000       2.000000   \n",
              "75%     69.000000    2.000000        2.000000    2.000000       2.000000   \n",
              "max     87.000000    2.000000        2.000000    2.000000       2.000000   \n",
              "\n",
              "       CHRONIC DISEASE    FATIGUE     ALLERGY     WHEEZING  ALCOHOL CONSUMING  \\\n",
              "count       309.000000  309.000000  309.000000  309.000000         309.000000   \n",
              "mean          1.504854    1.673139    1.556634    1.556634           1.556634   \n",
              "std           0.500787    0.469827    0.497588    0.497588           0.497588   \n",
              "min           1.000000    1.000000    1.000000    1.000000           1.000000   \n",
              "25%           1.000000    1.000000    1.000000    1.000000           1.000000   \n",
              "50%           2.000000    2.000000    2.000000    2.000000           2.000000   \n",
              "75%           2.000000    2.000000    2.000000    2.000000           2.000000   \n",
              "max           2.000000    2.000000    2.000000    2.000000           2.000000   \n",
              "\n",
              "         COUGHING  SHORTNESS OF BREATH  SWALLOWING DIFFICULTY  CHEST PAIN  \n",
              "count  309.000000           309.000000             309.000000  309.000000  \n",
              "mean     1.579288             1.640777               1.469256    1.556634  \n",
              "std      0.494474             0.480551               0.499863    0.497588  \n",
              "min      1.000000             1.000000               1.000000    1.000000  \n",
              "25%      1.000000             1.000000               1.000000    1.000000  \n",
              "50%      2.000000             2.000000               1.000000    2.000000  \n",
              "75%      2.000000             2.000000               2.000000    2.000000  \n",
              "max      2.000000             2.000000               2.000000    2.000000  "
            ]
          },
          "execution_count": 9,
          "metadata": {},
          "output_type": "execute_result"
        }
      ],
      "source": [
        "lung_original.describe()"
      ]
    },
    {
      "cell_type": "markdown",
      "metadata": {
        "id": "vRpexhbrGssz"
      },
      "source": [
        "### **Synthetics**"
      ]
    },
    {
      "cell_type": "code",
      "execution_count": 10,
      "metadata": {
        "colab": {
          "base_uri": "https://localhost:8080/",
          "height": 108
        },
        "id": "QMIBWvEXG6dj",
        "outputId": "41333acc-e0f6-49e2-949e-fd91899733fd"
      },
      "outputs": [
        {
          "name": "stdout",
          "output_type": "stream",
          "text": [
            "Dataset found locally.\n"
          ]
        }
      ],
      "source": [
        "lung_synthetics = None\n",
        "\n",
        "synthetics_path = os.path.join(os.getcwd(), \"datasets/lung_survey_synthetics.csv\")\n",
        "\n",
        "if os.path.isfile(synthetics_path):\n",
        "    print(\"Dataset found locally.\")\n",
        "    lung_synthetics = pd.read_csv(synthetics_path)\n",
        "\n",
        "elif is_colab:\n",
        "    print(\"Please upload the synthetic dataset\")\n",
        "    files.upload()\n",
        "\n",
        "    !mv \"./lung_survey_synthetics.csv\" \"./datasets/lung_survey_synthetics.csv\"\n",
        "\n",
        "    lung_synthetics = pd.read_csv(synthetics_path)\n",
        "    print(f\"Dataset successfully saved at: {synthetics_path}\")\n",
        "else:\n",
        "    raise FileNotFoundError(\"Dataset not found. Please download or upload the dataset first.\")"
      ]
    },
    {
      "cell_type": "code",
      "execution_count": 11,
      "metadata": {
        "colab": {
          "base_uri": "https://localhost:8080/",
          "height": 181
        },
        "id": "uZvpUvOUgNiH",
        "outputId": "28c6ee88-9524-4476-a732-00b45a1f4577"
      },
      "outputs": [
        {
          "data": {
            "text/html": [
              "<div>\n",
              "<style scoped>\n",
              "    .dataframe tbody tr th:only-of-type {\n",
              "        vertical-align: middle;\n",
              "    }\n",
              "\n",
              "    .dataframe tbody tr th {\n",
              "        vertical-align: top;\n",
              "    }\n",
              "\n",
              "    .dataframe thead th {\n",
              "        text-align: right;\n",
              "    }\n",
              "</style>\n",
              "<table border=\"1\" class=\"dataframe\">\n",
              "  <thead>\n",
              "    <tr style=\"text-align: right;\">\n",
              "      <th></th>\n",
              "      <th>GENDER</th>\n",
              "      <th>AGE</th>\n",
              "      <th>SMOKING</th>\n",
              "      <th>YELLOW_FINGERS</th>\n",
              "      <th>ANXIETY</th>\n",
              "      <th>PEER_PRESSURE</th>\n",
              "      <th>CHRONIC DISEASE</th>\n",
              "      <th>FATIGUE</th>\n",
              "      <th>ALLERGY</th>\n",
              "      <th>WHEEZING</th>\n",
              "      <th>ALCOHOL CONSUMING</th>\n",
              "      <th>COUGHING</th>\n",
              "      <th>SHORTNESS OF BREATH</th>\n",
              "      <th>SWALLOWING DIFFICULTY</th>\n",
              "      <th>CHEST PAIN</th>\n",
              "      <th>LUNG_CANCER</th>\n",
              "    </tr>\n",
              "  </thead>\n",
              "  <tbody>\n",
              "    <tr>\n",
              "      <th>797</th>\n",
              "      <td>F</td>\n",
              "      <td>96</td>\n",
              "      <td>1</td>\n",
              "      <td>1</td>\n",
              "      <td>2</td>\n",
              "      <td>2</td>\n",
              "      <td>2</td>\n",
              "      <td>2</td>\n",
              "      <td>1</td>\n",
              "      <td>1</td>\n",
              "      <td>2</td>\n",
              "      <td>1</td>\n",
              "      <td>1</td>\n",
              "      <td>2</td>\n",
              "      <td>1</td>\n",
              "      <td>YES</td>\n",
              "    </tr>\n",
              "    <tr>\n",
              "      <th>798</th>\n",
              "      <td>M</td>\n",
              "      <td>89</td>\n",
              "      <td>1</td>\n",
              "      <td>2</td>\n",
              "      <td>1</td>\n",
              "      <td>2</td>\n",
              "      <td>2</td>\n",
              "      <td>1</td>\n",
              "      <td>2</td>\n",
              "      <td>1</td>\n",
              "      <td>2</td>\n",
              "      <td>2</td>\n",
              "      <td>1</td>\n",
              "      <td>2</td>\n",
              "      <td>1</td>\n",
              "      <td>YES</td>\n",
              "    </tr>\n",
              "    <tr>\n",
              "      <th>799</th>\n",
              "      <td>F</td>\n",
              "      <td>94</td>\n",
              "      <td>2</td>\n",
              "      <td>1</td>\n",
              "      <td>2</td>\n",
              "      <td>1</td>\n",
              "      <td>1</td>\n",
              "      <td>1</td>\n",
              "      <td>2</td>\n",
              "      <td>1</td>\n",
              "      <td>1</td>\n",
              "      <td>2</td>\n",
              "      <td>2</td>\n",
              "      <td>2</td>\n",
              "      <td>2</td>\n",
              "      <td>YES</td>\n",
              "    </tr>\n",
              "  </tbody>\n",
              "</table>\n",
              "</div>"
            ],
            "text/plain": [
              "    GENDER  AGE  SMOKING  YELLOW_FINGERS  ANXIETY  PEER_PRESSURE  \\\n",
              "797      F   96        1               1        2              2   \n",
              "798      M   89        1               2        1              2   \n",
              "799      F   94        2               1        2              1   \n",
              "\n",
              "     CHRONIC DISEASE  FATIGUE  ALLERGY  WHEEZING  ALCOHOL CONSUMING  COUGHING  \\\n",
              "797                2        2        1         1                  2         1   \n",
              "798                2        1        2         1                  2         2   \n",
              "799                1        1        2         1                  1         2   \n",
              "\n",
              "     SHORTNESS OF BREATH  SWALLOWING DIFFICULTY  CHEST PAIN LUNG_CANCER  \n",
              "797                    1                      2           1         YES  \n",
              "798                    1                      2           1         YES  \n",
              "799                    2                      2           2         YES  "
            ]
          },
          "execution_count": 11,
          "metadata": {},
          "output_type": "execute_result"
        }
      ],
      "source": [
        "lung_synthetics.tail(3)"
      ]
    },
    {
      "cell_type": "markdown",
      "metadata": {
        "id": "tDWMEKKkG-LO"
      },
      "source": [
        "#### **Data Information**"
      ]
    },
    {
      "cell_type": "code",
      "execution_count": 12,
      "metadata": {
        "colab": {
          "base_uri": "https://localhost:8080/"
        },
        "id": "HdXPanpKHAUJ",
        "outputId": "fc240e73-0457-4ac4-84da-f634950cb1b0"
      },
      "outputs": [
        {
          "name": "stdout",
          "output_type": "stream",
          "text": [
            "<class 'pandas.core.frame.DataFrame'>\n",
            "RangeIndex: 800 entries, 0 to 799\n",
            "Data columns (total 16 columns):\n",
            " #   Column                 Non-Null Count  Dtype \n",
            "---  ------                 --------------  ----- \n",
            " 0   GENDER                 800 non-null    object\n",
            " 1   AGE                    800 non-null    int64 \n",
            " 2   SMOKING                800 non-null    int64 \n",
            " 3   YELLOW_FINGERS         800 non-null    int64 \n",
            " 4   ANXIETY                800 non-null    int64 \n",
            " 5   PEER_PRESSURE          800 non-null    int64 \n",
            " 6   CHRONIC DISEASE        800 non-null    int64 \n",
            " 7   FATIGUE                800 non-null    int64 \n",
            " 8   ALLERGY                800 non-null    int64 \n",
            " 9   WHEEZING               800 non-null    int64 \n",
            " 10  ALCOHOL CONSUMING      800 non-null    int64 \n",
            " 11  COUGHING               800 non-null    int64 \n",
            " 12  SHORTNESS OF BREATH    800 non-null    int64 \n",
            " 13  SWALLOWING DIFFICULTY  800 non-null    int64 \n",
            " 14  CHEST PAIN             800 non-null    int64 \n",
            " 15  LUNG_CANCER            800 non-null    object\n",
            "dtypes: int64(14), object(2)\n",
            "memory usage: 100.1+ KB\n"
          ]
        }
      ],
      "source": [
        "lung_synthetics.info()"
      ]
    },
    {
      "cell_type": "code",
      "execution_count": 13,
      "metadata": {
        "colab": {
          "base_uri": "https://localhost:8080/"
        },
        "id": "IzqNYnDaHBwq",
        "outputId": "60a989d3-6e17-464f-fe0a-9e87efd32dde"
      },
      "outputs": [
        {
          "name": "stdout",
          "output_type": "stream",
          "text": [
            "Total missing values: 0\n",
            "Total duplicates: 8\n"
          ]
        }
      ],
      "source": [
        "print(f\"Total missing values: {lung_synthetics.isna().sum().sum()}\")\n",
        "print(f\"Total duplicates: {lung_synthetics.duplicated().sum()}\")"
      ]
    },
    {
      "cell_type": "code",
      "execution_count": 14,
      "metadata": {
        "colab": {
          "base_uri": "https://localhost:8080/",
          "height": 337
        },
        "id": "zKUhza4UHCoK",
        "outputId": "1be47b9f-dc18-49dd-fabf-43074b9a4aa1"
      },
      "outputs": [
        {
          "data": {
            "text/html": [
              "<div>\n",
              "<style scoped>\n",
              "    .dataframe tbody tr th:only-of-type {\n",
              "        vertical-align: middle;\n",
              "    }\n",
              "\n",
              "    .dataframe tbody tr th {\n",
              "        vertical-align: top;\n",
              "    }\n",
              "\n",
              "    .dataframe thead th {\n",
              "        text-align: right;\n",
              "    }\n",
              "</style>\n",
              "<table border=\"1\" class=\"dataframe\">\n",
              "  <thead>\n",
              "    <tr style=\"text-align: right;\">\n",
              "      <th></th>\n",
              "      <th>AGE</th>\n",
              "      <th>SMOKING</th>\n",
              "      <th>YELLOW_FINGERS</th>\n",
              "      <th>ANXIETY</th>\n",
              "      <th>PEER_PRESSURE</th>\n",
              "      <th>CHRONIC DISEASE</th>\n",
              "      <th>FATIGUE</th>\n",
              "      <th>ALLERGY</th>\n",
              "      <th>WHEEZING</th>\n",
              "      <th>ALCOHOL CONSUMING</th>\n",
              "      <th>COUGHING</th>\n",
              "      <th>SHORTNESS OF BREATH</th>\n",
              "      <th>SWALLOWING DIFFICULTY</th>\n",
              "      <th>CHEST PAIN</th>\n",
              "    </tr>\n",
              "  </thead>\n",
              "  <tbody>\n",
              "    <tr>\n",
              "      <th>count</th>\n",
              "      <td>800.000000</td>\n",
              "      <td>800.000000</td>\n",
              "      <td>800.000000</td>\n",
              "      <td>800.000000</td>\n",
              "      <td>800.000000</td>\n",
              "      <td>800.000000</td>\n",
              "      <td>800.000000</td>\n",
              "      <td>800.00000</td>\n",
              "      <td>800.000000</td>\n",
              "      <td>800.000000</td>\n",
              "      <td>800.00000</td>\n",
              "      <td>800.000000</td>\n",
              "      <td>800.000000</td>\n",
              "      <td>800.000000</td>\n",
              "    </tr>\n",
              "    <tr>\n",
              "      <th>mean</th>\n",
              "      <td>49.633750</td>\n",
              "      <td>1.412500</td>\n",
              "      <td>1.397500</td>\n",
              "      <td>1.433750</td>\n",
              "      <td>1.421250</td>\n",
              "      <td>1.396250</td>\n",
              "      <td>1.437500</td>\n",
              "      <td>1.41500</td>\n",
              "      <td>1.410000</td>\n",
              "      <td>1.346250</td>\n",
              "      <td>1.43625</td>\n",
              "      <td>1.448750</td>\n",
              "      <td>1.416250</td>\n",
              "      <td>1.447500</td>\n",
              "    </tr>\n",
              "    <tr>\n",
              "      <th>std</th>\n",
              "      <td>26.724096</td>\n",
              "      <td>0.492592</td>\n",
              "      <td>0.489687</td>\n",
              "      <td>0.495902</td>\n",
              "      <td>0.494068</td>\n",
              "      <td>0.489423</td>\n",
              "      <td>0.496389</td>\n",
              "      <td>0.49303</td>\n",
              "      <td>0.492141</td>\n",
              "      <td>0.476072</td>\n",
              "      <td>0.49623</td>\n",
              "      <td>0.497678</td>\n",
              "      <td>0.493244</td>\n",
              "      <td>0.497547</td>\n",
              "    </tr>\n",
              "    <tr>\n",
              "      <th>min</th>\n",
              "      <td>1.000000</td>\n",
              "      <td>1.000000</td>\n",
              "      <td>1.000000</td>\n",
              "      <td>1.000000</td>\n",
              "      <td>1.000000</td>\n",
              "      <td>1.000000</td>\n",
              "      <td>1.000000</td>\n",
              "      <td>1.00000</td>\n",
              "      <td>1.000000</td>\n",
              "      <td>1.000000</td>\n",
              "      <td>1.00000</td>\n",
              "      <td>1.000000</td>\n",
              "      <td>1.000000</td>\n",
              "      <td>1.000000</td>\n",
              "    </tr>\n",
              "    <tr>\n",
              "      <th>25%</th>\n",
              "      <td>25.750000</td>\n",
              "      <td>1.000000</td>\n",
              "      <td>1.000000</td>\n",
              "      <td>1.000000</td>\n",
              "      <td>1.000000</td>\n",
              "      <td>1.000000</td>\n",
              "      <td>1.000000</td>\n",
              "      <td>1.00000</td>\n",
              "      <td>1.000000</td>\n",
              "      <td>1.000000</td>\n",
              "      <td>1.00000</td>\n",
              "      <td>1.000000</td>\n",
              "      <td>1.000000</td>\n",
              "      <td>1.000000</td>\n",
              "    </tr>\n",
              "    <tr>\n",
              "      <th>50%</th>\n",
              "      <td>52.500000</td>\n",
              "      <td>1.000000</td>\n",
              "      <td>1.000000</td>\n",
              "      <td>1.000000</td>\n",
              "      <td>1.000000</td>\n",
              "      <td>1.000000</td>\n",
              "      <td>1.000000</td>\n",
              "      <td>1.00000</td>\n",
              "      <td>1.000000</td>\n",
              "      <td>1.000000</td>\n",
              "      <td>1.00000</td>\n",
              "      <td>1.000000</td>\n",
              "      <td>1.000000</td>\n",
              "      <td>1.000000</td>\n",
              "    </tr>\n",
              "    <tr>\n",
              "      <th>75%</th>\n",
              "      <td>76.000000</td>\n",
              "      <td>2.000000</td>\n",
              "      <td>2.000000</td>\n",
              "      <td>2.000000</td>\n",
              "      <td>2.000000</td>\n",
              "      <td>2.000000</td>\n",
              "      <td>2.000000</td>\n",
              "      <td>2.00000</td>\n",
              "      <td>2.000000</td>\n",
              "      <td>2.000000</td>\n",
              "      <td>2.00000</td>\n",
              "      <td>2.000000</td>\n",
              "      <td>2.000000</td>\n",
              "      <td>2.000000</td>\n",
              "    </tr>\n",
              "    <tr>\n",
              "      <th>max</th>\n",
              "      <td>99.000000</td>\n",
              "      <td>2.000000</td>\n",
              "      <td>2.000000</td>\n",
              "      <td>2.000000</td>\n",
              "      <td>2.000000</td>\n",
              "      <td>2.000000</td>\n",
              "      <td>2.000000</td>\n",
              "      <td>2.00000</td>\n",
              "      <td>2.000000</td>\n",
              "      <td>2.000000</td>\n",
              "      <td>2.00000</td>\n",
              "      <td>2.000000</td>\n",
              "      <td>2.000000</td>\n",
              "      <td>2.000000</td>\n",
              "    </tr>\n",
              "  </tbody>\n",
              "</table>\n",
              "</div>"
            ],
            "text/plain": [
              "              AGE     SMOKING  YELLOW_FINGERS     ANXIETY  PEER_PRESSURE  \\\n",
              "count  800.000000  800.000000      800.000000  800.000000     800.000000   \n",
              "mean    49.633750    1.412500        1.397500    1.433750       1.421250   \n",
              "std     26.724096    0.492592        0.489687    0.495902       0.494068   \n",
              "min      1.000000    1.000000        1.000000    1.000000       1.000000   \n",
              "25%     25.750000    1.000000        1.000000    1.000000       1.000000   \n",
              "50%     52.500000    1.000000        1.000000    1.000000       1.000000   \n",
              "75%     76.000000    2.000000        2.000000    2.000000       2.000000   \n",
              "max     99.000000    2.000000        2.000000    2.000000       2.000000   \n",
              "\n",
              "       CHRONIC DISEASE     FATIGUE    ALLERGY    WHEEZING  ALCOHOL CONSUMING  \\\n",
              "count       800.000000  800.000000  800.00000  800.000000         800.000000   \n",
              "mean          1.396250    1.437500    1.41500    1.410000           1.346250   \n",
              "std           0.489423    0.496389    0.49303    0.492141           0.476072   \n",
              "min           1.000000    1.000000    1.00000    1.000000           1.000000   \n",
              "25%           1.000000    1.000000    1.00000    1.000000           1.000000   \n",
              "50%           1.000000    1.000000    1.00000    1.000000           1.000000   \n",
              "75%           2.000000    2.000000    2.00000    2.000000           2.000000   \n",
              "max           2.000000    2.000000    2.00000    2.000000           2.000000   \n",
              "\n",
              "        COUGHING  SHORTNESS OF BREATH  SWALLOWING DIFFICULTY  CHEST PAIN  \n",
              "count  800.00000           800.000000             800.000000  800.000000  \n",
              "mean     1.43625             1.448750               1.416250    1.447500  \n",
              "std      0.49623             0.497678               0.493244    0.497547  \n",
              "min      1.00000             1.000000               1.000000    1.000000  \n",
              "25%      1.00000             1.000000               1.000000    1.000000  \n",
              "50%      1.00000             1.000000               1.000000    1.000000  \n",
              "75%      2.00000             2.000000               2.000000    2.000000  \n",
              "max      2.00000             2.000000               2.000000    2.000000  "
            ]
          },
          "execution_count": 14,
          "metadata": {},
          "output_type": "execute_result"
        }
      ],
      "source": [
        "lung_synthetics.describe()"
      ]
    },
    {
      "cell_type": "markdown",
      "metadata": {
        "id": "ly-TVvfrJCjW"
      },
      "source": [
        "### **Combining**"
      ]
    },
    {
      "cell_type": "code",
      "execution_count": 15,
      "metadata": {
        "id": "6am8ws9fJHm7"
      },
      "outputs": [],
      "source": [
        "x_original = lung_original.drop(columns=[\"LUNG_CANCER\"])\n",
        "y_original = lung_original[\"LUNG_CANCER\"]\n",
        "\n",
        "x_validation, x_test, y_validation, y_test = train_test_split(\n",
        "    x_original, y_original,\n",
        "    test_size=0.4,\n",
        "    random_state=42,\n",
        "    stratify=y_original\n",
        ")\n",
        "\n",
        "validation_data = pd.concat([x_validation, y_validation], axis=1)\n",
        "test_data = pd.concat([x_test, y_test], axis=1)\n",
        "\n",
        "test_data.to_csv(\"./datasets/lung_survey_test.csv\", index=False)\n",
        "\n",
        "del x_test, y_test, test_data,"
      ]
    },
    {
      "cell_type": "markdown",
      "metadata": {
        "id": "iPD0Ih5FSdYp"
      },
      "source": [
        "## **Data Preprocessing**\n",
        "\n"
      ]
    },
    {
      "cell_type": "markdown",
      "metadata": {
        "id": "BXpHP6FCqrrX"
      },
      "source": [
        "### **Setting Up**"
      ]
    },
    {
      "cell_type": "code",
      "execution_count": 16,
      "metadata": {
        "id": "eTfxk0hIqu3u"
      },
      "outputs": [],
      "source": [
        "def format_(*, dataset):\n",
        "    dataset_copy = dataset.copy()\n",
        "\n",
        "    dataset_copy.columns = [column.strip().lower().replace(\" \", \"_\") for column in dataset_copy.columns]\n",
        "    print(\"Success\")\n",
        "\n",
        "    return dataset_copy\n",
        "\n",
        "def drop_duplicates_(*, dataset):\n",
        "    dataset_copy = dataset.copy()\n",
        "    dataset_copy.drop_duplicates(inplace=True)\n",
        "    dataset_copy.reset_index(drop=True, inplace=True)\n",
        "    print(\"Success\")\n",
        "\n",
        "    print(f\"Total duplicates: {dataset_copy.duplicated().sum()}\")\n",
        "\n",
        "    return dataset_copy\n",
        "\n",
        "def scale(*, dataset, column_):\n",
        "    dataset_copy = dataset.copy()\n",
        "\n",
        "    scaler = MinMaxScaler()\n",
        "\n",
        "    dataset_copy[column_] = scaler.fit_transform(dataset_copy[[column_]])\n",
        "\n",
        "    print(f\"Column {column_} succesfully scaled in the given dataset.\")\n",
        "\n",
        "    return scaler, dataset_copy\n",
        "\n",
        "def encoding(*, dataset, column_):\n",
        "\n",
        "    label_encoder = LabelEncoder()\n",
        "\n",
        "    encoded_column = dataset[column_].copy()\n",
        "    dataset[column_] = label_encoder.fit_transform(encoded_column)\n",
        "\n",
        "    print(f\"Column {column_} succesfully encoded in the given dataset.\")\n",
        "    return label_encoder, dataset"
      ]
    },
    {
      "cell_type": "markdown",
      "metadata": {
        "id": "9zJfHvGJOXCm"
      },
      "source": [
        "### **Action from Data Exploration**"
      ]
    },
    {
      "cell_type": "code",
      "execution_count": 17,
      "metadata": {
        "id": "nxxgqUnJOalL"
      },
      "outputs": [],
      "source": [
        "lung_explored_train = lung_synthetics.copy()\n",
        "lung_explored_train.drop(\n",
        "    columns=[\"GENDER\"], inplace=True\n",
        ")\n",
        "\n",
        "lung_explored_validation = validation_data.copy()\n",
        "lung_explored_validation.drop(\n",
        "    columns=[\"GENDER\"], inplace=True\n",
        ")"
      ]
    },
    {
      "cell_type": "markdown",
      "metadata": {
        "id": "ejtULK1ZTCq1"
      },
      "source": [
        "### **Format Data**"
      ]
    },
    {
      "cell_type": "code",
      "execution_count": 18,
      "metadata": {
        "colab": {
          "base_uri": "https://localhost:8080/"
        },
        "id": "pCcmSfEMTcsT",
        "outputId": "e6d18e6c-813c-4e25-ddcd-8fdd52d920c4"
      },
      "outputs": [
        {
          "name": "stdout",
          "output_type": "stream",
          "text": [
            "Success\n",
            "Column name in the training data: Index(['age', 'smoking', 'yellow_fingers', 'anxiety', 'peer_pressure',\n",
            "       'chronic_disease', 'fatigue', 'allergy', 'wheezing',\n",
            "       'alcohol_consuming', 'coughing', 'shortness_of_breath',\n",
            "       'swallowing_difficulty', 'chest_pain', 'lung_cancer'],\n",
            "      dtype='object')\n",
            "Success\n",
            "Column name in the validation data: Index(['age', 'smoking', 'yellow_fingers', 'anxiety', 'peer_pressure',\n",
            "       'chronic_disease', 'fatigue', 'allergy', 'wheezing',\n",
            "       'alcohol_consuming', 'coughing', 'shortness_of_breath',\n",
            "       'swallowing_difficulty', 'chest_pain', 'lung_cancer'],\n",
            "      dtype='object')\n"
          ]
        }
      ],
      "source": [
        "lung_format_train = lung_explored_train.copy()\n",
        "\n",
        "lung_format_train = format_(dataset=lung_format_train)\n",
        "print(f\"Column name in the training data: {lung_format_train.columns}\")\n",
        "\n",
        "lung_format_validation = lung_explored_validation.copy()\n",
        "\n",
        "lung_format_validation = format_(dataset=lung_format_validation)\n",
        "print(f\"Column name in the validation data: {lung_format_validation.columns}\")"
      ]
    },
    {
      "cell_type": "markdown",
      "metadata": {
        "id": "R3FJ9mh9VGh4"
      },
      "source": [
        "### **Clean Data**"
      ]
    },
    {
      "cell_type": "code",
      "execution_count": 19,
      "metadata": {
        "colab": {
          "base_uri": "https://localhost:8080/"
        },
        "id": "wTcDNEj1VJEL",
        "outputId": "c8d4cc7e-dd2b-4823-cdc7-dcbbe73a7445"
      },
      "outputs": [
        {
          "name": "stdout",
          "output_type": "stream",
          "text": [
            "Success\n",
            "Total duplicates: 0\n",
            "Success\n",
            "Total duplicates: 0\n"
          ]
        }
      ],
      "source": [
        "lung_cleaned_train = lung_format_train.copy()\n",
        "\n",
        "lung_cleaned_train = drop_duplicates_(dataset=lung_cleaned_train)\n",
        "\n",
        "lung_cleaned_validation = lung_format_validation.copy()\n",
        "\n",
        "lung_cleaned_validation = drop_duplicates_(dataset=lung_cleaned_validation)"
      ]
    },
    {
      "cell_type": "markdown",
      "metadata": {
        "id": "fjeLAoIxY5CP"
      },
      "source": [
        "### **Scaling**"
      ]
    },
    {
      "cell_type": "code",
      "execution_count": 20,
      "metadata": {
        "colab": {
          "base_uri": "https://localhost:8080/"
        },
        "id": "01Gr8aHaa_-t",
        "outputId": "a6333939-572f-432b-bb52-34b3f249c9d2"
      },
      "outputs": [
        {
          "name": "stdout",
          "output_type": "stream",
          "text": [
            "Column age succesfully scaled in the given dataset.\n",
            "Column age succesfully scaled in the given dataset.\n"
          ]
        }
      ],
      "source": [
        "lung_scaled_train = lung_cleaned_train.copy()\n",
        "\n",
        "scaler, lung_scaled_train = scale(dataset=lung_scaled_train, column_=\"age\")\n",
        "lung_scaled_train[lung_scaled_train.drop(columns=[\"age\", \"lung_cancer\"]).columns] = lung_scaled_train[\n",
        "    lung_scaled_train.drop(columns=[\"age\", \"lung_cancer\"]).columns\n",
        "] - 1\n",
        "\n",
        "lung_scaled_validation = lung_cleaned_validation.copy()\n",
        "\n",
        "lung_scaled_validation[\"age\"] = scaler.transform(lung_scaled_validation[[\"age\"]])\n",
        "print(\"Column age succesfully scaled in the given dataset.\")\n",
        "lung_scaled_validation[lung_scaled_validation.drop(columns=[\"age\", \"lung_cancer\"]).columns] = lung_scaled_validation[\n",
        "    lung_scaled_validation.drop(columns=[\"age\", \"lung_cancer\"]).columns\n",
        "] - 1"
      ]
    },
    {
      "cell_type": "markdown",
      "metadata": {
        "id": "lInlOdn2TtLP"
      },
      "source": [
        "### **Encoding**"
      ]
    },
    {
      "cell_type": "code",
      "execution_count": 21,
      "metadata": {
        "colab": {
          "base_uri": "https://localhost:8080/"
        },
        "id": "jLpHv2rMUBOW",
        "outputId": "4bb7102f-40e9-4b05-d2c1-cdbaee69d33d"
      },
      "outputs": [
        {
          "name": "stdout",
          "output_type": "stream",
          "text": [
            "Column lung_cancer succesfully encoded in the given dataset.\n",
            "Column lung_cancer succesfully encoded in the given dataset.\n"
          ]
        }
      ],
      "source": [
        "lung_encoded_train = lung_scaled_train.copy()\n",
        "\n",
        "label_encoder, lung_encoded_train = encoding(dataset=lung_encoded_train, column_=\"lung_cancer\")\n",
        "\n",
        "lung_encoded_validation = lung_scaled_validation.copy()\n",
        "\n",
        "lung_encoded_validation[\"lung_cancer\"] = label_encoder.transform(lung_encoded_validation[\"lung_cancer\"])\n",
        "print(\"Column lung_cancer succesfully encoded in the given dataset.\")"
      ]
    },
    {
      "cell_type": "markdown",
      "metadata": {
        "id": "DCykPbLbWobe"
      },
      "source": [
        "## **Data Exploration**"
      ]
    },
    {
      "cell_type": "markdown",
      "metadata": {
        "id": "JAT6pWqIq1_y"
      },
      "source": [
        "### **Setting Up**"
      ]
    },
    {
      "cell_type": "code",
      "execution_count": 22,
      "metadata": {
        "id": "VMCg0hLZq4xq"
      },
      "outputs": [],
      "source": [
        "plt.style.use(\"dark_background\")"
      ]
    },
    {
      "cell_type": "code",
      "execution_count": 23,
      "metadata": {
        "id": "Qnvzn_y5q5hi"
      },
      "outputs": [],
      "source": [
        "def display_distribution(*, dataset, column_):\n",
        "    plt.figure(figsize=(8, 4.8))\n",
        "    sns.countplot(data=dataset, x=column_)\n",
        "    plt.title(f\"Distribution of '{column_}'\")\n",
        "    plt.xticks(rotation=45, ha=\"right\")\n",
        "    plt.tight_layout()\n",
        "    plt.show()\n",
        "\n",
        "def generate_boxplot(*, dataset, column_):\n",
        "    plt.figure(figsize=(8, 5))\n",
        "    sns.boxplot(data=dataset, y=column_)\n",
        "    sns.despine()\n",
        "    plt.grid(linestyle=\"--\", alpha=0.5)\n",
        "    plt.show()\n",
        "\n",
        "def create_scatter_plot(*, dataset, feature_x, feature_y):\n",
        "    sns.scatterplot(data=dataset, x=feature_x, y=feature_y, alpha=0.7)\n",
        "    plt.title(f\"{feature_x} vs {feature_y}\")\n",
        "    plt.grid(True)\n",
        "    plt.show()\n",
        "\n",
        "def show_correlation_matrix(*, dataset):\n",
        "    numeric_df = dataset.select_dtypes(include=np.number)\n",
        "\n",
        "    plt.figure(figsize=(10, 8))\n",
        "    sns.heatmap(\n",
        "        numeric_df.corr(), annot=True, fmt=\".2f\",\n",
        "        cmap=\"coolwarm\", vmin=-1, vmax=1,\n",
        "        cbar_kws={\"label\": \"Correlation\"}\n",
        "    )\n",
        "    plt.xticks(rotation=45, ha=\"right\")\n",
        "    plt.title(\"Correlation Matrix\")\n",
        "    plt.tight_layout()\n",
        "    plt.show()"
      ]
    },
    {
      "cell_type": "code",
      "execution_count": 24,
      "metadata": {
        "colab": {
          "base_uri": "https://localhost:8080/",
          "height": 487
        },
        "id": "GLzSNIV_Wu6Y",
        "outputId": "10e7c443-dd71-4262-cb05-da8e9e6ab1c7"
      },
      "outputs": [
        {
          "data": {
            "image/png": "[encoded data removed]",
            "text/plain": [
              "<Figure size 800x480 with 1 Axes>"
            ]
          },
          "metadata": {},
          "output_type": "display_data"
        }
      ],
      "source": [
        "display_distribution(dataset=lung_synthetics, column_=\"GENDER\")"
      ]
    },
    {
      "cell_type": "code",
      "execution_count": 25,
      "metadata": {
        "colab": {
          "base_uri": "https://localhost:8080/",
          "height": 426
        },
        "id": "afNeyJuNVe7h",
        "outputId": "e7781767-70cf-414b-8eab-9b002c1efdf6"
      },
      "outputs": [
        {
          "data": {
            "image/png": "[encoded data removed]",
            "text/plain": [
              "<Figure size 800x500 with 1 Axes>"
            ]
          },
          "metadata": {},
          "output_type": "display_data"
        }
      ],
      "source": [
        "generate_boxplot(dataset=lung_cleaned_train, column_=\"age\")"
      ]
    },
    {
      "cell_type": "code",
      "execution_count": 26,
      "metadata": {
        "colab": {
          "base_uri": "https://localhost:8080/",
          "height": 472
        },
        "id": "xzSJ5OYxWlAE",
        "outputId": "2e5d553f-80e1-4186-9c97-f6e953706f70"
      },
      "outputs": [
        {
          "data": {
            "image/png": "[encoded data removed]",
            "text/plain": [
              "<Figure size 640x480 with 1 Axes>"
            ]
          },
          "metadata": {},
          "output_type": "display_data"
        }
      ],
      "source": [
        "create_scatter_plot(dataset=lung_cleaned_train, feature_x=\"age\", feature_y=\"lung_cancer\")"
      ]
    },
    {
      "cell_type": "code",
      "execution_count": 27,
      "metadata": {
        "colab": {
          "base_uri": "https://localhost:8080/",
          "height": 807
        },
        "id": "lVOYYlIVWv3Y",
        "outputId": "76d43651-35e9-43b2-9493-e5670af77d4a"
      },
      "outputs": [
        {
          "data": {
            "image/png": "[encoded data removed]",
            "text/plain": [
              "<Figure size 1000x800 with 2 Axes>"
            ]
          },
          "metadata": {},
          "output_type": "display_data"
        }
      ],
      "source": [
        "show_correlation_matrix(dataset=lung_cleaned_train)"
      ]
    },
    {
      "cell_type": "markdown",
      "metadata": {
        "id": "Eja6YlcEsBWw"
      },
      "source": [
        "## **Developing Model**"
      ]
    },
    {
      "cell_type": "markdown",
      "metadata": {
        "id": "XTh_bZOoZ0KC"
      },
      "source": [
        "### **Setting Up**"
      ]
    },
    {
      "cell_type": "code",
      "execution_count": 28,
      "metadata": {
        "id": "BTqJptKz0dCz"
      },
      "outputs": [],
      "source": [
        "def build_model(*,\n",
        "    input_shape, hidden_units, dropout_rates,\n",
        "    l1_reg, l2_reg=0.002, noise_stddev\n",
        "):\n",
        "    model = tf.keras.Sequential(name=\"MLP_Enhanced_v2\")\n",
        "\n",
        "    model.add(tf.keras.layers.Input(shape=input_shape))\n",
        "    model.add(GaussianNoise(noise_stddev, name=\"input_noise\"))\n",
        "\n",
        "    for i, (units, dropout) in enumerate(zip(hidden_units, dropout_rates)):\n",
        "        model.add(tf.keras.layers.Dense(\n",
        "            units,\n",
        "            activation='swish',\n",
        "            kernel_regularizer=regularizers.l1_l2(l1=l1_reg, l2=l2_reg),\n",
        "            name=f\"Dense_L1L2_{i+1}\"\n",
        "        ))\n",
        "        model.add(tf.keras.layers.BatchNormalization())\n",
        "        model.add(tf.keras.layers.Dropout(dropout))\n",
        "        model.add(GaussianNoise(noise_stddev/2, name=f\"hidden_noise_{i+1}\"))\n",
        "\n",
        "    model.add(tf.keras.layers.Dense(\n",
        "        1,\n",
        "        activation='sigmoid',\n",
        "        kernel_regularizer=regularizers.l2(l2_reg)\n",
        "    ))\n",
        "    return model\n",
        "\n",
        "def compile_model(*, model, max_lr, min_lr):\n",
        "    lr_schedule = tf.keras.optimizers.schedules.CosineDecayRestarts(\n",
        "        initial_learning_rate=max_lr,\n",
        "        first_decay_steps=200,\n",
        "        t_mul=1.5,\n",
        "        m_mul=0.85,\n",
        "        alpha=min_lr/max_lr\n",
        "    )\n",
        "\n",
        "    optimizer = tf.keras.optimizers.Nadam(learning_rate=lr_schedule)\n",
        "\n",
        "    model.compile(\n",
        "        optimizer=optimizer,\n",
        "        loss=tf.keras.losses.BinaryCrossentropy(label_smoothing=0.2),\n",
        "        metrics=[\n",
        "            'accuracy',\n",
        "            tf.keras.metrics.AUC(name='auc', curve='PR'),\n",
        "            tf.keras.metrics.PrecisionAtRecall(0.8, name='precision_at_recall80')\n",
        "        ]\n",
        "    )\n",
        "\n",
        "def get_callbacks(model):\n",
        "    return [\n",
        "        tf.keras.callbacks.EarlyStopping(\n",
        "            monitor='val_auc',\n",
        "            patience=15,\n",
        "            mode='max',\n",
        "            baseline=0.94,\n",
        "            restore_best_weights=True\n",
        "        ),\n",
        "        tf.keras.callbacks.TerminateOnNaN(),\n",
        "        tf.keras.callbacks.LambdaCallback(\n",
        "            on_epoch_end=lambda epoch, logs: print(\n",
        "                f\"\\nCurrent LR: {tf.keras.backend.get_value(model.optimizer.learning_rate):.6f}\")\n",
        "        )\n",
        "    ]\n",
        "\n",
        "def train_model(*, model, x_train, y_train, x_val, y_val, epochs, batch_size):\n",
        "    pos_weight = len(y_train[y_train==0]) / len(y_train[y_train==1])\n",
        "    class_weights = {0: 1.0, 1: pos_weight * 1.25}\n",
        "\n",
        "    history = model.fit(\n",
        "        x_train,\n",
        "        y_train,\n",
        "        epochs=epochs,\n",
        "        batch_size=batch_size,\n",
        "        validation_data=(x_val, y_val),\n",
        "        callbacks=get_callbacks(model),\n",
        "        class_weight=class_weights,\n",
        "        verbose=1\n",
        "    )\n",
        "    return history\n",
        "\n",
        "def evaluate_model(*, model, x_test, y_test):\n",
        "    y_prediction_probability = model.predict(x_test, verbose=0)\n",
        "\n",
        "    y_prediction = (y_prediction_probability > 0.5).astype(int)\n",
        "\n",
        "    test_loss, test_accuracy = model.evaluate(x_test, y_test, verbose=1)[:2]\n",
        "\n",
        "    report_dict = classification_report(y_test, y_prediction, output_dict=True, zero_division=0)\n",
        "    recall_score = report_dict[\"weighted avg\"][\"recall\"]\n",
        "\n",
        "    conf_matrix = confusion_matrix(y_test, y_prediction)\n",
        "\n",
        "    results = {\n",
        "        \"probability\": y_prediction_probability,\n",
        "        \"accuracy\": test_accuracy,\n",
        "        \"recall\": recall_score,\n",
        "        \"loss\": test_loss,\n",
        "        \"confusion_matrix\": conf_matrix\n",
        "    }\n",
        "    return results\n",
        "\n",
        "def plot_evaluation_results(results, class_names=None):\n",
        "    conf_matrix = results[\"confusion_matrix\"]\n",
        "    accuracy = results[\"accuracy\"]\n",
        "    recall = results[\"recall\"]\n",
        "    loss = results[\"loss\"]\n",
        "\n",
        "    if class_names is None:\n",
        "        class_names = [str(i) for i in range(conf_matrix.shape[0])]\n",
        "\n",
        "    fig, axes = plt.subplots(1, 2, figsize=(12, 5))\n",
        "\n",
        "    sns.heatmap(\n",
        "        conf_matrix, annot=True, fmt='d', cmap=\"Blues\",\n",
        "        xticklabels=class_names, yticklabels=class_names, ax=axes[0]\n",
        "    )\n",
        "    axes[0].set_xlabel(\"Predicted Labels\")\n",
        "    axes[0].set_ylabel(\"True Labels\")\n",
        "    axes[0].set_title(\"Confusion Matrix\")\n",
        "\n",
        "    metric_names = [\"Accuracy\", \"Recall\", \"Loss\"]\n",
        "    metric_values = [accuracy, recall, loss]\n",
        "    colors = [\"skyblue\", \"lightgreen\", \"lightcoral\"]\n",
        "    axes[1].bar(metric_names, metric_values, color=colors)\n",
        "    axes[1].set_ylim(0, 1)\n",
        "    axes[1].set_title(\"Model Evaluation Metrics\")\n",
        "\n",
        "    plt.tight_layout()\n",
        "    plt.show()"
      ]
    },
    {
      "cell_type": "markdown",
      "metadata": {
        "id": "8Oa9jVB42PDb"
      },
      "source": [
        "### **Data Splitting**"
      ]
    },
    {
      "cell_type": "code",
      "execution_count": 29,
      "metadata": {
        "id": "r9QFbxRe2jQn"
      },
      "outputs": [],
      "source": [
        "x_train = lung_encoded_train.drop(columns=[\"lung_cancer\"])\n",
        "y_train = lung_encoded_train[\"lung_cancer\"]\n",
        "\n",
        "x_validation = lung_encoded_validation.drop(columns=[\"lung_cancer\"])\n",
        "y_validation = lung_encoded_validation[\"lung_cancer\"]"
      ]
    },
    {
      "cell_type": "markdown",
      "metadata": {
        "id": "iZyoZVMkIf0x"
      },
      "source": [
        "### **Training**"
      ]
    },
    {
      "cell_type": "code",
      "execution_count": 30,
      "metadata": {
        "colab": {
          "base_uri": "https://localhost:8080/",
          "height": 481
        },
        "id": "Sr5LLTmXZsuG",
        "outputId": "2fc7f5c9-97b9-4533-cb0c-6a84cf889d7c"
      },
      "outputs": [
        {
          "data": {
            "text/html": [
              "<pre style=\"white-space:pre;overflow-x:auto;line-height:normal;font-family:Menlo,'DejaVu Sans Mono',consolas,'Courier New',monospace\"><span style=\"font-weight: bold\">Model: \"MLP_Enhanced_v2\"</span>\n",
              "</pre>\n"
            ],
            "text/plain": [
              "\u001b[1mModel: \"MLP_Enhanced_v2\"\u001b[0m\n"
            ]
          },
          "metadata": {},
          "output_type": "display_data"
        },
        {
          "data": {
            "text/html": [
              "<pre style=\"white-space:pre;overflow-x:auto;line-height:normal;font-family:Menlo,'DejaVu Sans Mono',consolas,'Courier New',monospace\">┏━━━━━━━━━━━━━━━━━━━━━━━━━━━━━━━━━┳━━━━━━━━━━━━━━━━━━━━━━━━┳━━━━━━━━━━━━━━━┓\n",
              "┃<span style=\"font-weight: bold\"> Layer (type)                    </span>┃<span style=\"font-weight: bold\"> Output Shape           </span>┃<span style=\"font-weight: bold\">       Param # </span>┃\n",
              "┡━━━━━━━━━━━━━━━━━━━━━━━━━━━━━━━━━╇━━━━━━━━━━━━━━━━━━━━━━━━╇━━━━━━━━━━━━━━━┩\n",
              "│ input_noise (<span style=\"color: #0087ff; text-decoration-color: #0087ff\">GaussianNoise</span>)     │ (<span style=\"color: #00d7ff; text-decoration-color: #00d7ff\">None</span>, <span style=\"color: #00af00; text-decoration-color: #00af00\">14</span>)             │             <span style=\"color: #00af00; text-decoration-color: #00af00\">0</span> │\n",
              "├─────────────────────────────────┼────────────────────────┼───────────────┤\n",
              "│ Dense_L1L2_1 (<span style=\"color: #0087ff; text-decoration-color: #0087ff\">Dense</span>)            │ (<span style=\"color: #00d7ff; text-decoration-color: #00d7ff\">None</span>, <span style=\"color: #00af00; text-decoration-color: #00af00\">96</span>)             │         <span style=\"color: #00af00; text-decoration-color: #00af00\">1,440</span> │\n",
              "├─────────────────────────────────┼────────────────────────┼───────────────┤\n",
              "│ batch_normalization             │ (<span style=\"color: #00d7ff; text-decoration-color: #00d7ff\">None</span>, <span style=\"color: #00af00; text-decoration-color: #00af00\">96</span>)             │           <span style=\"color: #00af00; text-decoration-color: #00af00\">384</span> │\n",
              "│ (<span style=\"color: #0087ff; text-decoration-color: #0087ff\">BatchNormalization</span>)            │                        │               │\n",
              "├─────────────────────────────────┼────────────────────────┼───────────────┤\n",
              "│ dropout (<span style=\"color: #0087ff; text-decoration-color: #0087ff\">Dropout</span>)               │ (<span style=\"color: #00d7ff; text-decoration-color: #00d7ff\">None</span>, <span style=\"color: #00af00; text-decoration-color: #00af00\">96</span>)             │             <span style=\"color: #00af00; text-decoration-color: #00af00\">0</span> │\n",
              "├─────────────────────────────────┼────────────────────────┼───────────────┤\n",
              "│ hidden_noise_1 (<span style=\"color: #0087ff; text-decoration-color: #0087ff\">GaussianNoise</span>)  │ (<span style=\"color: #00d7ff; text-decoration-color: #00d7ff\">None</span>, <span style=\"color: #00af00; text-decoration-color: #00af00\">96</span>)             │             <span style=\"color: #00af00; text-decoration-color: #00af00\">0</span> │\n",
              "├─────────────────────────────────┼────────────────────────┼───────────────┤\n",
              "│ Dense_L1L2_2 (<span style=\"color: #0087ff; text-decoration-color: #0087ff\">Dense</span>)            │ (<span style=\"color: #00d7ff; text-decoration-color: #00d7ff\">None</span>, <span style=\"color: #00af00; text-decoration-color: #00af00\">48</span>)             │         <span style=\"color: #00af00; text-decoration-color: #00af00\">4,656</span> │\n",
              "├─────────────────────────────────┼────────────────────────┼───────────────┤\n",
              "│ batch_normalization_1           │ (<span style=\"color: #00d7ff; text-decoration-color: #00d7ff\">None</span>, <span style=\"color: #00af00; text-decoration-color: #00af00\">48</span>)             │           <span style=\"color: #00af00; text-decoration-color: #00af00\">192</span> │\n",
              "│ (<span style=\"color: #0087ff; text-decoration-color: #0087ff\">BatchNormalization</span>)            │                        │               │\n",
              "├─────────────────────────────────┼────────────────────────┼───────────────┤\n",
              "│ dropout_1 (<span style=\"color: #0087ff; text-decoration-color: #0087ff\">Dropout</span>)             │ (<span style=\"color: #00d7ff; text-decoration-color: #00d7ff\">None</span>, <span style=\"color: #00af00; text-decoration-color: #00af00\">48</span>)             │             <span style=\"color: #00af00; text-decoration-color: #00af00\">0</span> │\n",
              "├─────────────────────────────────┼────────────────────────┼───────────────┤\n",
              "│ hidden_noise_2 (<span style=\"color: #0087ff; text-decoration-color: #0087ff\">GaussianNoise</span>)  │ (<span style=\"color: #00d7ff; text-decoration-color: #00d7ff\">None</span>, <span style=\"color: #00af00; text-decoration-color: #00af00\">48</span>)             │             <span style=\"color: #00af00; text-decoration-color: #00af00\">0</span> │\n",
              "├─────────────────────────────────┼────────────────────────┼───────────────┤\n",
              "│ dense (<span style=\"color: #0087ff; text-decoration-color: #0087ff\">Dense</span>)                   │ (<span style=\"color: #00d7ff; text-decoration-color: #00d7ff\">None</span>, <span style=\"color: #00af00; text-decoration-color: #00af00\">1</span>)              │            <span style=\"color: #00af00; text-decoration-color: #00af00\">49</span> │\n",
              "└─────────────────────────────────┴────────────────────────┴───────────────┘\n",
              "</pre>\n"
            ],
            "text/plain": [
              "┏━━━━━━━━━━━━━━━━━━━━━━━━━━━━━━━━━┳━━━━━━━━━━━━━━━━━━━━━━━━┳━━━━━━━━━━━━━━━┓\n",
              "┃\u001b[1m \u001b[0m\u001b[1mLayer (type)                   \u001b[0m\u001b[1m \u001b[0m┃\u001b[1m \u001b[0m\u001b[1mOutput Shape          \u001b[0m\u001b[1m \u001b[0m┃\u001b[1m \u001b[0m\u001b[1m      Param #\u001b[0m\u001b[1m \u001b[0m┃\n",
              "┡━━━━━━━━━━━━━━━━━━━━━━━━━━━━━━━━━╇━━━━━━━━━━━━━━━━━━━━━━━━╇━━━━━━━━━━━━━━━┩\n",
              "│ input_noise (\u001b[38;5;33mGaussianNoise\u001b[0m)     │ (\u001b[38;5;45mNone\u001b[0m, \u001b[38;5;34m14\u001b[0m)             │             \u001b[38;5;34m0\u001b[0m │\n",
              "├─────────────────────────────────┼────────────────────────┼───────────────┤\n",
              "│ Dense_L1L2_1 (\u001b[38;5;33mDense\u001b[0m)            │ (\u001b[38;5;45mNone\u001b[0m, \u001b[38;5;34m96\u001b[0m)             │         \u001b[38;5;34m1,440\u001b[0m │\n",
              "├─────────────────────────────────┼────────────────────────┼───────────────┤\n",
              "│ batch_normalization             │ (\u001b[38;5;45mNone\u001b[0m, \u001b[38;5;34m96\u001b[0m)             │           \u001b[38;5;34m384\u001b[0m │\n",
              "│ (\u001b[38;5;33mBatchNormalization\u001b[0m)            │                        │               │\n",
              "├─────────────────────────────────┼────────────────────────┼───────────────┤\n",
              "│ dropout (\u001b[38;5;33mDropout\u001b[0m)               │ (\u001b[38;5;45mNone\u001b[0m, \u001b[38;5;34m96\u001b[0m)             │             \u001b[38;5;34m0\u001b[0m │\n",
              "├─────────────────────────────────┼────────────────────────┼───────────────┤\n",
              "│ hidden_noise_1 (\u001b[38;5;33mGaussianNoise\u001b[0m)  │ (\u001b[38;5;45mNone\u001b[0m, \u001b[38;5;34m96\u001b[0m)             │             \u001b[38;5;34m0\u001b[0m │\n",
              "├─────────────────────────────────┼────────────────────────┼───────────────┤\n",
              "│ Dense_L1L2_2 (\u001b[38;5;33mDense\u001b[0m)            │ (\u001b[38;5;45mNone\u001b[0m, \u001b[38;5;34m48\u001b[0m)             │         \u001b[38;5;34m4,656\u001b[0m │\n",
              "├─────────────────────────────────┼────────────────────────┼───────────────┤\n",
              "│ batch_normalization_1           │ (\u001b[38;5;45mNone\u001b[0m, \u001b[38;5;34m48\u001b[0m)             │           \u001b[38;5;34m192\u001b[0m │\n",
              "│ (\u001b[38;5;33mBatchNormalization\u001b[0m)            │                        │               │\n",
              "├─────────────────────────────────┼────────────────────────┼───────────────┤\n",
              "│ dropout_1 (\u001b[38;5;33mDropout\u001b[0m)             │ (\u001b[38;5;45mNone\u001b[0m, \u001b[38;5;34m48\u001b[0m)             │             \u001b[38;5;34m0\u001b[0m │\n",
              "├─────────────────────────────────┼────────────────────────┼───────────────┤\n",
              "│ hidden_noise_2 (\u001b[38;5;33mGaussianNoise\u001b[0m)  │ (\u001b[38;5;45mNone\u001b[0m, \u001b[38;5;34m48\u001b[0m)             │             \u001b[38;5;34m0\u001b[0m │\n",
              "├─────────────────────────────────┼────────────────────────┼───────────────┤\n",
              "│ dense (\u001b[38;5;33mDense\u001b[0m)                   │ (\u001b[38;5;45mNone\u001b[0m, \u001b[38;5;34m1\u001b[0m)              │            \u001b[38;5;34m49\u001b[0m │\n",
              "└─────────────────────────────────┴────────────────────────┴───────────────┘\n"
            ]
          },
          "metadata": {},
          "output_type": "display_data"
        },
        {
          "data": {
            "text/html": [
              "<pre style=\"white-space:pre;overflow-x:auto;line-height:normal;font-family:Menlo,'DejaVu Sans Mono',consolas,'Courier New',monospace\"><span style=\"font-weight: bold\"> Total params: </span><span style=\"color: #00af00; text-decoration-color: #00af00\">6,721</span> (26.25 KB)\n",
              "</pre>\n"
            ],
            "text/plain": [
              "\u001b[1m Total params: \u001b[0m\u001b[38;5;34m6,721\u001b[0m (26.25 KB)\n"
            ]
          },
          "metadata": {},
          "output_type": "display_data"
        },
        {
          "data": {
            "text/html": [
              "<pre style=\"white-space:pre;overflow-x:auto;line-height:normal;font-family:Menlo,'DejaVu Sans Mono',consolas,'Courier New',monospace\"><span style=\"font-weight: bold\"> Trainable params: </span><span style=\"color: #00af00; text-decoration-color: #00af00\">6,433</span> (25.13 KB)\n",
              "</pre>\n"
            ],
            "text/plain": [
              "\u001b[1m Trainable params: \u001b[0m\u001b[38;5;34m6,433\u001b[0m (25.13 KB)\n"
            ]
          },
          "metadata": {},
          "output_type": "display_data"
        },
        {
          "data": {
            "text/html": [
              "<pre style=\"white-space:pre;overflow-x:auto;line-height:normal;font-family:Menlo,'DejaVu Sans Mono',consolas,'Courier New',monospace\"><span style=\"font-weight: bold\"> Non-trainable params: </span><span style=\"color: #00af00; text-decoration-color: #00af00\">288</span> (1.12 KB)\n",
              "</pre>\n"
            ],
            "text/plain": [
              "\u001b[1m Non-trainable params: \u001b[0m\u001b[38;5;34m288\u001b[0m (1.12 KB)\n"
            ]
          },
          "metadata": {},
          "output_type": "display_data"
        }
      ],
      "source": [
        "model = build_model(\n",
        "    input_shape=(x_train.shape[1],),\n",
        "    hidden_units=[96, 48],\n",
        "    dropout_rates=[0.6, 0.4],\n",
        "    l1_reg=0.002,\n",
        "    l2_reg=0.002,\n",
        "    noise_stddev=0.1\n",
        ")\n",
        "\n",
        "model.summary()"
      ]
    },
    {
      "cell_type": "code",
      "execution_count": 31,
      "metadata": {
        "id": "vZOkUVUKZvkM"
      },
      "outputs": [],
      "source": [
        "compile_model(model=model, max_lr=0.01, min_lr=1e-6)"
      ]
    },
    {
      "cell_type": "code",
      "execution_count": 32,
      "metadata": {
        "colab": {
          "base_uri": "https://localhost:8080/"
        },
        "id": "Mfq_RFHCZwuQ",
        "outputId": "0f56b6d0-3bd8-4b38-e937-9f06b7c42804"
      },
      "outputs": [
        {
          "name": "stdout",
          "output_type": "stream",
          "text": [
            "Epoch 1/300\n",
            "\u001b[1m26/33\u001b[0m \u001b[32m━━━━━━━━━━━━━━━\u001b[0m\u001b[37m━━━━━\u001b[0m \u001b[1m0s\u001b[0m 2ms/step - accuracy: 0.7064 - auc: 0.7483 - loss: 2.1424 - precision_at_recall80: 0.6676 \n",
            "Current LR: 0.009343\n",
            "\u001b[1m33/33\u001b[0m \u001b[32m━━━━━━━━━━━━━━━━━━━━\u001b[0m\u001b[37m\u001b[0m \u001b[1m4s\u001b[0m 17ms/step - accuracy: 0.7206 - auc: 0.7678 - loss: 2.0874 - precision_at_recall80: 0.6878 - val_accuracy: 0.8671 - val_auc: 0.9890 - val_loss: 1.4155 - val_precision_at_recall80: 0.9918\n",
            "Epoch 2/300\n",
            "\u001b[1m28/33\u001b[0m \u001b[32m━━━━━━━━━━━━━━━━\u001b[0m\u001b[37m━━━━\u001b[0m \u001b[1m0s\u001b[0m 2ms/step - accuracy: 0.8620 - auc: 0.9340 - loss: 1.4246 - precision_at_recall80: 0.8736 \n",
            "Current LR: 0.007545\n",
            "\u001b[1m33/33\u001b[0m \u001b[32m━━━━━━━━━━━━━━━━━━━━\u001b[0m\u001b[37m\u001b[0m \u001b[1m0s\u001b[0m 4ms/step - accuracy: 0.8626 - auc: 0.9333 - loss: 1.4089 - precision_at_recall80: 0.8761 - val_accuracy: 0.8671 - val_auc: 0.9899 - val_loss: 1.1025 - val_precision_at_recall80: 1.0000\n",
            "Epoch 3/300\n",
            "\u001b[1m32/33\u001b[0m \u001b[32m━━━━━━━━━━━━━━━━━━━\u001b[0m\u001b[37m━\u001b[0m \u001b[1m0s\u001b[0m 2ms/step - accuracy: 0.8662 - auc: 0.9370 - loss: 1.0817 - precision_at_recall80: 0.9011 \n",
            "Current LR: 0.005079\n",
            "\u001b[1m33/33\u001b[0m \u001b[32m━━━━━━━━━━━━━━━━━━━━\u001b[0m\u001b[37m\u001b[0m \u001b[1m0s\u001b[0m 4ms/step - accuracy: 0.8662 - auc: 0.9367 - loss: 1.0790 - precision_at_recall80: 0.9009 - val_accuracy: 0.8613 - val_auc: 0.9903 - val_loss: 0.9378 - val_precision_at_recall80: 0.9921\n",
            "Epoch 4/300\n",
            "\u001b[1m27/33\u001b[0m \u001b[32m━━━━━━━━━━━━━━━━\u001b[0m\u001b[37m━━━━\u001b[0m \u001b[1m0s\u001b[0m 2ms/step - accuracy: 0.8552 - auc: 0.9375 - loss: 0.9289 - precision_at_recall80: 0.8912 \n",
            "Current LR: 0.002592\n",
            "\u001b[1m33/33\u001b[0m \u001b[32m━━━━━━━━━━━━━━━━━━━━\u001b[0m\u001b[37m\u001b[0m \u001b[1m0s\u001b[0m 4ms/step - accuracy: 0.8570 - auc: 0.9360 - loss: 0.9235 - precision_at_recall80: 0.8893 - val_accuracy: 0.9075 - val_auc: 0.9908 - val_loss: 0.8720 - val_precision_at_recall80: 1.0000\n",
            "Epoch 5/300\n",
            "\u001b[1m30/33\u001b[0m \u001b[32m━━━━━━━━━━━━━━━━━━\u001b[0m\u001b[37m━━\u001b[0m \u001b[1m0s\u001b[0m 2ms/step - accuracy: 0.9038 - auc: 0.9698 - loss: 0.7949 - precision_at_recall80: 0.9589 \n",
            "Current LR: 0.000738\n",
            "\u001b[1m33/33\u001b[0m \u001b[32m━━━━━━━━━━━━━━━━━━━━\u001b[0m\u001b[37m\u001b[0m \u001b[1m0s\u001b[0m 4ms/step - accuracy: 0.9022 - auc: 0.9687 - loss: 0.7949 - precision_at_recall80: 0.9564 - val_accuracy: 0.8960 - val_auc: 0.9909 - val_loss: 0.8272 - val_precision_at_recall80: 1.0000\n",
            "Epoch 6/300\n",
            "\u001b[1m31/33\u001b[0m \u001b[32m━━━━━━━━━━━━━━━━━━\u001b[0m\u001b[37m━━\u001b[0m \u001b[1m0s\u001b[0m 2ms/step - accuracy: 0.8522 - auc: 0.9483 - loss: 0.7886 - precision_at_recall80: 0.9220 \n",
            "Current LR: 0.000003\n",
            "\u001b[1m33/33\u001b[0m \u001b[32m━━━━━━━━━━━━━━━━━━━━\u001b[0m\u001b[37m\u001b[0m \u001b[1m0s\u001b[0m 4ms/step - accuracy: 0.8536 - auc: 0.9486 - loss: 0.7880 - precision_at_recall80: 0.9222 - val_accuracy: 0.9133 - val_auc: 0.9906 - val_loss: 0.8095 - val_precision_at_recall80: 1.0000\n",
            "Epoch 7/300\n",
            "\u001b[1m25/33\u001b[0m \u001b[32m━━━━━━━━━━━━━━━\u001b[0m\u001b[37m━━━━━\u001b[0m \u001b[1m0s\u001b[0m 2ms/step - accuracy: 0.8666 - auc: 0.9355 - loss: 0.7956 - precision_at_recall80: 0.8976 \n",
            "Current LR: 0.008278\n",
            "\u001b[1m33/33\u001b[0m \u001b[32m━━━━━━━━━━━━━━━━━━━━\u001b[0m\u001b[37m\u001b[0m \u001b[1m0s\u001b[0m 5ms/step - accuracy: 0.8652 - auc: 0.9352 - loss: 0.7946 - precision_at_recall80: 0.9009 - val_accuracy: 0.9075 - val_auc: 0.9884 - val_loss: 0.7925 - val_precision_at_recall80: 0.9680\n",
            "Epoch 8/300\n",
            "\u001b[1m22/33\u001b[0m \u001b[32m━━━━━━━━━━━━━\u001b[0m\u001b[37m━━━━━━━\u001b[0m \u001b[1m0s\u001b[0m 2ms/step - accuracy: 0.8536 - auc: 0.9398 - loss: 0.7670 - precision_at_recall80: 0.9175 \n",
            "Current LR: 0.007581\n",
            "\u001b[1m33/33\u001b[0m \u001b[32m━━━━━━━━━━━━━━━━━━━━\u001b[0m\u001b[37m\u001b[0m \u001b[1m0s\u001b[0m 5ms/step - accuracy: 0.8527 - auc: 0.9362 - loss: 0.7599 - precision_at_recall80: 0.9077 - val_accuracy: 0.9133 - val_auc: 0.9906 - val_loss: 0.7860 - val_precision_at_recall80: 0.9921\n",
            "Epoch 9/300\n",
            "\u001b[1m30/33\u001b[0m \u001b[32m━━━━━━━━━━━━━━━━━━\u001b[0m\u001b[37m━━\u001b[0m \u001b[1m0s\u001b[0m 2ms/step - accuracy: 0.8982 - auc: 0.9567 - loss: 0.7136 - precision_at_recall80: 0.9552 \n",
            "Current LR: 0.006490\n",
            "\u001b[1m33/33\u001b[0m \u001b[32m━━━━━━━━━━━━━━━━━━━━\u001b[0m\u001b[37m\u001b[0m \u001b[1m0s\u001b[0m 4ms/step - accuracy: 0.8958 - auc: 0.9542 - loss: 0.7138 - precision_at_recall80: 0.9511 - val_accuracy: 0.8902 - val_auc: 0.9908 - val_loss: 0.7420 - val_precision_at_recall80: 1.0000\n",
            "Epoch 10/300\n",
            "\u001b[1m28/33\u001b[0m \u001b[32m━━━━━━━━━━━━━━━━\u001b[0m\u001b[37m━━━━\u001b[0m \u001b[1m0s\u001b[0m 2ms/step - accuracy: 0.8752 - auc: 0.9492 - loss: 0.6777 - precision_at_recall80: 0.9153 \n",
            "Current LR: 0.005134\n",
            "\u001b[1m33/33\u001b[0m \u001b[32m━━━━━━━━━━━━━━━━━━━━\u001b[0m\u001b[37m\u001b[0m \u001b[1m0s\u001b[0m 4ms/step - accuracy: 0.8736 - auc: 0.9483 - loss: 0.6776 - precision_at_recall80: 0.9124 - val_accuracy: 0.8786 - val_auc: 0.9887 - val_loss: 0.7095 - val_precision_at_recall80: 0.9836\n",
            "Epoch 11/300\n",
            "\u001b[1m30/33\u001b[0m \u001b[32m━━━━━━━━━━━━━━━━━━\u001b[0m\u001b[37m━━\u001b[0m \u001b[1m0s\u001b[0m 2ms/step - accuracy: 0.8969 - auc: 0.9255 - loss: 0.6649 - precision_at_recall80: 0.9072 \n",
            "Current LR: 0.003674\n",
            "\u001b[1m33/33\u001b[0m \u001b[32m━━━━━━━━━━━━━━━━━━━━\u001b[0m\u001b[37m\u001b[0m \u001b[1m0s\u001b[0m 4ms/step - accuracy: 0.8977 - auc: 0.9280 - loss: 0.6631 - precision_at_recall80: 0.9083 - val_accuracy: 0.8786 - val_auc: 0.9898 - val_loss: 0.6757 - val_precision_at_recall80: 0.9917\n",
            "Epoch 12/300\n",
            "\u001b[1m28/33\u001b[0m \u001b[32m━━━━━━━━━━━━━━━━\u001b[0m\u001b[37m━━━━\u001b[0m \u001b[1m0s\u001b[0m 2ms/step - accuracy: 0.8688 - auc: 0.9456 - loss: 0.6434 - precision_at_recall80: 0.8979 \n",
            "Current LR: 0.002282\n",
            "\u001b[1m33/33\u001b[0m \u001b[32m━━━━━━━━━━━━━━━━━━━━\u001b[0m\u001b[37m\u001b[0m \u001b[1m0s\u001b[0m 4ms/step - accuracy: 0.8700 - auc: 0.9454 - loss: 0.6418 - precision_at_recall80: 0.8995 - val_accuracy: 0.8786 - val_auc: 0.9906 - val_loss: 0.6569 - val_precision_at_recall80: 0.9921\n",
            "Epoch 13/300\n",
            "\u001b[1m29/33\u001b[0m \u001b[32m━━━━━━━━━━━━━━━━━\u001b[0m\u001b[37m━━━\u001b[0m \u001b[1m0s\u001b[0m 2ms/step - accuracy: 0.9040 - auc: 0.9379 - loss: 0.6106 - precision_at_recall80: 0.9371 \n",
            "Current LR: 0.001122\n",
            "\u001b[1m33/33\u001b[0m \u001b[32m━━━━━━━━━━━━━━━━━━━━\u001b[0m\u001b[37m\u001b[0m \u001b[1m0s\u001b[0m 4ms/step - accuracy: 0.9035 - auc: 0.9392 - loss: 0.6098 - precision_at_recall80: 0.9359 - val_accuracy: 0.8786 - val_auc: 0.9880 - val_loss: 0.6428 - val_precision_at_recall80: 0.9773\n",
            "Epoch 14/300\n",
            "\u001b[1m28/33\u001b[0m \u001b[32m━━━━━━━━━━━━━━━━\u001b[0m\u001b[37m━━━━\u001b[0m \u001b[1m0s\u001b[0m 2ms/step - accuracy: 0.9083 - auc: 0.9481 - loss: 0.5963 - precision_at_recall80: 0.9149 \n",
            "Current LR: 0.000333\n",
            "\u001b[1m33/33\u001b[0m \u001b[32m━━━━━━━━━━━━━━━━━━━━\u001b[0m\u001b[37m\u001b[0m \u001b[1m0s\u001b[0m 4ms/step - accuracy: 0.9068 - auc: 0.9477 - loss: 0.5968 - precision_at_recall80: 0.9149 - val_accuracy: 0.8728 - val_auc: 0.9892 - val_loss: 0.6250 - val_precision_at_recall80: 0.9836\n",
            "Epoch 15/300\n",
            "\u001b[1m25/33\u001b[0m \u001b[32m━━━━━━━━━━━━━━━\u001b[0m\u001b[37m━━━━━\u001b[0m \u001b[1m0s\u001b[0m 2ms/step - accuracy: 0.8817 - auc: 0.9544 - loss: 0.5945 - precision_at_recall80: 0.9042 \n",
            "Current LR: 0.000007\n",
            "\u001b[1m33/33\u001b[0m \u001b[32m━━━━━━━━━━━━━━━━━━━━\u001b[0m\u001b[37m\u001b[0m \u001b[1m0s\u001b[0m 5ms/step - accuracy: 0.8803 - auc: 0.9525 - loss: 0.5952 - precision_at_recall80: 0.9040 - val_accuracy: 0.8786 - val_auc: 0.9897 - val_loss: 0.6005 - val_precision_at_recall80: 0.9918\n",
            "Epoch 16/300\n",
            "\u001b[1m23/33\u001b[0m \u001b[32m━━━━━━━━━━━━━\u001b[0m\u001b[37m━━━━━━━\u001b[0m \u001b[1m0s\u001b[0m 2ms/step - accuracy: 0.8970 - auc: 0.9565 - loss: 0.5905 - precision_at_recall80: 0.9471 \n",
            "Current LR: 0.007156\n",
            "\u001b[1m33/33\u001b[0m \u001b[32m━━━━━━━━━━━━━━━━━━━━\u001b[0m\u001b[37m\u001b[0m \u001b[1m0s\u001b[0m 4ms/step - accuracy: 0.8934 - auc: 0.9494 - loss: 0.6047 - precision_at_recall80: 0.9378 - val_accuracy: 0.8844 - val_auc: 0.9898 - val_loss: 0.6003 - val_precision_at_recall80: 0.9919\n",
            "Epoch 17/300\n",
            "\u001b[1m31/33\u001b[0m \u001b[32m━━━━━━━━━━━━━━━━━━\u001b[0m\u001b[37m━━\u001b[0m \u001b[1m0s\u001b[0m 2ms/step - accuracy: 0.8577 - auc: 0.9372 - loss: 0.6550 - precision_at_recall80: 0.8977 \n",
            "Current LR: 0.006903\n",
            "\u001b[1m33/33\u001b[0m \u001b[32m━━━━━━━━━━━━━━━━━━━━\u001b[0m\u001b[37m\u001b[0m \u001b[1m0s\u001b[0m 4ms/step - accuracy: 0.8570 - auc: 0.9371 - loss: 0.6565 - precision_at_recall80: 0.8966 - val_accuracy: 0.9017 - val_auc: 0.9877 - val_loss: 0.6259 - val_precision_at_recall80: 0.9841\n",
            "Epoch 18/300\n",
            "\u001b[1m32/33\u001b[0m \u001b[32m━━━━━━━━━━━━━━━━━━━\u001b[0m\u001b[37m━\u001b[0m \u001b[1m0s\u001b[0m 2ms/step - accuracy: 0.8509 - auc: 0.9273 - loss: 0.6953 - precision_at_recall80: 0.9005 \n",
            "Current LR: 0.006475\n",
            "\u001b[1m33/33\u001b[0m \u001b[32m━━━━━━━━━━━━━━━━━━━━\u001b[0m\u001b[37m\u001b[0m \u001b[1m0s\u001b[0m 4ms/step - accuracy: 0.8516 - auc: 0.9281 - loss: 0.6942 - precision_at_recall80: 0.9010 - val_accuracy: 0.9133 - val_auc: 0.9902 - val_loss: 0.6452 - val_precision_at_recall80: 0.9919\n",
            "Epoch 19/300\n",
            "\u001b[1m26/33\u001b[0m \u001b[32m━━━━━━━━━━━━━━━\u001b[0m\u001b[37m━━━━━\u001b[0m \u001b[1m0s\u001b[0m 2ms/step - accuracy: 0.8998 - auc: 0.9608 - loss: 0.6449 - precision_at_recall80: 0.9351 \n",
            "Current LR: 0.005896\n",
            "\u001b[1m33/33\u001b[0m \u001b[32m━━━━━━━━━━━━━━━━━━━━\u001b[0m\u001b[37m\u001b[0m \u001b[1m0s\u001b[0m 4ms/step - accuracy: 0.8941 - auc: 0.9557 - loss: 0.6492 - precision_at_recall80: 0.9265 - val_accuracy: 0.9017 - val_auc: 0.9882 - val_loss: 0.5882 - val_precision_at_recall80: 0.9771\n",
            "Epoch 20/300\n",
            "\u001b[1m27/33\u001b[0m \u001b[32m━━━━━━━━━━━━━━━━\u001b[0m\u001b[37m━━━━\u001b[0m \u001b[1m0s\u001b[0m 2ms/step - accuracy: 0.8944 - auc: 0.9545 - loss: 0.6401 - precision_at_recall80: 0.9392 \n",
            "Current LR: 0.005197\n",
            "\u001b[1m33/33\u001b[0m \u001b[32m━━━━━━━━━━━━━━━━━━━━\u001b[0m\u001b[37m\u001b[0m \u001b[1m0s\u001b[0m 5ms/step - accuracy: 0.8930 - auc: 0.9529 - loss: 0.6401 - precision_at_recall80: 0.9369 - val_accuracy: 0.8902 - val_auc: 0.9895 - val_loss: 0.5652 - val_precision_at_recall80: 0.9847\n"
          ]
        }
      ],
      "source": [
        "history = train_model(\n",
        "    model=model,\n",
        "    x_train=x_train,\n",
        "    y_train=y_train,\n",
        "    x_val=x_validation,\n",
        "    y_val=y_validation,\n",
        "    epochs=300,\n",
        "    batch_size=24\n",
        ")"
      ]
    },
    {
      "cell_type": "code",
      "execution_count": 33,
      "metadata": {
        "colab": {
          "base_uri": "https://localhost:8080/",
          "height": 548
        },
        "id": "DbVqOTDccQky",
        "outputId": "acd97743-7794-41d1-f90b-81a4902c788e"
      },
      "outputs": [
        {
          "name": "stdout",
          "output_type": "stream",
          "text": [
            "\u001b[1m6/6\u001b[0m \u001b[32m━━━━━━━━━━━━━━━━━━━━\u001b[0m\u001b[37m\u001b[0m \u001b[1m0s\u001b[0m 12ms/step - accuracy: 0.9087 - auc: 0.9921 - loss: 0.8247 - precision_at_recall80: 0.9972\n"
          ]
        },
        {
          "data": {
            "image/png": "[encoded data removed]",
            "text/plain": [
              "<Figure size 1200x500 with 3 Axes>"
            ]
          },
          "metadata": {},
          "output_type": "display_data"
        }
      ],
      "source": [
        "plot_evaluation_results(\n",
        "    results=evaluate_model(model=model, x_test=x_validation, y_test=y_validation),\n",
        "    class_names=np.unique(label_encoder.inverse_transform(y_train))\n",
        ")"
      ]
    },
    {
      "cell_type": "code",
      "execution_count": 34,
      "metadata": {
        "id": "NxfExHI0Q3Fj"
      },
      "outputs": [],
      "source": [
        "MODEL_PATH = \"models/cancer_detection_model.keras\"\n",
        "\n",
        "os.makedirs(\"models\", exist_ok=True)\n",
        "model.save(MODEL_PATH)"
      ]
    },
    {
      "cell_type": "markdown",
      "metadata": {
        "id": "-Gtz6kTitcJm"
      },
      "source": [
        "## **Inference**"
      ]
    },
    {
      "cell_type": "code",
      "execution_count": 35,
      "metadata": {
        "id": "DUx1RDn7o-LN"
      },
      "outputs": [],
      "source": [
        "loaded_model = tf.keras.models.load_model(MODEL_PATH)"
      ]
    },
    {
      "cell_type": "markdown",
      "metadata": {
        "id": "11D2uG96aFHt"
      },
      "source": [
        "### **Collect Data**"
      ]
    },
    {
      "cell_type": "code",
      "execution_count": 38,
      "metadata": {
        "id": "vZpxXgy_aHjM"
      },
      "outputs": [],
      "source": [
        "test_data = pd.read_csv(\"./datasets/lung_survey_test.csv\")"
      ]
    },
    {
      "cell_type": "markdown",
      "metadata": {
        "id": "TxdmzmaHpN16"
      },
      "source": [
        "### **Preprocessing**"
      ]
    },
    {
      "cell_type": "markdown",
      "metadata": {
        "id": "MnO-sT8uaZRg"
      },
      "source": [
        "#### **Action from Data Exploration**"
      ]
    },
    {
      "cell_type": "code",
      "execution_count": 39,
      "metadata": {
        "id": "F5P29opKpBr4"
      },
      "outputs": [],
      "source": [
        "lung_explored_test = test_data.copy()\n",
        "\n",
        "lung_explored_test.drop(\n",
        "    columns=[\"GENDER\"], inplace=True\n",
        ")"
      ]
    },
    {
      "cell_type": "markdown",
      "metadata": {
        "id": "Wv4ojE8FamJ5"
      },
      "source": [
        "#### **Format Data**"
      ]
    },
    {
      "cell_type": "code",
      "execution_count": 40,
      "metadata": {
        "colab": {
          "base_uri": "https://localhost:8080/"
        },
        "id": "KfmrW6VOZ4z1",
        "outputId": "4a591f29-a4ef-4a99-c0f0-0b815615101d"
      },
      "outputs": [
        {
          "name": "stdout",
          "output_type": "stream",
          "text": [
            "Success\n",
            "Index(['age', 'smoking', 'yellow_fingers', 'anxiety', 'peer_pressure',\n",
            "       'chronic_disease', 'fatigue', 'allergy', 'wheezing',\n",
            "       'alcohol_consuming', 'coughing', 'shortness_of_breath',\n",
            "       'swallowing_difficulty', 'chest_pain', 'lung_cancer'],\n",
            "      dtype='object')\n"
          ]
        }
      ],
      "source": [
        "lung_format_test = lung_explored_test.copy()\n",
        "\n",
        "lung_format_test = format_(dataset=lung_format_test)\n",
        "\n",
        "print(lung_format_test.columns)"
      ]
    },
    {
      "cell_type": "markdown",
      "metadata": {
        "id": "PXbwOmWQat0R"
      },
      "source": [
        "#### **Clean Data**"
      ]
    },
    {
      "cell_type": "code",
      "execution_count": 41,
      "metadata": {
        "colab": {
          "base_uri": "https://localhost:8080/"
        },
        "id": "u8osGk0tatgh",
        "outputId": "9ec1fdc4-7b41-4436-e6a1-fcff15a33cee"
      },
      "outputs": [
        {
          "name": "stdout",
          "output_type": "stream",
          "text": [
            "Success\n",
            "Total duplicates: 0\n"
          ]
        }
      ],
      "source": [
        "lung_cleaned_test = lung_format_test.copy()\n",
        "\n",
        "lung_cleaned_test = drop_duplicates_(dataset=lung_cleaned_test)"
      ]
    },
    {
      "cell_type": "markdown",
      "metadata": {
        "id": "_XObnxHAav7z"
      },
      "source": [
        "#### **Scaling**"
      ]
    },
    {
      "cell_type": "code",
      "execution_count": 42,
      "metadata": {
        "id": "4Ib25q2xaz1U"
      },
      "outputs": [],
      "source": [
        "lung_scaled_test = lung_cleaned_test.copy()\n",
        "\n",
        "lung_scaled_test[\"age\"] = scaler.transform(lung_scaled_test[[\"age\"]])"
      ]
    },
    {
      "cell_type": "markdown",
      "metadata": {
        "id": "c0cAkc1Ka4eo"
      },
      "source": [
        "#### **Encoding**"
      ]
    },
    {
      "cell_type": "code",
      "execution_count": 43,
      "metadata": {
        "colab": {
          "base_uri": "https://localhost:8080/"
        },
        "id": "H2Gzm99sa5I5",
        "outputId": "4cb22efe-2c27-4ad7-f3d1-4b11ad4d14d5"
      },
      "outputs": [
        {
          "name": "stdout",
          "output_type": "stream",
          "text": [
            "Column lung_cancer succesfully encoded in the given dataset.\n"
          ]
        }
      ],
      "source": [
        "lung_encoded_test = lung_scaled_test.copy()\n",
        "\n",
        "label_encoder, lung_encoded_test = encoding(dataset=lung_scaled_test, column_=\"lung_cancer\")"
      ]
    },
    {
      "cell_type": "markdown",
      "metadata": {
        "id": "voe3sTcwdAuX"
      },
      "source": [
        "### **Testing**"
      ]
    },
    {
      "cell_type": "code",
      "execution_count": 44,
      "metadata": {
        "id": "kmugNtwCc_Ns"
      },
      "outputs": [],
      "source": [
        "x_test = lung_scaled_test.drop(columns=[\"lung_cancer\"])\n",
        "y_test = lung_scaled_test[\"lung_cancer\"]"
      ]
    },
    {
      "cell_type": "code",
      "execution_count": 45,
      "metadata": {
        "colab": {
          "base_uri": "https://localhost:8080/",
          "height": 493
        },
        "id": "JgbE7-viR14K",
        "outputId": "8af5408a-a93a-4035-db4b-243c5b8bd7d3"
      },
      "outputs": [
        {
          "name": "stdout",
          "output_type": "stream",
          "text": [
            "\u001b[1m4/4\u001b[0m \u001b[32m━━━━━━━━━━━━━━━━━━━━\u001b[0m\u001b[37m\u001b[0m \u001b[1m1s\u001b[0m 16ms/step - accuracy: 0.8696 - auc: 0.9970 - loss: 0.7469 - precision_at_recall80: 1.0000 \n"
          ]
        },
        {
          "data": {
            "image/png": "[encoded data removed]",
            "text/plain": [
              "<Figure size 1200x500 with 3 Axes>"
            ]
          },
          "metadata": {},
          "output_type": "display_data"
        }
      ],
      "source": [
        "plot_evaluation_results(\n",
        "    results=evaluate_model(model=loaded_model, x_test=x_test, y_test=y_test),\n",
        "    class_names=np.unique(label_encoder.inverse_transform(y_train))\n",
        ")"
      ]
    }
  ],
  "metadata": {
    "accelerator": "GPU",
    "colab": {
      "gpuType": "T4",
      "provenance": []
    },
    "kernelspec": {
      "display_name": "capstone_environment",
      "language": "python",
      "name": "python3"
    },
    "language_info": {
      "codemirror_mode": {
        "name": "ipython",
        "version": 3
      },
      "file_extension": ".py",
      "mimetype": "text/x-python",
      "name": "python",
      "nbconvert_exporter": "python",
      "pygments_lexer": "ipython3",
      "version": "3.12.9"
    }
  },
  "nbformat": 4,
  "nbformat_minor": 0
}
