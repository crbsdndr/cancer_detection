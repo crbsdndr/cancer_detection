{
 "cells": [
  {
   "cell_type": "markdown",
   "id": "a2c57d27",
   "metadata": {},
   "source": [
    "# **Inference**"
   ]
  },
  {
   "cell_type": "markdown",
   "id": "171abe9e",
   "metadata": {},
   "source": [
    "## **Importing Libraries**"
   ]
  },
  {
   "cell_type": "code",
   "execution_count": 37,
   "id": "67955bdd",
   "metadata": {},
   "outputs": [],
   "source": [
    "from sklearn.metrics import confusion_matrix, recall_score, classification_report\n",
    "from sklearn.preprocessing import LabelEncoder, MinMaxScaler\n",
    "import matplotlib.pyplot as plt\n",
    "import tensorflow as tf\n",
    "import seaborn as sns\n",
    "import pandas as pd\n",
    "import numpy as np\n",
    "import os"
   ]
  },
  {
   "cell_type": "markdown",
   "id": "dbcace10",
   "metadata": {},
   "source": [
    "## **Collect Data**"
   ]
  },
  {
   "cell_type": "markdown",
   "id": "cc4bbe1c",
   "metadata": {},
   "source": [
    "### **Test**"
   ]
  },
  {
   "cell_type": "code",
   "execution_count": 38,
   "id": "9831528a",
   "metadata": {},
   "outputs": [
    {
     "name": "stdout",
     "output_type": "stream",
     "text": [
      "Dataset found locally.\n"
     ]
    }
   ],
   "source": [
    "lung_test = None\n",
    "\n",
    "test_path = os.path.join(os.getcwd(), \"datasets/lung_survey_test.csv\")\n",
    "\n",
    "if os.path.isfile(test_path):\n",
    "    lung_test = pd.read_csv(test_path)\n",
    "    print(\"Dataset found locally.\")\n",
    "\n",
    "else:\n",
    "    print(\"Dataset not found. Trying to access files online...\")\n",
    "    lung_test = pd.read_csv(\"https://raw.githubusercontent.com/crbsdndr/cancer_detection/refs/heads/main/datasets/lung_survey_test.csv\")\n",
    "\n",
    "    os.makedirs(\"datasets\", exist_ok=True)\n",
    "    lung_test.to_csv(test_path, index=False)\n",
    "    print(f\"Dataset successfully saved at: {test_path}\")"
   ]
  },
  {
   "cell_type": "markdown",
   "id": "f2a0d06e",
   "metadata": {},
   "source": [
    "### **Synthetics**"
   ]
  },
  {
   "cell_type": "code",
   "execution_count": 39,
   "id": "d4ec2f82",
   "metadata": {},
   "outputs": [
    {
     "name": "stdout",
     "output_type": "stream",
     "text": [
      "Dataset found locally.\n"
     ]
    }
   ],
   "source": [
    "lung_synthetics = None\n",
    "\n",
    "synthetics_path = os.path.join(os.getcwd(), \"datasets/lung_survey_synthetics.csv\")\n",
    "\n",
    "if os.path.isfile(synthetics_path):\n",
    "    lung_synthetics = pd.read_csv(synthetics_path)\n",
    "    print(\"Dataset found locally.\")\n",
    "\n",
    "else:\n",
    "    print(\"Dataset not found. Trying to access files online...\")\n",
    "    lung_synthetics = pd.read_csv(\"https://raw.githubusercontent.com/crbsdndr/cancer_detection/refs/heads/main/datasets/lung_survey_synthetics.csv\")\n",
    "\n",
    "    os.makedirs(\"datasets\", exist_ok=True)\n",
    "    lung_synthetics.to_csv(synthetics_path, index=False)\n",
    "    print(f\"Dataset successfully saved at: {synthetics_path}\")"
   ]
  },
  {
   "cell_type": "markdown",
   "id": "6ac7ff6c",
   "metadata": {},
   "source": [
    "## **Preprocessing**"
   ]
  },
  {
   "cell_type": "markdown",
   "id": "f4865a1e",
   "metadata": {},
   "source": [
    "### **Setting Up**"
   ]
  },
  {
   "cell_type": "code",
   "execution_count": 40,
   "id": "fd4472c5",
   "metadata": {},
   "outputs": [],
   "source": [
    "def format_(*, dataset):\n",
    "    dataset_copy = dataset.copy()\n",
    "\n",
    "    dataset_copy.columns = [column.strip().lower().replace(\" \", \"_\") for column in dataset_copy.columns]\n",
    "    print(\"Success\")\n",
    "\n",
    "    return dataset_copy\n",
    "\n",
    "def drop_duplicates_(*, dataset):\n",
    "    dataset_copy = dataset.copy()\n",
    "    dataset_copy.drop_duplicates(inplace=True)\n",
    "    dataset_copy.reset_index(drop=True, inplace=True)\n",
    "\n",
    "    print(f\"Total duplicates after drop: {dataset_copy.duplicated().sum()}\")\n",
    "\n",
    "    return dataset_copy\n",
    "\n",
    "def scale(*, dataset, column_):\n",
    "    dataset_copy = dataset.copy()\n",
    "\n",
    "    scaler = MinMaxScaler()\n",
    "\n",
    "    dataset_copy[column_] = scaler.fit_transform(dataset_copy[[column_]])\n",
    "\n",
    "    print(f\"Column {column_} succesfully scaled in the given dataset.\")\n",
    "\n",
    "    return scaler, dataset_copy\n",
    "\n",
    "def encoding(*, dataset, column_):\n",
    "    dataset_copy = dataset.copy()\n",
    "    \n",
    "    label_encoder = LabelEncoder()\n",
    "    dataset_copy[column_] = label_encoder.fit_transform(dataset_copy[column_])\n",
    "\n",
    "    print(f\"Column {column_} succesfully encoded in the given dataset.\")\n",
    "    return label_encoder, dataset"
   ]
  },
  {
   "cell_type": "markdown",
   "id": "99cdce83",
   "metadata": {},
   "source": [
    "### **Clean Data**"
   ]
  },
  {
   "cell_type": "code",
   "execution_count": 41,
   "id": "248f4014",
   "metadata": {},
   "outputs": [
    {
     "name": "stdout",
     "output_type": "stream",
     "text": [
      "Total duplicates after drop: 0\n"
     ]
    }
   ],
   "source": [
    "lung_cleaned_test = lung_test.copy()\n",
    "\n",
    "lung_cleaned_test = drop_duplicates_(dataset=lung_cleaned_test)"
   ]
  },
  {
   "cell_type": "markdown",
   "id": "3cc1af94",
   "metadata": {},
   "source": [
    "### **Scaling**"
   ]
  },
  {
   "cell_type": "code",
   "execution_count": 42,
   "id": "4b7b5b06",
   "metadata": {},
   "outputs": [
    {
     "name": "stdout",
     "output_type": "stream",
     "text": [
      "Column AGE succesfully scaled in the given dataset.\n"
     ]
    }
   ],
   "source": [
    "lung_scaled_test = lung_cleaned_test.copy()\n",
    "\n",
    "scaler, _ = scale(dataset=lung_synthetics, column_=\"AGE\")\n",
    "lung_scaled_test[\"AGE\"] = scaler.transform(lung_scaled_test[[\"AGE\"]])"
   ]
  },
  {
   "cell_type": "markdown",
   "id": "cecf5504",
   "metadata": {},
   "source": [
    "### **Encoding**"
   ]
  },
  {
   "cell_type": "code",
   "execution_count": 43,
   "id": "64f075ef",
   "metadata": {},
   "outputs": [
    {
     "name": "stdout",
     "output_type": "stream",
     "text": [
      "Column LUNG_CANCER succesfully encoded in the given dataset.\n"
     ]
    }
   ],
   "source": [
    "lung_encoded_test = lung_scaled_test.copy()\n",
    "\n",
    "encoder, lung_encoded_synthetics = encoding(dataset=lung_synthetics, column_=\"LUNG_CANCER\")\n",
    "lung_encoded_test[\"LUNG_CANCER\"] = encoder.transform(lung_encoded_test[\"LUNG_CANCER\"])"
   ]
  },
  {
   "cell_type": "markdown",
   "id": "e59bfa65",
   "metadata": {},
   "source": [
    "### **Action from Data Exploration**"
   ]
  },
  {
   "cell_type": "code",
   "execution_count": 44,
   "id": "cfa51316",
   "metadata": {},
   "outputs": [],
   "source": [
    "lung_explored_test = lung_encoded_test.copy()\n",
    "\n",
    "lung_explored_test.drop(\n",
    "    columns=[\"GENDER\"], inplace=True\n",
    ")"
   ]
  },
  {
   "cell_type": "markdown",
   "id": "43589a49",
   "metadata": {},
   "source": [
    "### **Format Data**|"
   ]
  },
  {
   "cell_type": "code",
   "execution_count": 45,
   "id": "e5b5eb1a",
   "metadata": {},
   "outputs": [
    {
     "name": "stdout",
     "output_type": "stream",
     "text": [
      "Success\n"
     ]
    }
   ],
   "source": [
    "lung_formatted_test = format_(dataset=lung_explored_test)"
   ]
  },
  {
   "cell_type": "markdown",
   "id": "0997b941",
   "metadata": {},
   "source": [
    "## **Evaluate**"
   ]
  },
  {
   "cell_type": "markdown",
   "id": "9dfb7c96",
   "metadata": {},
   "source": [
    "### **Setting Up**"
   ]
  },
  {
   "cell_type": "code",
   "execution_count": 46,
   "id": "b47b46c5",
   "metadata": {},
   "outputs": [],
   "source": [
    "plt.style.use(\"dark_background\")"
   ]
  },
  {
   "cell_type": "code",
   "execution_count": 47,
   "id": "e0fc9a51",
   "metadata": {},
   "outputs": [],
   "source": [
    "def evaluate_model(*, model, x_test, y_test):\n",
    "    y_prediction_probability = model.predict(x_test, verbose=0)\n",
    "\n",
    "    y_prediction = (y_prediction_probability > 0.5).astype(int)\n",
    "\n",
    "    test_loss, test_accuracy = model.evaluate(x_test, y_test, verbose=1)[:2]\n",
    "\n",
    "    report_dict = classification_report(y_test, y_prediction, output_dict=True, zero_division=0)\n",
    "    recall_score = report_dict[\"weighted avg\"][\"recall\"]\n",
    "\n",
    "    conf_matrix = confusion_matrix(y_test, y_prediction)\n",
    "\n",
    "    results = {\n",
    "        \"probability\": y_prediction_probability,\n",
    "        \"accuracy\": test_accuracy,\n",
    "        \"recall\": recall_score,\n",
    "        \"loss\": test_loss,\n",
    "        \"confusion_matrix\": conf_matrix\n",
    "    }\n",
    "    return results\n",
    "\n",
    "def plot_evaluation_results(results, class_names=None):\n",
    "    conf_matrix = results[\"confusion_matrix\"]\n",
    "    accuracy = results[\"accuracy\"]\n",
    "    recall = results[\"recall\"]\n",
    "    loss = results[\"loss\"]\n",
    "\n",
    "    if class_names is None:\n",
    "        class_names = [str(i) for i in range(conf_matrix.shape[0])]\n",
    "\n",
    "    fig, axes = plt.subplots(1, 2, figsize=(12, 5))\n",
    "\n",
    "    sns.heatmap(\n",
    "        conf_matrix, annot=True, fmt='d', cmap=\"Blues\",\n",
    "        xticklabels=class_names, yticklabels=class_names, ax=axes[0]\n",
    "    )\n",
    "    axes[0].set_xlabel(\"Predicted Labels\")\n",
    "    axes[0].set_ylabel(\"True Labels\")\n",
    "    axes[0].set_title(\"Confusion Matrix\")\n",
    "\n",
    "    metric_names = [\"Accuracy\", \"Recall\", \"Loss\"]\n",
    "    metric_values = [accuracy, recall, loss]\n",
    "    colors = [\"skyblue\", \"lightgreen\", \"lightcoral\"]\n",
    "    axes[1].bar(metric_names, metric_values, color=colors)\n",
    "    axes[1].set_ylim(0, 1)\n",
    "    axes[1].set_title(\"Model Evaluation Metrics\")\n",
    "\n",
    "    plt.tight_layout()\n",
    "    plt.show()"
   ]
  },
  {
   "cell_type": "markdown",
   "id": "ffa94934",
   "metadata": {},
   "source": [
    "### **Load Model**"
   ]
  },
  {
   "cell_type": "code",
   "execution_count": 48,
   "id": "e7f7e0ac",
   "metadata": {},
   "outputs": [],
   "source": [
    "MODEL_PATH = \"models/cancer_detection_model.keras\"\n",
    "loaded_model = tf.keras.models.load_model(MODEL_PATH)"
   ]
  },
  {
   "cell_type": "markdown",
   "id": "24bbb01b",
   "metadata": {},
   "source": [
    "### **Data Splitting**"
   ]
  },
  {
   "cell_type": "code",
   "execution_count": 49,
   "id": "49c02787",
   "metadata": {},
   "outputs": [],
   "source": [
    "x = lung_formatted_test.drop(columns=\"lung_cancer\")\n",
    "y = lung_formatted_test[\"lung_cancer\"]"
   ]
  },
  {
   "cell_type": "markdown",
   "id": "4cb3858e",
   "metadata": {},
   "source": [
    "### **Evaluation Result**"
   ]
  },
  {
   "cell_type": "code",
   "execution_count": 50,
   "id": "532df65f",
   "metadata": {},
   "outputs": [
    {
     "name": "stdout",
     "output_type": "stream",
     "text": [
      "WARNING:tensorflow:5 out of the last 21 calls to <function TensorFlowTrainer.make_predict_function.<locals>.one_step_on_data_distributed at 0x0000016023013F60> triggered tf.function retracing. Tracing is expensive and the excessive number of tracings could be due to (1) creating @tf.function repeatedly in a loop, (2) passing tensors with different shapes, (3) passing Python objects instead of tensors. For (1), please define your @tf.function outside of the loop. For (2), @tf.function has reduce_retracing=True option that can avoid unnecessary retracing. For (3), please refer to https://www.tensorflow.org/guide/function#controlling_retracing and https://www.tensorflow.org/api_docs/python/tf/function for  more details.\n",
      "\u001b[1m4/4\u001b[0m \u001b[32m━━━━━━━━━━━━━━━━━━━━\u001b[0m\u001b[37m\u001b[0m \u001b[1m0s\u001b[0m 9ms/step - accuracy: 0.8645 - auc: 0.8645 - loss: 2.4295 - precision_at_recall80: 0.8645  \n"
     ]
    },
    {
     "data": {
      "image/png": "[encoded data removed]",
      "text/plain": [
       "<Figure size 1200x500 with 3 Axes>"
      ]
     },
     "metadata": {},
     "output_type": "display_data"
    }
   ],
   "source": [
    "plot_evaluation_results(\n",
    "    results=evaluate_model(model=loaded_model, x_test=x, y_test=y),\n",
    "    class_names=np.unique(lung_encoded_synthetics[\"LUNG_CANCER\"])\n",
    ")"
   ]
  }
 ],
 "metadata": {
  "kernelspec": {
   "display_name": "capstone_environment",
   "language": "python",
   "name": "python3"
  },
  "language_info": {
   "codemirror_mode": {
    "name": "ipython",
    "version": 3
   },
   "file_extension": ".py",
   "mimetype": "text/x-python",
   "name": "python",
   "nbconvert_exporter": "python",
   "pygments_lexer": "ipython3",
   "version": "3.12.9"
  }
 },
 "nbformat": 4,
 "nbformat_minor": 5
}
